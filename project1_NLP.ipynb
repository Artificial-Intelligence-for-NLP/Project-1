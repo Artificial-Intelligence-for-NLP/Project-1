{
 "cells": [
  {
   "cell_type": "markdown",
   "metadata": {},
   "source": [
    "# 文本相似性检测与抄袭判断"
   ]
  },
  {
   "cell_type": "markdown",
   "metadata": {},
   "source": [
    "# 一. 导入数据"
   ]
  },
  {
   "cell_type": "code",
   "execution_count": 1,
   "metadata": {},
   "outputs": [],
   "source": [
    "import pandas as pd\n",
    "import jieba\n",
    "import numpy as np"
   ]
  },
  {
   "cell_type": "code",
   "execution_count": 2,
   "metadata": {},
   "outputs": [],
   "source": [
    "# 让结果在notebook中显示\n",
    "%matplotlib inline"
   ]
  },
  {
   "cell_type": "code",
   "execution_count": 3,
   "metadata": {},
   "outputs": [],
   "source": [
    "content = pd.read_csv('/Users/xingke/Documents/NLP/1/sqlResult_1558435.csv',encoding='gb18030')"
   ]
  },
  {
   "cell_type": "code",
   "execution_count": 4,
   "metadata": {
    "scrolled": true
   },
   "outputs": [
    {
     "data": {
      "text/plain": [
       "0    此外，自本周（6月12日）起，除小米手机6等15款机型外，其余机型已暂停更新发布（含开发版/...\n",
       "1    骁龙835作为唯一通过Windows 10桌面平台认证的ARM处理器，高通强调，不会因为只考...\n",
       "2    此前的一加3T搭载的是3400mAh电池，DashCharge快充规格为5V/4A。\\r\\n...\n",
       "3      这是6月18日在葡萄牙中部大佩德罗冈地区拍摄的被森林大火烧毁的汽车。新华社记者张立云摄\\r\\n\n",
       "4    （原标题：44岁女子跑深圳约会网友被拒，暴雨中裸身奔走……）\\r\\n@深圳交警微博称：昨日清...\n",
       "Name: content, dtype: object"
      ]
     },
     "execution_count": 4,
     "metadata": {},
     "output_type": "execute_result"
    }
   ],
   "source": [
    "content['content'].head()"
   ]
  },
  {
   "cell_type": "markdown",
   "metadata": {},
   "source": [
    "# 二. 分析数据"
   ]
  },
  {
   "cell_type": "code",
   "execution_count": 5,
   "metadata": {},
   "outputs": [],
   "source": [
    "def cut(string): return list(jieba.cut(string))"
   ]
  },
  {
   "cell_type": "code",
   "execution_count": 6,
   "metadata": {},
   "outputs": [],
   "source": [
    "from sklearn.feature_extraction.text import TfidfVectorizer"
   ]
  },
  {
   "cell_type": "code",
   "execution_count": 7,
   "metadata": {},
   "outputs": [
    {
     "data": {
      "text/plain": [
       "0    此外，自本周（6月12日）起，除小米手机6等15款机型外，其余机型已暂停更新发布（含开发版/...\n",
       "1    骁龙835作为唯一通过Windows 10桌面平台认证的ARM处理器，高通强调，不会因为只考...\n",
       "2    此前的一加3T搭载的是3400mAh电池，DashCharge快充规格为5V/4A。\\r\\n...\n",
       "3      这是6月18日在葡萄牙中部大佩德罗冈地区拍摄的被森林大火烧毁的汽车。新华社记者张立云摄\\r\\n\n",
       "4    （原标题：44岁女子跑深圳约会网友被拒，暴雨中裸身奔走……）\\r\\n@深圳交警微博称：昨日清...\n",
       "Name: content, dtype: object"
      ]
     },
     "execution_count": 7,
     "metadata": {},
     "output_type": "execute_result"
    }
   ],
   "source": [
    "feature = content['content'][:25000]\n",
    "feature.head()"
   ]
  },
  {
   "cell_type": "code",
   "execution_count": 8,
   "metadata": {
    "scrolled": true
   },
   "outputs": [
    {
     "data": {
      "text/plain": [
       "0    快科技@http://www.kkj.cn/\n",
       "1    快科技@http://www.kkj.cn/\n",
       "2    快科技@http://www.kkj.cn/\n",
       "3                       新华社\n",
       "4                     深圳大件事\n",
       "Name: source, dtype: object"
      ]
     },
     "execution_count": 8,
     "metadata": {},
     "output_type": "execute_result"
    }
   ],
   "source": [
    "target = content['source'][:25000]\n",
    "target.head()"
   ]
  },
  {
   "cell_type": "code",
   "execution_count": 9,
   "metadata": {
    "scrolled": false
   },
   "outputs": [],
   "source": [
    "#划分测试集和验证集\n",
    "from sklearn.model_selection import train_test_split\n",
    "\n",
    "X_train, X_test, y_train, y_test = train_test_split(feature,target,test_size = 0.2,random_state = 1) \n"
   ]
  },
  {
   "cell_type": "code",
   "execution_count": 10,
   "metadata": {},
   "outputs": [],
   "source": [
    "corpus_train_before = X_train.values.tolist()\n",
    "target_train_before = y_train.values.tolist()\n",
    "corpus_test_before = X_test.values.tolist()\n",
    "target_test_before = y_test.values.tolist()"
   ]
  },
  {
   "cell_type": "code",
   "execution_count": 11,
   "metadata": {
    "scrolled": true
   },
   "outputs": [
    {
     "data": {
      "text/plain": [
       "['点击图片进入下一页\\r\\n洪秀柱（图片来源网络）\\r\\n中国台湾网6月22日讯\\u3000中华文化在评断历史人物时，不在于他的成败，而在于他留下了什么样的政治遗产与人格典范。台湾《旺报》发表评论指出，台湾民主化后，国民党曾两次掌握政权，第一次是李登辉，事后来看，他带头摧毁了国民党的信仰、论述与立场；第二次是马英九，执政8年不能令人完全满意。而洪秀柱在其国民党主席任内做了一件自蒋经国以后没有任何国民党主席做过的事，她不仅在台湾内部，更在出席海峡论坛时，公开以国民党主席的身份宣示“我是台湾人，也是中国人”。\\r\\n2015年4月洪秀柱以争取国民党领导人候选人身份出现在政治舞台，第一份政策说明书就直指两岸关系，认为两岸关系应该深化，才可能结束敌对状态。洪秀柱任内一直持此立场，包括去年党代会通过的“国民党和平政纲”，即以“深化九二共识”为核心内涵。\\r\\n评论指出，洪秀柱这两个“深化九二共识”的内涵，一是两岸和平路径，一是台湾民众应有“我是台湾人，也是中国人”的身份认同，这是她留给中国国民党的政治遗产。若其后任者能够持续坚持这个立场，国民党就还是“中国国民党”。历史会如此记载：她是一位勇于捍卫中国国民党核心目标的国民党主席。\\r\\n评论说，洪秀柱即将在6月底主动提早离任国民党主席，这不是任期正式结束的时间点，而是较原本任期届满提早50天去职，反映出的正是她这短短近一年半任期内所面临的困局。国民党内僵化的思想、固化的组织、高层的路线斗争，让洪秀柱近3年来一直处于被“换”的困局，始终有志难伸。\\r\\n',\n",
       " '\\u3000\\u3000本网站所刊登的所有内容, 包括但不限于图片、文字及多媒体形式的新闻、信息等, 未经著作权人合法授权, 禁止一切形式的下载、转载使用或者建立镜像。获得合法授权的, 应在授权范围内使用, 必须为作者署名并注明“来源: 成都商报”字样。违反上述声明者, 本网将依法追究其相关法律责任。 \\u3000\\u3000侵权举报电话: 028-86783636\\r\\n']"
      ]
     },
     "execution_count": 11,
     "metadata": {},
     "output_type": "execute_result"
    }
   ],
   "source": [
    "corpus_train_before[:2]"
   ]
  },
  {
   "cell_type": "code",
   "execution_count": 12,
   "metadata": {
    "scrolled": false
   },
   "outputs": [],
   "source": [
    "#定义移除stopword函数\n",
    "def removestop(c):\n",
    "    text = cut(str(c))\n",
    "    stopw = [line.strip() for line in open('/Users/xingke/Documents/NLP/chinese_stopwords.txt').readlines()]\n",
    "    e = [word for word in text if word not in stopw] \n",
    "    result = ''.join(e)\n",
    "    #print(type(e))\n",
    "    return result\n",
    "\n",
    "#for i in range(len(corpus_train)):"
   ]
  },
  {
   "cell_type": "code",
   "execution_count": 13,
   "metadata": {
    "scrolled": true
   },
   "outputs": [
    {
     "name": "stderr",
     "output_type": "stream",
     "text": [
      "Building prefix dict from the default dictionary ...\n",
      "Loading model from cache /var/folders/4c/81354wk90fq8b6y7s4355yf00000gq/T/jieba.cache\n",
      "Loading model cost 1.399 seconds.\n",
      "Prefix dict has been built succesfully.\n"
     ]
    }
   ],
   "source": [
    "corpus_train_rm = [removestop(c) for c in corpus_train_before]\n"
   ]
  },
  {
   "cell_type": "code",
   "execution_count": 14,
   "metadata": {},
   "outputs": [],
   "source": [
    "corpus_test_rm = [removestop(c) for c in corpus_test_before]\n",
    "#corpus_train = [''.join(cut(str(c))) for c in corpus_train]\n",
    "#corpus_test = [''.join(cut(str(c))) for c in corpus_test]\n"
   ]
  },
  {
   "cell_type": "code",
   "execution_count": 15,
   "metadata": {},
   "outputs": [],
   "source": [
    "target_train_rm = [removestop(c) for c in target_train_before]\n"
   ]
  },
  {
   "cell_type": "code",
   "execution_count": 16,
   "metadata": {},
   "outputs": [],
   "source": [
    "target_test_rm = [removestop(c) for c in target_test_before]"
   ]
  },
  {
   "cell_type": "code",
   "execution_count": 17,
   "metadata": {
    "scrolled": false
   },
   "outputs": [
    {
     "data": {
      "text/plain": [
       "['点击图片进入一页\\r\\n洪秀柱图片来源网络\\r\\n中国台湾网22日讯\\u3000中华文化评断历史人物在于成败在于留下政治遗产人格典范台湾旺报发表评论指出台湾民主化国民党两次掌握政权第一次李登辉事后来看带头摧毁国民党信仰论述立场第二次马英九执政不能令人完全满意洪秀柱国民党主席任内一件蒋经国以后没有国民党主席做过事不仅台湾内部出席海峡论坛公开国民党主席身份宣示台湾人中国\\r\\n2015洪秀柱争取国民党领导人候选人身份出现政治舞台第一份政策说明书直指两岸关系认为两岸关系应该深化才可能结束敌对状态洪秀柱任内一直持此立场包括去年党代会国民党和平政纲即以深化九二共识核心内涵\\r\\n评论指出洪秀柱两个深化九二共识内涵一是两岸和平路径一是台湾民众应有台湾人中国身份认同留给中国国民党政治遗产若后任能够持续坚持立场国民党中国国民党历史记载一位勇于捍卫中国国民党核心目标国民党主席\\r\\n评论洪秀柱即将月底主动提早离任国民党主席不是任期正式结束时间点原本任期届满提早50天去职反映出正是短短近一年半任期内所面临困局国民党僵化思想固化组织高层路线斗争洪秀柱近年来一直处于换困局始终有志难伸\\r\\n',\n",
       " '\\u3000\\u3000本网站刊登所有内容, 包括限于图片文字多媒体形式新闻信息, 未经著作权人合法授权, 禁止形式下载转载使用建立镜像获得合法授权, 应授权范围使用, 必须作者署名注明来源 成都商报字样违反上述声明者, 本网将依法追究相关法律责任 \\u3000\\u3000侵权举报电话 02886783636\\r\\n']"
      ]
     },
     "execution_count": 17,
     "metadata": {},
     "output_type": "execute_result"
    }
   ],
   "source": [
    "corpus_train_rm[:2]"
   ]
  },
  {
   "cell_type": "code",
   "execution_count": 18,
   "metadata": {
    "scrolled": true
   },
   "outputs": [
    {
     "data": {
      "text/plain": [
       "['中国台湾网', '成都商报版']"
      ]
     },
     "execution_count": 18,
     "metadata": {},
     "output_type": "execute_result"
    }
   ],
   "source": [
    "target_train_rm[:2]"
   ]
  },
  {
   "cell_type": "code",
   "execution_count": 19,
   "metadata": {},
   "outputs": [],
   "source": [
    "vectorize = TfidfVectorizer()"
   ]
  },
  {
   "cell_type": "code",
   "execution_count": 20,
   "metadata": {
    "scrolled": false
   },
   "outputs": [],
   "source": [
    "corpus_train = vectorize.fit_transform(corpus_train_rm)\n",
    "\n",
    "vectorize2 = TfidfVectorizer(vocabulary = vectorize.vocabulary_)  \n",
    " \n",
    "corpus_test = vectorize2.fit_transform(corpus_test_rm)"
   ]
  },
  {
   "cell_type": "code",
   "execution_count": 21,
   "metadata": {
    "scrolled": true
   },
   "outputs": [
    {
     "data": {
      "text/plain": [
       "<1x150625 sparse matrix of type '<class 'numpy.float64'>'\n",
       "\twith 7 stored elements in Compressed Sparse Row format>"
      ]
     },
     "execution_count": 21,
     "metadata": {},
     "output_type": "execute_result"
    }
   ],
   "source": [
    "corpus_train[0]"
   ]
  },
  {
   "cell_type": "code",
   "execution_count": 22,
   "metadata": {},
   "outputs": [],
   "source": [
    "#将target标签改成如果是新华社发布的文章是1，不是新华社的文章是0的一维array\n",
    "target_train_list = []\n",
    "target_test_list = []\n",
    "for x in target_train_rm:\n",
    "    if x == '新华网' or x == '新华社':\n",
    "        target_train_list.append(1)\n",
    "    else:\n",
    "        target_train_list.append(0)\n",
    "\n",
    "for x in target_test_rm:\n",
    "    if x == '新华网' or x =='新华社':\n",
    "        target_test_list.append(1)\n",
    "    else:\n",
    "        target_test_list.append(0)\n",
    "\n",
    "target_train_array = np.array(target_train_list)\n",
    "target_test_array = np.array(target_test_list)\n",
    "#target_train_array"
   ]
  },
  {
   "cell_type": "code",
   "execution_count": 23,
   "metadata": {},
   "outputs": [],
   "source": [
    "corpus_train_array = corpus_train.toarray()\n",
    "corpus_test_array = corpus_test.toarray()\n"
   ]
  },
  {
   "cell_type": "code",
   "execution_count": 24,
   "metadata": {
    "scrolled": true
   },
   "outputs": [
    {
     "data": {
      "text/plain": [
       "(20000, 150625)"
      ]
     },
     "execution_count": 24,
     "metadata": {},
     "output_type": "execute_result"
    }
   ],
   "source": [
    "np.shape(corpus_train_array)\n"
   ]
  },
  {
   "cell_type": "code",
   "execution_count": 25,
   "metadata": {},
   "outputs": [
    {
     "data": {
      "text/plain": [
       "(5000, 150625)"
      ]
     },
     "execution_count": 25,
     "metadata": {},
     "output_type": "execute_result"
    }
   ],
   "source": [
    "np.shape(corpus_test_array)"
   ]
  },
  {
   "cell_type": "code",
   "execution_count": 61,
   "metadata": {
    "scrolled": true
   },
   "outputs": [
    {
     "data": {
      "text/plain": [
       "['00',\n",
       " '000',\n",
       " '00000最后0',\n",
       " '00035',\n",
       " '00064使用不同密度温度系数计算实测油温密度大相径庭计算结果差异实测温度基点温度距离扩大越来越实到重量并非真发生短少',\n",
       " '000万',\n",
       " '000万元',\n",
       " '000万元上年同期相比增加115',\n",
       " '000万元扣除发行费用募集资金拟投资以下项目宝鸡高新区污水处理厂tot',\n",
       " '000万元本次配套融资募集资金依次用于支付本次交易现金对价本次重组相关费用嘉力达项目建设']"
      ]
     },
     "execution_count": 61,
     "metadata": {},
     "output_type": "execute_result"
    }
   ],
   "source": [
    "analyze = vectorize.build_analyzer()  \n",
    "vectorize.get_feature_names()[:10]#statistical features/terms"
   ]
  },
  {
   "cell_type": "markdown",
   "metadata": {},
   "source": [
    "# 三. 模型衡量标准"
   ]
  },
  {
   "cell_type": "code",
   "execution_count": 27,
   "metadata": {},
   "outputs": [],
   "source": [
    "#选取精准率、召回率、f1-score和准确度4个参数（以准确度大于0.92为最低标准）\n",
    "def calculate_result(actual,pred):  \n",
    "    m_precision = metrics.precision_score(actual,pred);  \n",
    "    m_recall = metrics.recall_score(actual,pred);  \n",
    "    print('predict info:')  \n",
    "    print('precision:{0:.3f}'.format(m_precision))  \n",
    "    print('recall:{0:0.3f}'.format(m_recall))  \n",
    "    print('f1-score:{0:.3f}'.format(metrics.f1_score(actual,pred)))\n",
    "    print('accuracy:{0:.3f}'.format(metrics.accuracy_score(actual, pred)))"
   ]
  },
  {
   "cell_type": "markdown",
   "metadata": {},
   "source": [
    "# 四. 选择模型预测"
   ]
  },
  {
   "cell_type": "markdown",
   "metadata": {},
   "source": [
    "### 由于电脑运算速度的限制，Knn 和 svm的方法都无法在大量数据时跑出结果。在2000个数据分析得出结果，NB结果较好，因此采用Multinomial Naive Bayes Classifier  进行分类。"
   ]
  },
  {
   "cell_type": "code",
   "execution_count": 28,
   "metadata": {
    "scrolled": false
   },
   "outputs": [
    {
     "name": "stdout",
     "output_type": "stream",
     "text": [
      "*************************\n",
      "Naive Bayes\n",
      "*************************\n",
      "predict info:\n",
      "precision:0.857\n",
      "recall:0.982\n",
      "f1-score:0.915\n",
      "accuracy:0.897\n"
     ]
    }
   ],
   "source": [
    "######################################################  \n",
    "#Multinomial Naive Bayes Classifier  \n",
    "print ('*************************\\nNaive Bayes\\n*************************')  \n",
    "from sklearn.naive_bayes import MultinomialNB  \n",
    "from sklearn import metrics  \n",
    "import matplotlib.pyplot as plt\n",
    " \n",
    "#create the Multinomial Naive Bayesian Classifier  \n",
    "clf = MultinomialNB(alpha = 0.01)   \n",
    "clf.fit(corpus_train_array,target_train_array) \n",
    "pred = clf.predict(corpus_test_array) \n",
    "calculate_result(target_test_array,pred)  \n",
    "#notice here we can see that f1_score is not equal to 2*precision*recall/(precision+recall)  \n",
    "#because the m_precision and m_recall we get is averaged, however, metrics.f1_score() calculates  \n",
    "#weithed average, i.e., takes into the number of each class into consideration.  "
   ]
  },
  {
   "cell_type": "code",
   "execution_count": 29,
   "metadata": {
    "scrolled": false
   },
   "outputs": [],
   "source": [
    "######################################################  \n",
    "#KNN Classifier  \n",
    "#from sklearn.neighbors import KNeighborsClassifier  \n",
    "#print('*************************\\nKNN\\n*************************')  \n",
    "#knnclf = KNeighborsClassifier()#default with k=5  \n",
    "#knnclf.fit(corpus_train_array,target_train_array)  \n",
    "#pred = knnclf.predict(corpus_test_array)  \n",
    "#print(pred)\n",
    "#print(target_test_array)\n",
    "#calculate_result(target_test_array,pred)  "
   ]
  },
  {
   "cell_type": "code",
   "execution_count": 30,
   "metadata": {
    "scrolled": true
   },
   "outputs": [],
   "source": [
    "#SVM Classifier  \n",
    "#from sklearn.svm import SVC  \n",
    "#print('*************************\\nSVM\\n*************************')\n",
    "#svclf = SVC(kernel = 'linear')#default with 'rbf'  \n",
    "#svclf.fit(corpus_train_array,target_train_array)  \n",
    "#pred = svclf.predict(corpus_test_array);  \n",
    "#calculate_result(target_test_array,pred);"
   ]
  },
  {
   "cell_type": "code",
   "execution_count": 31,
   "metadata": {
    "scrolled": false
   },
   "outputs": [],
   "source": [
    "#KMeans Cluster  \n",
    "#from sklearn.cluster import KMeans  \n",
    "#print('*************************\\nKMeans\\n*************************')  \n",
    "#pred = KMeans(n_clusters=20)  \n",
    "#pred.fit((corpus_test_array)) \n",
    "#print(pred.labels_)\n",
    "#print(target_test_array)\n",
    "#calculate_result(target_test_array,pred.labels_)         "
   ]
  },
  {
   "cell_type": "markdown",
   "metadata": {},
   "source": [
    "   \n",
    "# 五.抄袭判定"
   ]
  },
  {
   "cell_type": "code",
   "execution_count": 32,
   "metadata": {
    "scrolled": true
   },
   "outputs": [],
   "source": [
    "id_kinds = {text_id: kind_id for text_id,kind_id in enumerate(target_test_array)}"
   ]
  },
  {
   "cell_type": "code",
   "execution_count": 33,
   "metadata": {},
   "outputs": [],
   "source": [
    "from collections import defaultdict"
   ]
  },
  {
   "cell_type": "code",
   "execution_count": 34,
   "metadata": {},
   "outputs": [],
   "source": [
    "kind_ids = defaultdict(lambda:set())"
   ]
  },
  {
   "cell_type": "code",
   "execution_count": 35,
   "metadata": {},
   "outputs": [],
   "source": [
    "for text_id,kind_id in id_kinds.items():\n",
    "    kind_ids[kind_id].add(text_id)"
   ]
  },
  {
   "cell_type": "code",
   "execution_count": 36,
   "metadata": {},
   "outputs": [],
   "source": [
    "import editdistance"
   ]
  },
  {
   "cell_type": "code",
   "execution_count": 37,
   "metadata": {},
   "outputs": [],
   "source": [
    "def get_edit_distance(str1, str2): return editdistance.eval(cut(str1), cut(str2))"
   ]
  },
  {
   "cell_type": "code",
   "execution_count": 38,
   "metadata": {},
   "outputs": [
    {
     "data": {
      "text/plain": [
       "array([1, 0, 1, 1, 0, 0, 1, 1, 1, 0, 0, 1, 1, 1, 0, 1, 0, 0, 0, 1, 1, 1,\n",
       "       1, 1, 0, 1, 1, 1, 1, 0, 1, 1, 1, 0, 1, 1, 1, 1, 1, 1, 0, 1, 1, 1,\n",
       "       1, 0, 1, 0, 1, 1])"
      ]
     },
     "execution_count": 38,
     "metadata": {},
     "output_type": "execute_result"
    }
   ],
   "source": [
    "pred[:50]"
   ]
  },
  {
   "cell_type": "code",
   "execution_count": 39,
   "metadata": {},
   "outputs": [
    {
     "data": {
      "text/plain": [
       "array([1, 0, 1, 1, 0, 0, 1, 1, 1, 0, 0, 1, 1, 1, 0, 0, 0, 0, 0, 1, 1, 1,\n",
       "       1, 1, 0, 1, 1, 1, 1, 0, 1, 0, 1, 0, 1, 1, 1, 1, 1, 1, 0, 1, 0, 0,\n",
       "       1, 0, 1, 0, 1, 1])"
      ]
     },
     "execution_count": 39,
     "metadata": {},
     "output_type": "execute_result"
    }
   ],
   "source": [
    "target_test_array[:50]"
   ]
  },
  {
   "cell_type": "code",
   "execution_count": 40,
   "metadata": {
    "scrolled": true
   },
   "outputs": [],
   "source": [
    "list_caoxi = [i for i in range(len(pred)) if (target_test_array-pred)[i] == -1]"
   ]
  },
  {
   "cell_type": "code",
   "execution_count": 62,
   "metadata": {
    "scrolled": false
   },
   "outputs": [
    {
     "data": {
      "text/plain": [
       "[15, 31, 42, 43, 68, 71, 75, 81, 84, 108]"
      ]
     },
     "execution_count": 62,
     "metadata": {},
     "output_type": "execute_result"
    }
   ],
   "source": [
    "list_caoxi[:10]"
   ]
  },
  {
   "cell_type": "code",
   "execution_count": 48,
   "metadata": {},
   "outputs": [],
   "source": [
    "result = []\n",
    "for j in list(kind_ids[1]):\n",
    "    result.append(get_edit_distance(feature[2],feature[1]))"
   ]
  },
  {
   "cell_type": "code",
   "execution_count": 50,
   "metadata": {
    "scrolled": false
   },
   "outputs": [
    {
     "ename": "AttributeError",
     "evalue": "'float' object has no attribute 'decode'",
     "output_type": "error",
     "traceback": [
      "\u001b[0;31m---------------------------------------------------------------------------\u001b[0m",
      "\u001b[0;31mAttributeError\u001b[0m                            Traceback (most recent call last)",
      "\u001b[0;32m<ipython-input-50-223b5c75b172>\u001b[0m in \u001b[0;36m<module>\u001b[0;34m()\u001b[0m\n\u001b[0;32m----> 1\u001b[0;31m \u001b[0mresult\u001b[0m \u001b[0;34m=\u001b[0m \u001b[0;34m[\u001b[0m\u001b[0;34m[\u001b[0m\u001b[0mget_edit_distance\u001b[0m\u001b[0;34m(\u001b[0m\u001b[0mfeature\u001b[0m\u001b[0;34m[\u001b[0m\u001b[0mi\u001b[0m\u001b[0;34m]\u001b[0m\u001b[0;34m,\u001b[0m\u001b[0mfeature\u001b[0m\u001b[0;34m[\u001b[0m\u001b[0mj\u001b[0m\u001b[0;34m]\u001b[0m\u001b[0;34m)\u001b[0m \u001b[0;32mfor\u001b[0m \u001b[0mj\u001b[0m \u001b[0;32min\u001b[0m \u001b[0mlist\u001b[0m\u001b[0;34m(\u001b[0m\u001b[0mkind_ids\u001b[0m\u001b[0;34m[\u001b[0m\u001b[0;36m1\u001b[0m\u001b[0;34m]\u001b[0m\u001b[0;34m)\u001b[0m\u001b[0;34m]\u001b[0m \u001b[0;32mfor\u001b[0m \u001b[0mi\u001b[0m \u001b[0;32min\u001b[0m \u001b[0mlist_caoxi\u001b[0m\u001b[0;34m]\u001b[0m\u001b[0;34m\u001b[0m\u001b[0m\n\u001b[0m",
      "\u001b[0;32m<ipython-input-50-223b5c75b172>\u001b[0m in \u001b[0;36m<listcomp>\u001b[0;34m(.0)\u001b[0m\n\u001b[0;32m----> 1\u001b[0;31m \u001b[0mresult\u001b[0m \u001b[0;34m=\u001b[0m \u001b[0;34m[\u001b[0m\u001b[0;34m[\u001b[0m\u001b[0mget_edit_distance\u001b[0m\u001b[0;34m(\u001b[0m\u001b[0mfeature\u001b[0m\u001b[0;34m[\u001b[0m\u001b[0mi\u001b[0m\u001b[0;34m]\u001b[0m\u001b[0;34m,\u001b[0m\u001b[0mfeature\u001b[0m\u001b[0;34m[\u001b[0m\u001b[0mj\u001b[0m\u001b[0;34m]\u001b[0m\u001b[0;34m)\u001b[0m \u001b[0;32mfor\u001b[0m \u001b[0mj\u001b[0m \u001b[0;32min\u001b[0m \u001b[0mlist\u001b[0m\u001b[0;34m(\u001b[0m\u001b[0mkind_ids\u001b[0m\u001b[0;34m[\u001b[0m\u001b[0;36m1\u001b[0m\u001b[0;34m]\u001b[0m\u001b[0;34m)\u001b[0m\u001b[0;34m]\u001b[0m \u001b[0;32mfor\u001b[0m \u001b[0mi\u001b[0m \u001b[0;32min\u001b[0m \u001b[0mlist_caoxi\u001b[0m\u001b[0;34m]\u001b[0m\u001b[0;34m\u001b[0m\u001b[0m\n\u001b[0m",
      "\u001b[0;32m<ipython-input-50-223b5c75b172>\u001b[0m in \u001b[0;36m<listcomp>\u001b[0;34m(.0)\u001b[0m\n\u001b[0;32m----> 1\u001b[0;31m \u001b[0mresult\u001b[0m \u001b[0;34m=\u001b[0m \u001b[0;34m[\u001b[0m\u001b[0;34m[\u001b[0m\u001b[0mget_edit_distance\u001b[0m\u001b[0;34m(\u001b[0m\u001b[0mfeature\u001b[0m\u001b[0;34m[\u001b[0m\u001b[0mi\u001b[0m\u001b[0;34m]\u001b[0m\u001b[0;34m,\u001b[0m\u001b[0mfeature\u001b[0m\u001b[0;34m[\u001b[0m\u001b[0mj\u001b[0m\u001b[0;34m]\u001b[0m\u001b[0;34m)\u001b[0m \u001b[0;32mfor\u001b[0m \u001b[0mj\u001b[0m \u001b[0;32min\u001b[0m \u001b[0mlist\u001b[0m\u001b[0;34m(\u001b[0m\u001b[0mkind_ids\u001b[0m\u001b[0;34m[\u001b[0m\u001b[0;36m1\u001b[0m\u001b[0;34m]\u001b[0m\u001b[0;34m)\u001b[0m\u001b[0;34m]\u001b[0m \u001b[0;32mfor\u001b[0m \u001b[0mi\u001b[0m \u001b[0;32min\u001b[0m \u001b[0mlist_caoxi\u001b[0m\u001b[0;34m]\u001b[0m\u001b[0;34m\u001b[0m\u001b[0m\n\u001b[0m",
      "\u001b[0;32m<ipython-input-37-00b8768c1047>\u001b[0m in \u001b[0;36mget_edit_distance\u001b[0;34m(str1, str2)\u001b[0m\n\u001b[0;32m----> 1\u001b[0;31m \u001b[0;32mdef\u001b[0m \u001b[0mget_edit_distance\u001b[0m\u001b[0;34m(\u001b[0m\u001b[0mstr1\u001b[0m\u001b[0;34m,\u001b[0m \u001b[0mstr2\u001b[0m\u001b[0;34m)\u001b[0m\u001b[0;34m:\u001b[0m \u001b[0;32mreturn\u001b[0m \u001b[0meditdistance\u001b[0m\u001b[0;34m.\u001b[0m\u001b[0meval\u001b[0m\u001b[0;34m(\u001b[0m\u001b[0mcut\u001b[0m\u001b[0;34m(\u001b[0m\u001b[0mstr1\u001b[0m\u001b[0;34m)\u001b[0m\u001b[0;34m,\u001b[0m \u001b[0mcut\u001b[0m\u001b[0;34m(\u001b[0m\u001b[0mstr2\u001b[0m\u001b[0;34m)\u001b[0m\u001b[0;34m)\u001b[0m\u001b[0;34m\u001b[0m\u001b[0m\n\u001b[0m",
      "\u001b[0;32m<ipython-input-5-149cbfc2f185>\u001b[0m in \u001b[0;36mcut\u001b[0;34m(string)\u001b[0m\n\u001b[0;32m----> 1\u001b[0;31m \u001b[0;32mdef\u001b[0m \u001b[0mcut\u001b[0m\u001b[0;34m(\u001b[0m\u001b[0mstring\u001b[0m\u001b[0;34m)\u001b[0m\u001b[0;34m:\u001b[0m \u001b[0;32mreturn\u001b[0m \u001b[0mlist\u001b[0m\u001b[0;34m(\u001b[0m\u001b[0mjieba\u001b[0m\u001b[0;34m.\u001b[0m\u001b[0mcut\u001b[0m\u001b[0;34m(\u001b[0m\u001b[0mstring\u001b[0m\u001b[0;34m)\u001b[0m\u001b[0;34m)\u001b[0m\u001b[0;34m\u001b[0m\u001b[0m\n\u001b[0m",
      "\u001b[0;32m~/anaconda2/envs/py3/lib/python3.6/site-packages/jieba/__init__.py\u001b[0m in \u001b[0;36mcut\u001b[0;34m(self, sentence, cut_all, HMM)\u001b[0m\n\u001b[1;32m    280\u001b[0m             \u001b[0;34m-\u001b[0m \u001b[0mHMM\u001b[0m\u001b[0;34m:\u001b[0m \u001b[0mWhether\u001b[0m \u001b[0mto\u001b[0m \u001b[0muse\u001b[0m \u001b[0mthe\u001b[0m \u001b[0mHidden\u001b[0m \u001b[0mMarkov\u001b[0m \u001b[0mModel\u001b[0m\u001b[0;34m.\u001b[0m\u001b[0;34m\u001b[0m\u001b[0m\n\u001b[1;32m    281\u001b[0m         '''\n\u001b[0;32m--> 282\u001b[0;31m         \u001b[0msentence\u001b[0m \u001b[0;34m=\u001b[0m \u001b[0mstrdecode\u001b[0m\u001b[0;34m(\u001b[0m\u001b[0msentence\u001b[0m\u001b[0;34m)\u001b[0m\u001b[0;34m\u001b[0m\u001b[0m\n\u001b[0m\u001b[1;32m    283\u001b[0m \u001b[0;34m\u001b[0m\u001b[0m\n\u001b[1;32m    284\u001b[0m         \u001b[0;32mif\u001b[0m \u001b[0mcut_all\u001b[0m\u001b[0;34m:\u001b[0m\u001b[0;34m\u001b[0m\u001b[0m\n",
      "\u001b[0;32m~/anaconda2/envs/py3/lib/python3.6/site-packages/jieba/_compat.py\u001b[0m in \u001b[0;36mstrdecode\u001b[0;34m(sentence)\u001b[0m\n\u001b[1;32m     35\u001b[0m     \u001b[0;32mif\u001b[0m \u001b[0;32mnot\u001b[0m \u001b[0misinstance\u001b[0m\u001b[0;34m(\u001b[0m\u001b[0msentence\u001b[0m\u001b[0;34m,\u001b[0m \u001b[0mtext_type\u001b[0m\u001b[0;34m)\u001b[0m\u001b[0;34m:\u001b[0m\u001b[0;34m\u001b[0m\u001b[0m\n\u001b[1;32m     36\u001b[0m         \u001b[0;32mtry\u001b[0m\u001b[0;34m:\u001b[0m\u001b[0;34m\u001b[0m\u001b[0m\n\u001b[0;32m---> 37\u001b[0;31m             \u001b[0msentence\u001b[0m \u001b[0;34m=\u001b[0m \u001b[0msentence\u001b[0m\u001b[0;34m.\u001b[0m\u001b[0mdecode\u001b[0m\u001b[0;34m(\u001b[0m\u001b[0;34m'utf-8'\u001b[0m\u001b[0;34m)\u001b[0m\u001b[0;34m\u001b[0m\u001b[0m\n\u001b[0m\u001b[1;32m     38\u001b[0m         \u001b[0;32mexcept\u001b[0m \u001b[0mUnicodeDecodeError\u001b[0m\u001b[0;34m:\u001b[0m\u001b[0;34m\u001b[0m\u001b[0m\n\u001b[1;32m     39\u001b[0m             \u001b[0msentence\u001b[0m \u001b[0;34m=\u001b[0m \u001b[0msentence\u001b[0m\u001b[0;34m.\u001b[0m\u001b[0mdecode\u001b[0m\u001b[0;34m(\u001b[0m\u001b[0;34m'gbk'\u001b[0m\u001b[0;34m,\u001b[0m \u001b[0;34m'ignore'\u001b[0m\u001b[0;34m)\u001b[0m\u001b[0;34m\u001b[0m\u001b[0m\n",
      "\u001b[0;31mAttributeError\u001b[0m: 'float' object has no attribute 'decode'"
     ]
    }
   ],
   "source": [
    "result = [[get_edit_distance(feature[i],feature[j]) for j in list(kind_ids[1])] for i in list_caoxi]"
   ]
  },
  {
   "cell_type": "code",
   "execution_count": 49,
   "metadata": {},
   "outputs": [
    {
     "name": "stdout",
     "output_type": "stream",
     "text": [
      "[154]\n"
     ]
    }
   ],
   "source": [
    "print(result)"
   ]
  },
  {
   "cell_type": "code",
   "execution_count": null,
   "metadata": {},
   "outputs": [],
   "source": []
  },
  {
   "cell_type": "code",
   "execution_count": null,
   "metadata": {},
   "outputs": [],
   "source": []
  }
 ],
 "metadata": {
  "kernelspec": {
   "display_name": "Python 3",
   "language": "python",
   "name": "python3"
  },
  "language_info": {
   "codemirror_mode": {
    "name": "ipython",
    "version": 3
   },
   "file_extension": ".py",
   "mimetype": "text/x-python",
   "name": "python",
   "nbconvert_exporter": "python",
   "pygments_lexer": "ipython3",
   "version": "3.6.5"
  }
 },
 "nbformat": 4,
 "nbformat_minor": 2
}
