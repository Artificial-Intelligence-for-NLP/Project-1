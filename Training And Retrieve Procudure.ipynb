{
 "cells": [
  {
   "cell_type": "markdown",
   "metadata": {},
   "source": [
    "### Target\n",
    "\n",
    "**Find the articles which are judged as Xinhua net but not is Xinhua net. **"
   ]
  },
  {
   "cell_type": "code",
   "execution_count": 1,
   "metadata": {
    "collapsed": true
   },
   "outputs": [],
   "source": [
    "import pandas as pd"
   ]
  },
  {
   "cell_type": "code",
   "execution_count": 2,
   "metadata": {
    "collapsed": true
   },
   "outputs": [],
   "source": [
    "import numpy as np"
   ]
  },
  {
   "cell_type": "code",
   "execution_count": 3,
   "metadata": {
    "collapsed": true
   },
   "outputs": [],
   "source": [
    "import matplotlib.pyplot as plt"
   ]
  },
  {
   "cell_type": "code",
   "execution_count": 4,
   "metadata": {
    "collapsed": true
   },
   "outputs": [],
   "source": [
    "import jieba"
   ]
  },
  {
   "cell_type": "code",
   "execution_count": 5,
   "metadata": {
    "collapsed": true
   },
   "outputs": [],
   "source": [
    "def cut(string): return ' '.join(jieba.cut(string))"
   ]
  },
  {
   "cell_type": "code",
   "execution_count": 22,
   "metadata": {
    "collapsed": true
   },
   "outputs": [],
   "source": [
    "content = pd.read_csv('../dataset/export_sql_1558435.zip', compression='zip', encoding='gb18030')"
   ]
  },
  {
   "cell_type": "code",
   "execution_count": 14,
   "metadata": {},
   "outputs": [
    {
     "data": {
      "text/html": [
       "<div>\n",
       "<style>\n",
       "    .dataframe thead tr:only-child th {\n",
       "        text-align: right;\n",
       "    }\n",
       "\n",
       "    .dataframe thead th {\n",
       "        text-align: left;\n",
       "    }\n",
       "\n",
       "    .dataframe tbody tr th {\n",
       "        vertical-align: top;\n",
       "    }\n",
       "</style>\n",
       "<table border=\"1\" class=\"dataframe\">\n",
       "  <thead>\n",
       "    <tr style=\"text-align: right;\">\n",
       "      <th></th>\n",
       "      <th>id</th>\n",
       "      <th>author</th>\n",
       "      <th>source</th>\n",
       "      <th>content</th>\n",
       "      <th>feature</th>\n",
       "      <th>title</th>\n",
       "      <th>url</th>\n",
       "    </tr>\n",
       "  </thead>\n",
       "  <tbody>\n",
       "    <tr>\n",
       "      <th>0</th>\n",
       "      <td>89617</td>\n",
       "      <td>NaN</td>\n",
       "      <td>快科技@http://www.kkj.cn/</td>\n",
       "      <td>此外，自本周（6月12日）起，除小米手机6等15款机型外，其余机型已暂停更新发布（含开发版/...</td>\n",
       "      <td>{\"type\":\"科技\",\"site\":\"cnbeta\",\"commentNum\":\"37\"...</td>\n",
       "      <td>小米MIUI 9首批机型曝光：共计15款</td>\n",
       "      <td>http://www.cnbeta.com/articles/tech/623597.htm</td>\n",
       "    </tr>\n",
       "    <tr>\n",
       "      <th>1</th>\n",
       "      <td>89616</td>\n",
       "      <td>NaN</td>\n",
       "      <td>快科技@http://www.kkj.cn/</td>\n",
       "      <td>骁龙835作为唯一通过Windows 10桌面平台认证的ARM处理器，高通强调，不会因为只考...</td>\n",
       "      <td>{\"type\":\"科技\",\"site\":\"cnbeta\",\"commentNum\":\"15\"...</td>\n",
       "      <td>骁龙835在Windows 10上的性能表现有望改善</td>\n",
       "      <td>http://www.cnbeta.com/articles/tech/623599.htm</td>\n",
       "    </tr>\n",
       "    <tr>\n",
       "      <th>2</th>\n",
       "      <td>89615</td>\n",
       "      <td>NaN</td>\n",
       "      <td>快科技@http://www.kkj.cn/</td>\n",
       "      <td>此前的一加3T搭载的是3400mAh电池，DashCharge快充规格为5V/4A。\\r\\n...</td>\n",
       "      <td>{\"type\":\"科技\",\"site\":\"cnbeta\",\"commentNum\":\"18\"...</td>\n",
       "      <td>一加手机5细节曝光：3300mAh、充半小时用1天</td>\n",
       "      <td>http://www.cnbeta.com/articles/tech/623601.htm</td>\n",
       "    </tr>\n",
       "    <tr>\n",
       "      <th>3</th>\n",
       "      <td>89614</td>\n",
       "      <td>NaN</td>\n",
       "      <td>新华社</td>\n",
       "      <td>这是6月18日在葡萄牙中部大佩德罗冈地区拍摄的被森林大火烧毁的汽车。新华社记者张立云摄\\r\\n</td>\n",
       "      <td>{\"type\":\"国际新闻\",\"site\":\"环球\",\"commentNum\":\"0\",\"j...</td>\n",
       "      <td>葡森林火灾造成至少62人死亡 政府宣布进入紧急状态（组图）</td>\n",
       "      <td>http://world.huanqiu.com/hot/2017-06/10866126....</td>\n",
       "    </tr>\n",
       "    <tr>\n",
       "      <th>4</th>\n",
       "      <td>89613</td>\n",
       "      <td>胡淑丽_MN7479</td>\n",
       "      <td>深圳大件事</td>\n",
       "      <td>（原标题：44岁女子跑深圳约会网友被拒，暴雨中裸身奔走……）\\r\\n@深圳交警微博称：昨日清...</td>\n",
       "      <td>{\"type\":\"新闻\",\"site\":\"网易热门\",\"commentNum\":\"978\",...</td>\n",
       "      <td>44岁女子约网友被拒暴雨中裸奔 交警为其披衣相随</td>\n",
       "      <td>http://news.163.com/17/0618/00/CN617P3Q0001875...</td>\n",
       "    </tr>\n",
       "  </tbody>\n",
       "</table>\n",
       "</div>"
      ],
      "text/plain": [
       "      id      author                  source  \\\n",
       "0  89617         NaN  快科技@http://www.kkj.cn/   \n",
       "1  89616         NaN  快科技@http://www.kkj.cn/   \n",
       "2  89615         NaN  快科技@http://www.kkj.cn/   \n",
       "3  89614         NaN                     新华社   \n",
       "4  89613  胡淑丽_MN7479                   深圳大件事   \n",
       "\n",
       "                                             content  \\\n",
       "0  此外，自本周（6月12日）起，除小米手机6等15款机型外，其余机型已暂停更新发布（含开发版/...   \n",
       "1  骁龙835作为唯一通过Windows 10桌面平台认证的ARM处理器，高通强调，不会因为只考...   \n",
       "2  此前的一加3T搭载的是3400mAh电池，DashCharge快充规格为5V/4A。\\r\\n...   \n",
       "3    这是6月18日在葡萄牙中部大佩德罗冈地区拍摄的被森林大火烧毁的汽车。新华社记者张立云摄\\r\\n   \n",
       "4  （原标题：44岁女子跑深圳约会网友被拒，暴雨中裸身奔走……）\\r\\n@深圳交警微博称：昨日清...   \n",
       "\n",
       "                                             feature  \\\n",
       "0  {\"type\":\"科技\",\"site\":\"cnbeta\",\"commentNum\":\"37\"...   \n",
       "1  {\"type\":\"科技\",\"site\":\"cnbeta\",\"commentNum\":\"15\"...   \n",
       "2  {\"type\":\"科技\",\"site\":\"cnbeta\",\"commentNum\":\"18\"...   \n",
       "3  {\"type\":\"国际新闻\",\"site\":\"环球\",\"commentNum\":\"0\",\"j...   \n",
       "4  {\"type\":\"新闻\",\"site\":\"网易热门\",\"commentNum\":\"978\",...   \n",
       "\n",
       "                           title  \\\n",
       "0           小米MIUI 9首批机型曝光：共计15款   \n",
       "1     骁龙835在Windows 10上的性能表现有望改善   \n",
       "2      一加手机5细节曝光：3300mAh、充半小时用1天   \n",
       "3  葡森林火灾造成至少62人死亡 政府宣布进入紧急状态（组图）   \n",
       "4       44岁女子约网友被拒暴雨中裸奔 交警为其披衣相随   \n",
       "\n",
       "                                                 url  \n",
       "0     http://www.cnbeta.com/articles/tech/623597.htm  \n",
       "1     http://www.cnbeta.com/articles/tech/623599.htm  \n",
       "2     http://www.cnbeta.com/articles/tech/623601.htm  \n",
       "3  http://world.huanqiu.com/hot/2017-06/10866126....  \n",
       "4  http://news.163.com/17/0618/00/CN617P3Q0001875...  "
      ]
     },
     "execution_count": 14,
     "metadata": {},
     "output_type": "execute_result"
    }
   ],
   "source": [
    "content.head()"
   ]
  },
  {
   "cell_type": "code",
   "execution_count": 23,
   "metadata": {
    "collapsed": true
   },
   "outputs": [],
   "source": [
    "content['content'] = content['content'].fillna('')\n",
    "content['content'] = content['content'].apply(cut)"
   ]
  },
  {
   "cell_type": "code",
   "execution_count": 24,
   "metadata": {
    "collapsed": true
   },
   "outputs": [],
   "source": [
    "content['title'] = content['title'].fillna('')\n",
    "content['title'] = content['title'].apply(cut)"
   ]
  },
  {
   "cell_type": "code",
   "execution_count": 25,
   "metadata": {},
   "outputs": [
    {
     "data": {
      "text/html": [
       "<div>\n",
       "<style>\n",
       "    .dataframe thead tr:only-child th {\n",
       "        text-align: right;\n",
       "    }\n",
       "\n",
       "    .dataframe thead th {\n",
       "        text-align: left;\n",
       "    }\n",
       "\n",
       "    .dataframe tbody tr th {\n",
       "        vertical-align: top;\n",
       "    }\n",
       "</style>\n",
       "<table border=\"1\" class=\"dataframe\">\n",
       "  <thead>\n",
       "    <tr style=\"text-align: right;\">\n",
       "      <th></th>\n",
       "      <th>id</th>\n",
       "      <th>author</th>\n",
       "      <th>source</th>\n",
       "      <th>content</th>\n",
       "      <th>feature</th>\n",
       "      <th>title</th>\n",
       "      <th>url</th>\n",
       "    </tr>\n",
       "  </thead>\n",
       "  <tbody>\n",
       "    <tr>\n",
       "      <th>0</th>\n",
       "      <td>89617</td>\n",
       "      <td>NaN</td>\n",
       "      <td>快科技@http://www.kkj.cn/</td>\n",
       "      <td>此外 ， 自 本周 （ 6 月 12 日 ） 起 ， 除 小米 手机 6 等 15 款 机型...</td>\n",
       "      <td>{\"type\":\"科技\",\"site\":\"cnbeta\",\"commentNum\":\"37\"...</td>\n",
       "      <td>小米 MIUI   9 首批 机型 曝光 ： 共计 15 款</td>\n",
       "      <td>http://www.cnbeta.com/articles/tech/623597.htm</td>\n",
       "    </tr>\n",
       "    <tr>\n",
       "      <th>1</th>\n",
       "      <td>89616</td>\n",
       "      <td>NaN</td>\n",
       "      <td>快科技@http://www.kkj.cn/</td>\n",
       "      <td>骁龙 835 作为 唯一 通过 Windows   10 桌面 平台 认证 的 ARM 处理...</td>\n",
       "      <td>{\"type\":\"科技\",\"site\":\"cnbeta\",\"commentNum\":\"15\"...</td>\n",
       "      <td>骁龙 835 在 Windows   10 上 的 性能 表现 有望 改善</td>\n",
       "      <td>http://www.cnbeta.com/articles/tech/623599.htm</td>\n",
       "    </tr>\n",
       "    <tr>\n",
       "      <th>2</th>\n",
       "      <td>89615</td>\n",
       "      <td>NaN</td>\n",
       "      <td>快科技@http://www.kkj.cn/</td>\n",
       "      <td>此前 的 一加 3T 搭载 的 是 3400mAh 电池 ， DashCharge 快充 规...</td>\n",
       "      <td>{\"type\":\"科技\",\"site\":\"cnbeta\",\"commentNum\":\"18\"...</td>\n",
       "      <td>一加 手机 5 细节 曝光 ： 3300mAh 、 充 半小时 用 1 天</td>\n",
       "      <td>http://www.cnbeta.com/articles/tech/623601.htm</td>\n",
       "    </tr>\n",
       "    <tr>\n",
       "      <th>3</th>\n",
       "      <td>89614</td>\n",
       "      <td>NaN</td>\n",
       "      <td>新华社</td>\n",
       "      <td>这是 6 月 18 日 在 葡萄牙 中部 大 佩德罗 冈 地区 拍摄 的 被 森林 大火 烧...</td>\n",
       "      <td>{\"type\":\"国际新闻\",\"site\":\"环球\",\"commentNum\":\"0\",\"j...</td>\n",
       "      <td>葡 森林 火灾 造成 至少 62 人 死亡   政府 宣布 进入 紧急状态 （ 组图 ）</td>\n",
       "      <td>http://world.huanqiu.com/hot/2017-06/10866126....</td>\n",
       "    </tr>\n",
       "    <tr>\n",
       "      <th>4</th>\n",
       "      <td>89613</td>\n",
       "      <td>胡淑丽_MN7479</td>\n",
       "      <td>深圳大件事</td>\n",
       "      <td>（ 原 标题 ： 44 岁 女子 跑 深圳 约会 网友 被 拒 ， 暴雨 中 裸身 奔走 …...</td>\n",
       "      <td>{\"type\":\"新闻\",\"site\":\"网易热门\",\"commentNum\":\"978\",...</td>\n",
       "      <td>44 岁 女子 约 网友 被 拒 暴雨 中 裸奔   交警 为 其 披衣 相随</td>\n",
       "      <td>http://news.163.com/17/0618/00/CN617P3Q0001875...</td>\n",
       "    </tr>\n",
       "  </tbody>\n",
       "</table>\n",
       "</div>"
      ],
      "text/plain": [
       "      id      author                  source  \\\n",
       "0  89617         NaN  快科技@http://www.kkj.cn/   \n",
       "1  89616         NaN  快科技@http://www.kkj.cn/   \n",
       "2  89615         NaN  快科技@http://www.kkj.cn/   \n",
       "3  89614         NaN                     新华社   \n",
       "4  89613  胡淑丽_MN7479                   深圳大件事   \n",
       "\n",
       "                                             content  \\\n",
       "0  此外 ， 自 本周 （ 6 月 12 日 ） 起 ， 除 小米 手机 6 等 15 款 机型...   \n",
       "1  骁龙 835 作为 唯一 通过 Windows   10 桌面 平台 认证 的 ARM 处理...   \n",
       "2  此前 的 一加 3T 搭载 的 是 3400mAh 电池 ， DashCharge 快充 规...   \n",
       "3  这是 6 月 18 日 在 葡萄牙 中部 大 佩德罗 冈 地区 拍摄 的 被 森林 大火 烧...   \n",
       "4  （ 原 标题 ： 44 岁 女子 跑 深圳 约会 网友 被 拒 ， 暴雨 中 裸身 奔走 …...   \n",
       "\n",
       "                                             feature  \\\n",
       "0  {\"type\":\"科技\",\"site\":\"cnbeta\",\"commentNum\":\"37\"...   \n",
       "1  {\"type\":\"科技\",\"site\":\"cnbeta\",\"commentNum\":\"15\"...   \n",
       "2  {\"type\":\"科技\",\"site\":\"cnbeta\",\"commentNum\":\"18\"...   \n",
       "3  {\"type\":\"国际新闻\",\"site\":\"环球\",\"commentNum\":\"0\",\"j...   \n",
       "4  {\"type\":\"新闻\",\"site\":\"网易热门\",\"commentNum\":\"978\",...   \n",
       "\n",
       "                                          title  \\\n",
       "0                小米 MIUI   9 首批 机型 曝光 ： 共计 15 款   \n",
       "1         骁龙 835 在 Windows   10 上 的 性能 表现 有望 改善   \n",
       "2         一加 手机 5 细节 曝光 ： 3300mAh 、 充 半小时 用 1 天   \n",
       "3  葡 森林 火灾 造成 至少 62 人 死亡   政府 宣布 进入 紧急状态 （ 组图 ）   \n",
       "4       44 岁 女子 约 网友 被 拒 暴雨 中 裸奔   交警 为 其 披衣 相随   \n",
       "\n",
       "                                                 url  \n",
       "0     http://www.cnbeta.com/articles/tech/623597.htm  \n",
       "1     http://www.cnbeta.com/articles/tech/623599.htm  \n",
       "2     http://www.cnbeta.com/articles/tech/623601.htm  \n",
       "3  http://world.huanqiu.com/hot/2017-06/10866126....  \n",
       "4  http://news.163.com/17/0618/00/CN617P3Q0001875...  "
      ]
     },
     "execution_count": 25,
     "metadata": {},
     "output_type": "execute_result"
    }
   ],
   "source": [
    "content.head()"
   ]
  },
  {
   "cell_type": "code",
   "execution_count": 26,
   "metadata": {
    "collapsed": true
   },
   "outputs": [],
   "source": [
    "xinhuashe_news = content[content['source'].str.contains('新华', na=False)]"
   ]
  },
  {
   "cell_type": "code",
   "execution_count": 27,
   "metadata": {},
   "outputs": [
    {
     "data": {
      "text/plain": [
       "78855"
      ]
     },
     "execution_count": 27,
     "metadata": {},
     "output_type": "execute_result"
    }
   ],
   "source": [
    "len(xinhuashe_news)"
   ]
  },
  {
   "cell_type": "code",
   "execution_count": 28,
   "metadata": {},
   "outputs": [
    {
     "data": {
      "text/plain": [
       "89611"
      ]
     },
     "execution_count": 28,
     "metadata": {},
     "output_type": "execute_result"
    }
   ],
   "source": [
    "len(content)"
   ]
  },
  {
   "cell_type": "code",
   "execution_count": 29,
   "metadata": {},
   "outputs": [
    {
     "data": {
      "text/plain": [
       "0.8799700929573379"
      ]
     },
     "execution_count": 29,
     "metadata": {},
     "output_type": "execute_result"
    }
   ],
   "source": [
    "len(xinhuashe_news) / len(content)"
   ]
  },
  {
   "cell_type": "code",
   "execution_count": 30,
   "metadata": {},
   "outputs": [
    {
     "data": {
      "text/plain": [
       "0.12002990704266214"
      ]
     },
     "execution_count": 30,
     "metadata": {},
     "output_type": "execute_result"
    }
   ],
   "source": [
    "1 - 0.8799700929573379"
   ]
  },
  {
   "cell_type": "markdown",
   "metadata": {},
   "source": [
    "## TF-IDF Vectorized"
   ]
  },
  {
   "cell_type": "code",
   "execution_count": 31,
   "metadata": {
    "collapsed": true
   },
   "outputs": [],
   "source": [
    "from sklearn.feature_extraction.text import TfidfVectorizer"
   ]
  },
  {
   "cell_type": "code",
   "execution_count": 32,
   "metadata": {},
   "outputs": [
    {
     "data": {
      "text/plain": [
       "Index(['id', 'author', 'source', 'content', 'feature', 'title', 'url'], dtype='object')"
      ]
     },
     "execution_count": 32,
     "metadata": {},
     "output_type": "execute_result"
    }
   ],
   "source": [
    "content.columns"
   ]
  },
  {
   "cell_type": "code",
   "execution_count": 33,
   "metadata": {
    "collapsed": true
   },
   "outputs": [],
   "source": [
    "content['is_xinhua'] = np.where(content['source'].str.contains('新华'), 1, 0)"
   ]
  },
  {
   "cell_type": "markdown",
   "metadata": {},
   "source": [
    "Hint: Google: pandas, How to add new column based no condtion"
   ]
  },
  {
   "cell_type": "code",
   "execution_count": 34,
   "metadata": {},
   "outputs": [
    {
     "data": {
      "text/html": [
       "<div>\n",
       "<style>\n",
       "    .dataframe thead tr:only-child th {\n",
       "        text-align: right;\n",
       "    }\n",
       "\n",
       "    .dataframe thead th {\n",
       "        text-align: left;\n",
       "    }\n",
       "\n",
       "    .dataframe tbody tr th {\n",
       "        vertical-align: top;\n",
       "    }\n",
       "</style>\n",
       "<table border=\"1\" class=\"dataframe\">\n",
       "  <thead>\n",
       "    <tr style=\"text-align: right;\">\n",
       "      <th></th>\n",
       "      <th>id</th>\n",
       "      <th>author</th>\n",
       "      <th>source</th>\n",
       "      <th>content</th>\n",
       "      <th>feature</th>\n",
       "      <th>title</th>\n",
       "      <th>url</th>\n",
       "      <th>is_xinhua</th>\n",
       "    </tr>\n",
       "  </thead>\n",
       "  <tbody>\n",
       "    <tr>\n",
       "      <th>3</th>\n",
       "      <td>89614</td>\n",
       "      <td>NaN</td>\n",
       "      <td>新华社</td>\n",
       "      <td>这是 6 月 18 日 在 葡萄牙 中部 大 佩德罗 冈 地区 拍摄 的 被 森林 大火 烧...</td>\n",
       "      <td>{\"type\":\"国际新闻\",\"site\":\"环球\",\"commentNum\":\"0\",\"j...</td>\n",
       "      <td>葡 森林 火灾 造成 至少 62 人 死亡   政府 宣布 进入 紧急状态 （ 组图 ）</td>\n",
       "      <td>http://world.huanqiu.com/hot/2017-06/10866126....</td>\n",
       "      <td>1</td>\n",
       "    </tr>\n",
       "    <tr>\n",
       "      <th>17</th>\n",
       "      <td>89600</td>\n",
       "      <td>NaN</td>\n",
       "      <td>新华网</td>\n",
       "      <td>国歌 法 草案 首次 提请 最高 立法机关 审议 \\r\\n 点击 图片 进入 下 一页 \\r...</td>\n",
       "      <td>{\"type\":\"观点滚动\",\"site\":\"参考消息\",\"commentNum\":\"0\",...</td>\n",
       "      <td>[ 及时 点 ] 我们 不 需要 “ 百变 老太太 ”</td>\n",
       "      <td>http://column.cankaoxiaoxi.com/plgd/2017/0623/...</td>\n",
       "      <td>1</td>\n",
       "    </tr>\n",
       "    <tr>\n",
       "      <th>25</th>\n",
       "      <td>89592</td>\n",
       "      <td>NaN</td>\n",
       "      <td>新华网</td>\n",
       "      <td>当地 时间 2017 年 6 月 17 日 ， 土耳其 马 尼萨 省 ， 在 土耳其 第 1...</td>\n",
       "      <td>{\"type\":\"国际新闻\",\"site\":\"环球\",\"commentNum\":\"0\",\"j...</td>\n",
       "      <td>土耳其 近 590 名 士兵 疑 食物中毒   被 送往 医院 救治 （ 组图 ）</td>\n",
       "      <td>http://world.huanqiu.com/hot/2017-06/10866176....</td>\n",
       "      <td>1</td>\n",
       "    </tr>\n",
       "    <tr>\n",
       "      <th>27</th>\n",
       "      <td>89590</td>\n",
       "      <td>NaN</td>\n",
       "      <td>新华网</td>\n",
       "      <td>英国 与 欧盟 的 “ 脱欧 ” 谈判 于 19 日 正式 开始 。 然而 此时 ， 英国首...</td>\n",
       "      <td>{\"type\":\"国际新闻\",\"site\":\"环球\",\"commentNum\":\"0\",\"j...</td>\n",
       "      <td>火灾 与 脱欧 炙烤 英国首相   特雷莎 · 梅 面临 空前 政治 压力</td>\n",
       "      <td>http://world.huanqiu.com/hot/2017-06/10866198....</td>\n",
       "      <td>1</td>\n",
       "    </tr>\n",
       "    <tr>\n",
       "      <th>39</th>\n",
       "      <td>89578</td>\n",
       "      <td>NaN</td>\n",
       "      <td>新华社</td>\n",
       "      <td>这是 6 月 18 日 在 葡萄牙 中部 大 佩德罗 冈 地区 拍摄 的 被 森林 大火 烧...</td>\n",
       "      <td>{\"type\":\"国际新闻\",\"site\":\"环球\",\"commentNum\":\"0\",\"j...</td>\n",
       "      <td>葡 森林 火灾 造成 至少 62 人 死亡   政府 宣布 进入 紧急状态</td>\n",
       "      <td>http://world.huanqiu.com/hot/2017-06/10866229....</td>\n",
       "      <td>1</td>\n",
       "    </tr>\n",
       "    <tr>\n",
       "      <th>51</th>\n",
       "      <td>89566</td>\n",
       "      <td>NaN</td>\n",
       "      <td>新华网</td>\n",
       "      <td>戈壁 的 大漠 黄沙 曾 掩埋 了 无数 西域 古道 ， 而 如今 一条 大漠 天路 正 顽...</td>\n",
       "      <td>{\"type\":\"国内新闻\",\"site\":\"环球\",\"commentNum\":\"0\",\"j...</td>\n",
       "      <td>大漠 变通途 — — 世界 上 最长 的 穿越 沙漠 高速公路 建设 纪实</td>\n",
       "      <td>http://china.huanqiu.com/hot/2017-06/10866392....</td>\n",
       "      <td>1</td>\n",
       "    </tr>\n",
       "    <tr>\n",
       "      <th>65</th>\n",
       "      <td>89552</td>\n",
       "      <td>NaN</td>\n",
       "      <td>新华社@</td>\n",
       "      <td>从 百度 、 支付宝 到 App ? “ 高考 志愿 填报 ” 五花八门 \\r\\n 顾 女士...</td>\n",
       "      <td>{\"type\":\"科技\",\"site\":\"cnbeta\",\"commentNum\":\"5\",...</td>\n",
       "      <td>高考 志愿 填报 ： 眼花缭乱 的 App 、 上万元 咨询 靠 谱 吗 ？</td>\n",
       "      <td>http://www.cnbeta.com/articles/tech/623637.htm</td>\n",
       "      <td>1</td>\n",
       "    </tr>\n",
       "    <tr>\n",
       "      <th>95</th>\n",
       "      <td>89522</td>\n",
       "      <td>NaN</td>\n",
       "      <td>新华社</td>\n",
       "      <td>新华社 韩国 济州 6 月 18 日电 综述 ： 亚 投行 第二届 年会 三大 亮点 \\r\\...</td>\n",
       "      <td>{\"type\":\"国内新闻\",\"site\":\"环球\",\"commentNum\":\"0\",\"j...</td>\n",
       "      <td>综述 ： 亚 投行 第二届 年会 三大 亮点</td>\n",
       "      <td>http://china.huanqiu.com/hot/2017-06/10866439....</td>\n",
       "      <td>1</td>\n",
       "    </tr>\n",
       "    <tr>\n",
       "      <th>104</th>\n",
       "      <td>89513</td>\n",
       "      <td>NaN</td>\n",
       "      <td>新华网</td>\n",
       "      <td>粤港澳 概念 板块 午后 走强 ， 珠海 港 、 恒基 达鑫 、 白云机场 等 个股 的 午...</td>\n",
       "      <td>{\"type\":\"金融市场\",\"site\":\"参考消息\",\"commentNum\":\"0\",...</td>\n",
       "      <td>粤港澳 概念 板块 午后 走强   珠海 港 等 个股 领涨</td>\n",
       "      <td>http://www.cankaoxiaoxi.com/finance/20170623/2...</td>\n",
       "      <td>1</td>\n",
       "    </tr>\n",
       "    <tr>\n",
       "      <th>113</th>\n",
       "      <td>89504</td>\n",
       "      <td>NaN</td>\n",
       "      <td>新华社</td>\n",
       "      <td>新华社 北京 6 月 18 日电   经 军委 领导 批准 ， 《 军营 理论 热点 怎么 ...</td>\n",
       "      <td>{\"type\":\"国内新闻\",\"site\":\"环球\",\"commentNum\":\"0\",\"j...</td>\n",
       "      <td>《 军营 理论 热点 怎么 看 · 2017 》 印发 全军</td>\n",
       "      <td>http://china.huanqiu.com/hot/2017-06/10866447....</td>\n",
       "      <td>1</td>\n",
       "    </tr>\n",
       "    <tr>\n",
       "      <th>231</th>\n",
       "      <td>89386</td>\n",
       "      <td>NaN</td>\n",
       "      <td>新华网</td>\n",
       "      <td>东方 卫视 明星 旅游 体验 综艺节目 《 旅途 的 花样 》 6 月 17 日 （ 周六 ...</td>\n",
       "      <td>{\"type\":\"娱乐\",\"site\":\"环球\",\"commentNum\":\"0\",\"joi...</td>\n",
       "      <td>林志玲 非洲 选美 气质 出众   网友 ： 美出 国际 范儿</td>\n",
       "      <td>http://ent.huanqiu.com/article/2017-06/1086659...</td>\n",
       "      <td>1</td>\n",
       "    </tr>\n",
       "    <tr>\n",
       "      <th>305</th>\n",
       "      <td>89312</td>\n",
       "      <td>NaN</td>\n",
       "      <td>新华社</td>\n",
       "      <td>新华社 兰州 6 月 19 日电 （ 记者 张钦 ） 记者 19 日 了解 到 ， 刚刚 出...</td>\n",
       "      <td>{\"type\":\"国内新闻\",\"site\":\"环球\",\"commentNum\":\"0\",\"j...</td>\n",
       "      <td>甘肃 力推 网络 扶贫 ： 贫困山区 到 2020 年 实现 4G 网络 全 覆盖</td>\n",
       "      <td>http://china.huanqiu.com/hot/2017-06/10866626....</td>\n",
       "      <td>1</td>\n",
       "    </tr>\n",
       "    <tr>\n",
       "      <th>312</th>\n",
       "      <td>89305</td>\n",
       "      <td>NaN</td>\n",
       "      <td>新华社</td>\n",
       "      <td>新华社 乌鲁木齐 6 月 18 日电 （ 记者 杜刚 、 王秉阳 ） 6 月 18 日 ， ...</td>\n",
       "      <td>{\"type\":\"国内新闻\",\"site\":\"环球\",\"commentNum\":\"0\",\"j...</td>\n",
       "      <td>天山 天池 首次 举办 山地 马拉松赛</td>\n",
       "      <td>http://china.huanqiu.com/hot/2017-06/10866627....</td>\n",
       "      <td>1</td>\n",
       "    </tr>\n",
       "    <tr>\n",
       "      <th>314</th>\n",
       "      <td>89303</td>\n",
       "      <td>NaN</td>\n",
       "      <td>新华社</td>\n",
       "      <td>新华社 北京 6 月 19 日电 （ 记者 熊丰 ） 记者 从 公安部 消防局 获悉 ， 1...</td>\n",
       "      <td>{\"type\":\"国内新闻\",\"site\":\"环球\",\"commentNum\":\"0\",\"j...</td>\n",
       "      <td>9 省市 联动 开展 跨 区域 地震 救援 实战 拉动 演练</td>\n",
       "      <td>http://china.huanqiu.com/hot/2017-06/10866630....</td>\n",
       "      <td>1</td>\n",
       "    </tr>\n",
       "    <tr>\n",
       "      <th>329</th>\n",
       "      <td>89288</td>\n",
       "      <td>NaN</td>\n",
       "      <td>新华网</td>\n",
       "      <td>新华社 北京 ６ 月 ２ ３ 日电 （ 记者 邢静 ） 幸福 是 人们 对 生活 最 美好 ...</td>\n",
       "      <td>{\"type\":\"社会观察\",\"site\":\"参考消息\",\"commentNum\":\"0\",...</td>\n",
       "      <td>“ ２ ０ １ ７ 中国 最具 幸福感 城市 ” 调查 推选 活动 启动</td>\n",
       "      <td>http://www.cankaoxiaoxi.com/china/20170623/214...</td>\n",
       "      <td>1</td>\n",
       "    </tr>\n",
       "    <tr>\n",
       "      <th>330</th>\n",
       "      <td>89287</td>\n",
       "      <td>NaN</td>\n",
       "      <td>新华网</td>\n",
       "      <td>新华社 昆明 6 月 23 日电 （ 记者 王研 ） 近年来 ， 随着 云南 航空业 的 迅...</td>\n",
       "      <td>{\"type\":\"社会观察\",\"site\":\"参考消息\",\"commentNum\":\"0\",...</td>\n",
       "      <td>云南 机场 公安 严打 “ 空中 贩毒 ” 3 年缴 毒 逾 600 公斤</td>\n",
       "      <td>http://www.cankaoxiaoxi.com/china/20170623/214...</td>\n",
       "      <td>1</td>\n",
       "    </tr>\n",
       "    <tr>\n",
       "      <th>331</th>\n",
       "      <td>89286</td>\n",
       "      <td>NaN</td>\n",
       "      <td>新华网</td>\n",
       "      <td>新华社 北京 ６ 月 ２ ３ 日电 （ 记者 倪元 锦 ） ２ １ 日起 ， 京津冀 迎来 ...</td>\n",
       "      <td>{\"type\":\"社会观察\",\"site\":\"参考消息\",\"commentNum\":\"0\",...</td>\n",
       "      <td>气象专家 解析 京津冀 降雨</td>\n",
       "      <td>http://www.cankaoxiaoxi.com/china/20170623/214...</td>\n",
       "      <td>1</td>\n",
       "    </tr>\n",
       "    <tr>\n",
       "      <th>335</th>\n",
       "      <td>89282</td>\n",
       "      <td>NaN</td>\n",
       "      <td>新华网</td>\n",
       "      <td>新华社 北京 ６ 月 ２ ３ 日电 （ 记者   倪元 锦 ） ２ １ 日起 ， 京津冀 迎...</td>\n",
       "      <td>{\"type\":\"社会观察\",\"site\":\"参考消息\",\"commentNum\":\"0\",...</td>\n",
       "      <td>气象专家 解析 京津冀 降雨</td>\n",
       "      <td>http://www.cankaoxiaoxi.com/china/20170623/214...</td>\n",
       "      <td>1</td>\n",
       "    </tr>\n",
       "    <tr>\n",
       "      <th>365</th>\n",
       "      <td>89252</td>\n",
       "      <td>NaN</td>\n",
       "      <td>新华网</td>\n",
       "      <td>新华社 哈尔滨 6 月 23 日电 （ 记者   许正 ） 记者 23 日 从 黑龙江省 环...</td>\n",
       "      <td>{\"type\":\"社会观察\",\"site\":\"参考消息\",\"commentNum\":\"0\",...</td>\n",
       "      <td>黑龙江 自然环境 改善 迎来 更 多 鸟 飞 鹤鸣</td>\n",
       "      <td>http://www.cankaoxiaoxi.com/china/20170623/214...</td>\n",
       "      <td>1</td>\n",
       "    </tr>\n",
       "    <tr>\n",
       "      <th>376</th>\n",
       "      <td>89241</td>\n",
       "      <td>NaN</td>\n",
       "      <td>新华网</td>\n",
       "      <td>新华社 合肥 ６ 月 ２ ３ 日电 ?   题 ： 安徽 不断 将 跨省 流域 补偿 试点 ...</td>\n",
       "      <td>{\"type\":\"社会观察\",\"site\":\"参考消息\",\"commentNum\":\"0\",...</td>\n",
       "      <td>安徽 不断 将 跨省 流域 补偿 试点 推向 深入</td>\n",
       "      <td>http://www.cankaoxiaoxi.com/china/20170623/214...</td>\n",
       "      <td>1</td>\n",
       "    </tr>\n",
       "    <tr>\n",
       "      <th>388</th>\n",
       "      <td>89229</td>\n",
       "      <td>NaN</td>\n",
       "      <td>新华网</td>\n",
       "      <td>新华社 重庆 ６ 月 ２ ３ 日电 ?   题 ： “ 悟空 ” 为何 跌下 共享 风口 ？...</td>\n",
       "      <td>{\"type\":\"社会观察\",\"site\":\"参考消息\",\"commentNum\":\"0\",...</td>\n",
       "      <td>“ 悟空 ” 为何 跌下 共享 风口 ？ — — 重庆 首家 共享 单车 “ 退市 ” 观察</td>\n",
       "      <td>http://www.cankaoxiaoxi.com/china/20170623/214...</td>\n",
       "      <td>1</td>\n",
       "    </tr>\n",
       "    <tr>\n",
       "      <th>445</th>\n",
       "      <td>89172</td>\n",
       "      <td>NaN</td>\n",
       "      <td>新华网</td>\n",
       "      <td>新华社 贵阳 ６ 月 ２ ３ 日电 （ 记者   李黔 渝 ） 贵州省政府 近日 下发 通知...</td>\n",
       "      <td>{\"type\":\"社会观察\",\"site\":\"参考消息\",\"commentNum\":\"0\",...</td>\n",
       "      <td>贵州 对 一批 重大 火灾 隐患 单位 实施 “ 挂牌 督办 ”</td>\n",
       "      <td>http://www.cankaoxiaoxi.com/china/20170623/214...</td>\n",
       "      <td>1</td>\n",
       "    </tr>\n",
       "    <tr>\n",
       "      <th>446</th>\n",
       "      <td>89171</td>\n",
       "      <td>NaN</td>\n",
       "      <td>新华网</td>\n",
       "      <td>新华社 广州 6 月 23 日电   题 ： 激发 内生 动力   走 在 脱贫 路上 — ...</td>\n",
       "      <td>{\"type\":\"社会观察\",\"site\":\"参考消息\",\"commentNum\":\"0\",...</td>\n",
       "      <td>广东 探索 东西部 扶贫 协作 新 路径</td>\n",
       "      <td>http://www.cankaoxiaoxi.com/china/20170623/214...</td>\n",
       "      <td>1</td>\n",
       "    </tr>\n",
       "    <tr>\n",
       "      <th>448</th>\n",
       "      <td>89169</td>\n",
       "      <td>NaN</td>\n",
       "      <td>新华网</td>\n",
       "      <td>新华社 南京 6 月 23 日电 （ 记者   朱国亮 ） 23 日 在 常州 召开 的 江...</td>\n",
       "      <td>{\"type\":\"社会观察\",\"site\":\"参考消息\",\"commentNum\":\"0\",...</td>\n",
       "      <td>江苏 成立 VR / AR 产业 联盟 链接 上下游 企业</td>\n",
       "      <td>http://www.cankaoxiaoxi.com/china/20170623/214...</td>\n",
       "      <td>1</td>\n",
       "    </tr>\n",
       "    <tr>\n",
       "      <th>511</th>\n",
       "      <td>89106</td>\n",
       "      <td>NaN</td>\n",
       "      <td>新华网</td>\n",
       "      <td>于 2010 年 12 月 14 日 正式 于 杭州 成立 、 由 裕隆 集团 与 东风汽车...</td>\n",
       "      <td>{\"type\":\"国际\",\"site\":\"头条\",\"commentNum\":\"146\",\"j...</td>\n",
       "      <td>特朗普 被查 ！ FBI 这次 动真格 了 ？</td>\n",
       "      <td>https://www.toutiao.com/group/6433666533058429...</td>\n",
       "      <td>1</td>\n",
       "    </tr>\n",
       "    <tr>\n",
       "      <th>514</th>\n",
       "      <td>89103</td>\n",
       "      <td>NaN</td>\n",
       "      <td>新华网</td>\n",
       "      <td>美国 《 华盛顿邮报 》 6 月 14 日 披露 ， 主持 “ 通俄门 ” 调查 的 特别 ...</td>\n",
       "      <td>{\"type\":\"国际\",\"site\":\"头条\",\"commentNum\":\"146\",\"j...</td>\n",
       "      <td>特朗普 被查 ！ FBI 这次 动真格 了 ？</td>\n",
       "      <td>https://www.toutiao.com/group/6433502139834827...</td>\n",
       "      <td>1</td>\n",
       "    </tr>\n",
       "    <tr>\n",
       "      <th>541</th>\n",
       "      <td>89076</td>\n",
       "      <td>王璐 PS039</td>\n",
       "      <td>新华通讯社</td>\n",
       "      <td>刘国梁 \\r\\n ? ? 新华社 北京 6 月 20 日电 记者 从 中国乒乓球协会 获悉 ...</td>\n",
       "      <td>{\"type\":\"体育\",\"site\":\"凤凰\",\"commentNum\":\"739\",\"j...</td>\n",
       "      <td>刘国梁 不再 担任 国乒 总教练   将任 乒协 副 主席</td>\n",
       "      <td>http://sports.ifeng.com/a/20170620/51286521_0....</td>\n",
       "      <td>1</td>\n",
       "    </tr>\n",
       "    <tr>\n",
       "      <th>543</th>\n",
       "      <td>89074</td>\n",
       "      <td>刘瑞莹</td>\n",
       "      <td>新华社</td>\n",
       "      <td>暑期 旅游 旺季 是 各大 旅游 景区 开门 迎客 的 好时机 。 然而 ， 有 5...</td>\n",
       "      <td>{\"type\":\"旅游\",\"site\":\"环球\",\"commentNum\":\"0\",\"joi...</td>\n",
       "      <td>一年 内 全国 12 家 5A 级 景区 被 国家旅游局 摘牌 或 警告</td>\n",
       "      <td>http://go.huanqiu.com/news/2016-10/9542454.html</td>\n",
       "      <td>1</td>\n",
       "    </tr>\n",
       "    <tr>\n",
       "      <th>545</th>\n",
       "      <td>89072</td>\n",
       "      <td>NaN</td>\n",
       "      <td>新华社</td>\n",
       "      <td>新华社 北京 6 月 20 日电 　 总部 设在 德国 波恩 的 国际 残 奥委会 ...</td>\n",
       "      <td>{\"type\":\"体育\",\"site\":\"新浪\",\"commentNum\":\" 50\",\"j...</td>\n",
       "      <td>张海迪 获得 国际 残 奥委会 主席 参选 提名</td>\n",
       "      <td>http://sports.sina.com.cn/others/others/2017-0...</td>\n",
       "      <td>1</td>\n",
       "    </tr>\n",
       "    <tr>\n",
       "      <th>552</th>\n",
       "      <td>89065</td>\n",
       "      <td>NaN</td>\n",
       "      <td>新华网</td>\n",
       "      <td>新华社 成都 6 月 23 日电 （ 记者 周相吉 ） 四川省 在 坚决 查处 违纪 违法 ...</td>\n",
       "      <td>{\"type\":\"社会观察\",\"site\":\"参考消息\",\"commentNum\":\"0\",...</td>\n",
       "      <td>四川 为 “ 担当 有为者 ” 撑腰   已 澄清 2 万 党员干部 “ 是非 ”</td>\n",
       "      <td>http://www.cankaoxiaoxi.com/china/20170623/214...</td>\n",
       "      <td>1</td>\n",
       "    </tr>\n",
       "    <tr>\n",
       "      <th>...</th>\n",
       "      <td>...</td>\n",
       "      <td>...</td>\n",
       "      <td>...</td>\n",
       "      <td>...</td>\n",
       "      <td>...</td>\n",
       "      <td>...</td>\n",
       "      <td>...</td>\n",
       "      <td>...</td>\n",
       "    </tr>\n",
       "    <tr>\n",
       "      <th>89581</th>\n",
       "      <td>30</td>\n",
       "      <td>INACIO ROSA</td>\n",
       "      <td>新华社</td>\n",
       "      <td>新华社 照片 ， 外代 ， 2017 年 6 月 7 日 \\ n （ 外代 二线 ） 足球 ...</td>\n",
       "      <td>{\"type\":\"足球\",\"site\":\"新华社\",\"url\":\"http://home.x...</td>\n",
       "      <td>[ 2 ] （ 外代 二线 ） 足球 — — 世 预赛 ： 葡萄牙 备战</td>\n",
       "      <td>http://home.xinhua-news.com/gdsdetailxhsnew/22...</td>\n",
       "      <td>1</td>\n",
       "    </tr>\n",
       "    <tr>\n",
       "      <th>89582</th>\n",
       "      <td>29</td>\n",
       "      <td>INACIO ROSA</td>\n",
       "      <td>新华社</td>\n",
       "      <td>新华社 照片 ， 外代 ， 2017 年 6 月 7 日 \\ n （ 外代 二线 ） 足球 ...</td>\n",
       "      <td>{\"type\":\"足球\",\"site\":\"新华社\",\"url\":\"http://home.x...</td>\n",
       "      <td>[ 3 ] （ 外代 二线 ） 足球 — — 世 预赛 ： 葡萄牙 备战</td>\n",
       "      <td>http://home.xinhua-news.com/gdsdetailxhsnew/22...</td>\n",
       "      <td>1</td>\n",
       "    </tr>\n",
       "    <tr>\n",
       "      <th>89583</th>\n",
       "      <td>28</td>\n",
       "      <td>INACIO ROSA</td>\n",
       "      <td>新华社</td>\n",
       "      <td>新华社 照片 ， 外代 ， 2017 年 6 月 7 日 \\ n （ 外代 二线 ） 足球 ...</td>\n",
       "      <td>{\"type\":\"足球\",\"site\":\"新华社\",\"url\":\"http://home.x...</td>\n",
       "      <td>[ 4 ] （ 外代 二线 ） 足球 — — 世 预赛 ： 葡萄牙 备战</td>\n",
       "      <td>http://home.xinhua-news.com/gdsdetailxhsnew/22...</td>\n",
       "      <td>1</td>\n",
       "    </tr>\n",
       "    <tr>\n",
       "      <th>89584</th>\n",
       "      <td>27</td>\n",
       "      <td>INACIO ROSA</td>\n",
       "      <td>新华社</td>\n",
       "      <td>新华社 照片 ， 外代 ， 2017 年 6 月 7 日 \\ n （ 外代 二线 ） 足球 ...</td>\n",
       "      <td>{\"type\":\"足球\",\"site\":\"新华社\",\"url\":\"http://home.x...</td>\n",
       "      <td>[ 5 ] （ 外代 二线 ） 足球 — — 世 预赛 ： 葡萄牙 备战</td>\n",
       "      <td>http://home.xinhua-news.com/gdsdetailxhsnew/22...</td>\n",
       "      <td>1</td>\n",
       "    </tr>\n",
       "    <tr>\n",
       "      <th>89585</th>\n",
       "      <td>26</td>\n",
       "      <td>INACIO ROSA</td>\n",
       "      <td>新华社</td>\n",
       "      <td>新华社 照片 ， 外代 ， 2017 年 6 月 7 日 \\ n （ 外代 二线 ） 足球 ...</td>\n",
       "      <td>{\"type\":\"足球\",\"site\":\"新华社\",\"url\":\"http://home.x...</td>\n",
       "      <td>[ 6 ] （ 外代 二线 ） 足球 — — 世 预赛 ： 葡萄牙 备战</td>\n",
       "      <td>http://home.xinhua-news.com/gdsdetailxhsnew/22...</td>\n",
       "      <td>1</td>\n",
       "    </tr>\n",
       "    <tr>\n",
       "      <th>89586</th>\n",
       "      <td>25</td>\n",
       "      <td>INACIO ROSA</td>\n",
       "      <td>新华社</td>\n",
       "      <td>新华社 照片 ， 外代 ， 2017 年 6 月 7 日 \\ n （ 外代 二线 ） 足球 ...</td>\n",
       "      <td>{\"type\":\"足球\",\"site\":\"新华社\",\"url\":\"http://home.x...</td>\n",
       "      <td>[ 7 ] （ 外代 二线 ） 足球 — — 世 预赛 ： 葡萄牙 备战</td>\n",
       "      <td>http://home.xinhua-news.com/gdsdetailxhsnew/22...</td>\n",
       "      <td>1</td>\n",
       "    </tr>\n",
       "    <tr>\n",
       "      <th>89587</th>\n",
       "      <td>24</td>\n",
       "      <td>LOVELY GHOSH</td>\n",
       "      <td>新华社</td>\n",
       "      <td>新华社 照片 ， 外代 ， 2017 年 6 月 7 日 \\ n （ 外代 二线 ） 蚕丝 ...</td>\n",
       "      <td>{\"type\":\"其它\",\"site\":\"新华社\",\"url\":\"http://home.x...</td>\n",
       "      <td>[ 1 ] （ 外代 二线 ） 蚕丝 生产</td>\n",
       "      <td>http://home.xinhua-news.com/gdsdetailxhsnew/22...</td>\n",
       "      <td>1</td>\n",
       "    </tr>\n",
       "    <tr>\n",
       "      <th>89588</th>\n",
       "      <td>23</td>\n",
       "      <td>LOVELY GHOSH</td>\n",
       "      <td>新华社</td>\n",
       "      <td>新华社 照片 ， 外代 ， 2017 年 6 月 7 日 \\ n （ 外代 二线 ） 蚕丝 ...</td>\n",
       "      <td>{\"type\":\"其它\",\"site\":\"新华社\",\"url\":\"http://home.x...</td>\n",
       "      <td>[ 2 ] （ 外代 二线 ） 蚕丝 生产</td>\n",
       "      <td>http://home.xinhua-news.com/gdsdetailxhsnew/22...</td>\n",
       "      <td>1</td>\n",
       "    </tr>\n",
       "    <tr>\n",
       "      <th>89589</th>\n",
       "      <td>22</td>\n",
       "      <td>LOVELY GHOSH</td>\n",
       "      <td>新华社</td>\n",
       "      <td>新华社 照片 ， 外代 ， 2017 年 6 月 7 日 \\ n （ 外代 二线 ） 蚕丝 ...</td>\n",
       "      <td>{\"type\":\"其它\",\"site\":\"新华社\",\"url\":\"http://home.x...</td>\n",
       "      <td>[ 3 ] （ 外代 二线 ） 蚕丝 生产</td>\n",
       "      <td>http://home.xinhua-news.com/gdsdetailxhsnew/22...</td>\n",
       "      <td>1</td>\n",
       "    </tr>\n",
       "    <tr>\n",
       "      <th>89590</th>\n",
       "      <td>21</td>\n",
       "      <td>LOVELY GHOSH</td>\n",
       "      <td>新华社</td>\n",
       "      <td>新华社 照片 ， 外代 ， 2017 年 6 月 7 日 \\ n （ 外代 二线 ） 蚕丝 ...</td>\n",
       "      <td>{\"type\":\"其它\",\"site\":\"新华社\",\"url\":\"http://home.x...</td>\n",
       "      <td>[ 4 ] （ 外代 二线 ） 蚕丝 生产</td>\n",
       "      <td>http://home.xinhua-news.com/gdsdetailxhsnew/22...</td>\n",
       "      <td>1</td>\n",
       "    </tr>\n",
       "    <tr>\n",
       "      <th>89591</th>\n",
       "      <td>20</td>\n",
       "      <td>LOVELY GHOSH</td>\n",
       "      <td>新华社</td>\n",
       "      <td>新华社 照片 ， 外代 ， 2017 年 6 月 7 日 \\ n （ 外代 二线 ） 蚕丝 ...</td>\n",
       "      <td>{\"type\":\"其它\",\"site\":\"新华社\",\"url\":\"http://home.x...</td>\n",
       "      <td>[ 5 ] （ 外代 二线 ） 蚕丝 生产</td>\n",
       "      <td>http://home.xinhua-news.com/gdsdetailxhsnew/22...</td>\n",
       "      <td>1</td>\n",
       "    </tr>\n",
       "    <tr>\n",
       "      <th>89592</th>\n",
       "      <td>19</td>\n",
       "      <td>张旌</td>\n",
       "      <td>新华社</td>\n",
       "      <td>\\ n \\ n2017 年 4 月 27 日 ， 在 首尔 光化 门 广场 ， 民众 在 集...</td>\n",
       "      <td>{\"type\":\"其它\",\"site\":\"新华社\",\"url\":\"http://home.x...</td>\n",
       "      <td>“ 萨德 ” 环评 将 重启 　 在 韩 部署 或 推迟 一年</td>\n",
       "      <td>http://home.xinhua-news.com/gdsdetailxhsnew/22...</td>\n",
       "      <td>1</td>\n",
       "    </tr>\n",
       "    <tr>\n",
       "      <th>89593</th>\n",
       "      <td>18</td>\n",
       "      <td>NaN</td>\n",
       "      <td>新华社</td>\n",
       "      <td>\\ n 新华社 巴格达 6 月 6 日电 （ 记者 魏玉栋 　 程帅 朋 ） 伊拉克 西部 ...</td>\n",
       "      <td>{\"type\":\"其它\",\"site\":\"新华社\",\"url\":\"http://home.x...</td>\n",
       "      <td>伊拉克 安巴尔 省 发生 自杀式 袭击 ７ 人 死亡</td>\n",
       "      <td>http://home.xinhua-news.com/gdsdetailxhsnew/22...</td>\n",
       "      <td>1</td>\n",
       "    </tr>\n",
       "    <tr>\n",
       "      <th>89594</th>\n",
       "      <td>17</td>\n",
       "      <td>LISELOTTE SABROE</td>\n",
       "      <td>新华社</td>\n",
       "      <td>新华社 照片 ， 外代 ， 2017 年 6 月 7 日 \\ n （ 外代 二线 ） 足球 ...</td>\n",
       "      <td>{\"type\":\"足球\",\"site\":\"新华社\",\"url\":\"http://home.x...</td>\n",
       "      <td>[ 1 ] （ 外代 二线 ） 足球 — — 国际 友谊赛 ： 德国 平 丹麦</td>\n",
       "      <td>http://home.xinhua-news.com/gdsdetailxhsnew/22...</td>\n",
       "      <td>1</td>\n",
       "    </tr>\n",
       "    <tr>\n",
       "      <th>89595</th>\n",
       "      <td>16</td>\n",
       "      <td>LISELOTTE SABROE</td>\n",
       "      <td>新华社</td>\n",
       "      <td>新华社 照片 ， 外代 ， 2017 年 6 月 7 日 \\ n （ 外代 二线 ） 足球 ...</td>\n",
       "      <td>{\"type\":\"足球\",\"site\":\"新华社\",\"url\":\"http://home.x...</td>\n",
       "      <td>[ 3 ] （ 外代 二线 ） 足球 — — 国际 友谊赛 ： 德国 平 丹麦</td>\n",
       "      <td>http://home.xinhua-news.com/gdsdetailxhsnew/22...</td>\n",
       "      <td>1</td>\n",
       "    </tr>\n",
       "    <tr>\n",
       "      <th>89596</th>\n",
       "      <td>15</td>\n",
       "      <td>LISELOTTE SABROE</td>\n",
       "      <td>新华社</td>\n",
       "      <td>新华社 照片 ， 外代 ， 2017 年 6 月 7 日 \\ n （ 外代 二线 ） 足球 ...</td>\n",
       "      <td>{\"type\":\"足球\",\"site\":\"新华社\",\"url\":\"http://home.x...</td>\n",
       "      <td>[ 2 ] （ 外代 二线 ） 足球 — — 国际 友谊赛 ： 德国 平 丹麦</td>\n",
       "      <td>http://home.xinhua-news.com/gdsdetailxhsnew/22...</td>\n",
       "      <td>1</td>\n",
       "    </tr>\n",
       "    <tr>\n",
       "      <th>89597</th>\n",
       "      <td>14</td>\n",
       "      <td>LISELOTTE SABROE</td>\n",
       "      <td>新华社</td>\n",
       "      <td>新华社 照片 ， 外代 ， 2017 年 6 月 7 日 \\ n （ 外代 二线 ） 足球 ...</td>\n",
       "      <td>{\"type\":\"足球\",\"site\":\"新华社\",\"url\":\"http://home.x...</td>\n",
       "      <td>[ 4 ] （ 外代 二线 ） 足球 — — 国际 友谊赛 ： 德国 平 丹麦</td>\n",
       "      <td>http://home.xinhua-news.com/gdsdetailxhsnew/22...</td>\n",
       "      <td>1</td>\n",
       "    </tr>\n",
       "    <tr>\n",
       "      <th>89598</th>\n",
       "      <td>13</td>\n",
       "      <td>LISELOTTE SABROE</td>\n",
       "      <td>新华社</td>\n",
       "      <td>新华社 照片 ， 外代 ， 2017 年 6 月 7 日 \\ n （ 外代 二线 ） 足球 ...</td>\n",
       "      <td>{\"type\":\"足球\",\"site\":\"新华社\",\"url\":\"http://home.x...</td>\n",
       "      <td>[ 6 ] （ 外代 二线 ） 足球 — — 国际 友谊赛 ： 德国 平 丹麦</td>\n",
       "      <td>http://home.xinhua-news.com/gdsdetailxhsnew/22...</td>\n",
       "      <td>1</td>\n",
       "    </tr>\n",
       "    <tr>\n",
       "      <th>89599</th>\n",
       "      <td>12</td>\n",
       "      <td>LISELOTTE SABROE</td>\n",
       "      <td>新华社</td>\n",
       "      <td>新华社 照片 ， 外代 ， 2017 年 6 月 7 日 \\ n （ 外代 二线 ） 足球 ...</td>\n",
       "      <td>{\"type\":\"足球\",\"site\":\"新华社\",\"url\":\"http://home.x...</td>\n",
       "      <td>[ 5 ] （ 外代 二线 ） 足球 — — 国际 友谊赛 ： 德国 平 丹麦</td>\n",
       "      <td>http://home.xinhua-news.com/gdsdetailxhsnew/22...</td>\n",
       "      <td>1</td>\n",
       "    </tr>\n",
       "    <tr>\n",
       "      <th>89600</th>\n",
       "      <td>11</td>\n",
       "      <td>LISELOTTE SABROE</td>\n",
       "      <td>新华社</td>\n",
       "      <td>新华社 照片 ， 外代 ， 2017 年 6 月 7 日 \\ n （ 外代 二线 ） 足球 ...</td>\n",
       "      <td>{\"type\":\"足球\",\"site\":\"新华社\",\"url\":\"http://home.x...</td>\n",
       "      <td>[ 8 ] （ 外代 二线 ） 足球 — — 国际 友谊赛 ： 德国 平 丹麦</td>\n",
       "      <td>http://home.xinhua-news.com/gdsdetailxhsnew/22...</td>\n",
       "      <td>1</td>\n",
       "    </tr>\n",
       "    <tr>\n",
       "      <th>89601</th>\n",
       "      <td>10</td>\n",
       "      <td>LISELOTTE SABROE</td>\n",
       "      <td>新华社</td>\n",
       "      <td>新华社 照片 ， 外代 ， 2017 年 6 月 7 日 \\ n （ 外代 二线 ） 足球 ...</td>\n",
       "      <td>{\"type\":\"足球\",\"site\":\"新华社\",\"url\":\"http://home.x...</td>\n",
       "      <td>[ 7 ] （ 外代 二线 ） 足球 — — 国际 友谊赛 ： 德国 平 丹麦</td>\n",
       "      <td>http://home.xinhua-news.com/gdsdetailxhsnew/22...</td>\n",
       "      <td>1</td>\n",
       "    </tr>\n",
       "    <tr>\n",
       "      <th>89602</th>\n",
       "      <td>9</td>\n",
       "      <td>LISELOTTE SABROE</td>\n",
       "      <td>新华社</td>\n",
       "      <td>新华社 照片 ， 外代 ， 2017 年 6 月 7 日 \\ n （ 外代 二线 ） 足球 ...</td>\n",
       "      <td>{\"type\":\"足球\",\"site\":\"新华社\",\"url\":\"http://home.x...</td>\n",
       "      <td>[ 9 ] （ 外代 二线 ） 足球 — — 国际 友谊赛 ： 德国 平 丹麦</td>\n",
       "      <td>http://home.xinhua-news.com/gdsdetailxhsnew/22...</td>\n",
       "      <td>1</td>\n",
       "    </tr>\n",
       "    <tr>\n",
       "      <th>89603</th>\n",
       "      <td>8</td>\n",
       "      <td>郑焕松</td>\n",
       "      <td>新华社</td>\n",
       "      <td>新华社 照片 ， 北京 ， 2017 年 6 月 7 日 \\ n 电影 《 血战 湘江 》 ...</td>\n",
       "      <td>{\"type\":\"社会\",\"site\":\"新华社\",\"url\":\"http://home.x...</td>\n",
       "      <td>（ 文化 ） （ 1 ） 电影 《 血战 湘江 》 举行 清华大学 巡映 活动</td>\n",
       "      <td>http://home.xinhua-news.com/gdsdetailxhsnew/22...</td>\n",
       "      <td>1</td>\n",
       "    </tr>\n",
       "    <tr>\n",
       "      <th>89604</th>\n",
       "      <td>7</td>\n",
       "      <td>郑焕松</td>\n",
       "      <td>新华社</td>\n",
       "      <td>新华社 照片 ， 北京 ， 2017 年 6 月 7 日 \\ n 电影 《 血战 湘江 》 ...</td>\n",
       "      <td>{\"type\":\"社会\",\"site\":\"新华社\",\"url\":\"http://home.x...</td>\n",
       "      <td>（ 文化 ） （ 2 ） 电影 《 血战 湘江 》 举行 清华大学 巡映 活动</td>\n",
       "      <td>http://home.xinhua-news.com/gdsdetailxhsnew/22...</td>\n",
       "      <td>1</td>\n",
       "    </tr>\n",
       "    <tr>\n",
       "      <th>89605</th>\n",
       "      <td>6</td>\n",
       "      <td>郑焕松</td>\n",
       "      <td>新华社</td>\n",
       "      <td>新华社 照片 ， 北京 ， 2017 年 6 月 7 日 \\ n 电影 《 血战 湘江 》 ...</td>\n",
       "      <td>{\"type\":\"社会\",\"site\":\"新华社\",\"url\":\"http://home.x...</td>\n",
       "      <td>（ 文化 ） （ 3 ） 电影 《 血战 湘江 》 举行 清华大学 巡映 活动</td>\n",
       "      <td>http://home.xinhua-news.com/gdsdetailxhsnew/22...</td>\n",
       "      <td>1</td>\n",
       "    </tr>\n",
       "    <tr>\n",
       "      <th>89606</th>\n",
       "      <td>5</td>\n",
       "      <td>邹峥</td>\n",
       "      <td>新华社</td>\n",
       "      <td>新华社 照片 ， 多伦多 ， 2017 年 6 月 7 日 \\ n （ 体育 ） （ 2 ）...</td>\n",
       "      <td>{\"type\":\"冰球\",\"site\":\"新华社\",\"url\":\"http://home.x...</td>\n",
       "      <td>（ 体育 ） （ 2 ） 冰球 — — 国家 女子 冰球队 海外 选秀 在 多伦多 展开</td>\n",
       "      <td>http://home.xinhua-news.com/gdsdetailxhsnew/22...</td>\n",
       "      <td>1</td>\n",
       "    </tr>\n",
       "    <tr>\n",
       "      <th>89607</th>\n",
       "      <td>4</td>\n",
       "      <td>王衡</td>\n",
       "      <td>新华社</td>\n",
       "      <td>新华社 兰州 6 月 3 日电 （ 王衡 、 徐丹 ） 记者 从 甘肃省 交通运输 厅 获悉...</td>\n",
       "      <td>{\"type\":\"宏观经济\",\"site\":\"新华社\",\"url\":\"http://home...</td>\n",
       "      <td>（ 经济 ） 甘肃 集中 开工 35 个 重点 交通 建设项目</td>\n",
       "      <td>http://home.xinhua-news.com/gdsdetailxhsnew/22...</td>\n",
       "      <td>1</td>\n",
       "    </tr>\n",
       "    <tr>\n",
       "      <th>89608</th>\n",
       "      <td>3</td>\n",
       "      <td>张旌</td>\n",
       "      <td>新华社</td>\n",
       "      <td>\\ n \\ n2017 年 5 月 29 日 ， 在 法国巴黎 郊外 的 凡尔赛宫 ， 法国...</td>\n",
       "      <td>{\"type\":\"其它\",\"site\":\"新华社\",\"url\":\"http://home.x...</td>\n",
       "      <td>法国议会 选举 　 马克 龙 有望 获 “ 压倒性 胜利 ”</td>\n",
       "      <td>http://home.xinhua-news.com/gdsdetailxhsnew/22...</td>\n",
       "      <td>1</td>\n",
       "    </tr>\n",
       "    <tr>\n",
       "      <th>89609</th>\n",
       "      <td>2</td>\n",
       "      <td>夏文辉</td>\n",
       "      <td>新华社</td>\n",
       "      <td>\\ n \\ n2017 年 5 月 25 日 ， 在 美国 马萨诸塞州 剑桥市 ， 哈佛大学...</td>\n",
       "      <td>{\"type\":\"其它\",\"site\":\"新华社\",\"url\":\"http://home.x...</td>\n",
       "      <td>哈佛大学 为何 取消 这些 新生 入选 资格 ？</td>\n",
       "      <td>http://home.xinhua-news.com/gdsdetailxhsnew/22...</td>\n",
       "      <td>1</td>\n",
       "    </tr>\n",
       "    <tr>\n",
       "      <th>89610</th>\n",
       "      <td>1</td>\n",
       "      <td>王子江 张寒</td>\n",
       "      <td>新华社</td>\n",
       "      <td>新华社 德国 杜塞尔多夫 ６ 月 ６ 日电 题 ： 乒乓 女球迷 　 \\ n 　 　...</td>\n",
       "      <td>{\"type\":\"体育\",\"site\":\"新华社\",\"url\":\"http://home.x...</td>\n",
       "      <td>（ 体育 ） 题 ： 乒乓 女球迷</td>\n",
       "      <td>http://home.xinhua-news.com/gdsdetailxhsnew/22...</td>\n",
       "      <td>1</td>\n",
       "    </tr>\n",
       "  </tbody>\n",
       "</table>\n",
       "<p>78857 rows × 8 columns</p>\n",
       "</div>"
      ],
      "text/plain": [
       "          id            author source  \\\n",
       "3      89614               NaN    新华社   \n",
       "17     89600               NaN    新华网   \n",
       "25     89592               NaN    新华网   \n",
       "27     89590               NaN    新华网   \n",
       "39     89578               NaN    新华社   \n",
       "51     89566               NaN    新华网   \n",
       "65     89552               NaN   新华社@   \n",
       "95     89522               NaN    新华社   \n",
       "104    89513               NaN    新华网   \n",
       "113    89504               NaN    新华社   \n",
       "231    89386               NaN    新华网   \n",
       "305    89312               NaN    新华社   \n",
       "312    89305               NaN    新华社   \n",
       "314    89303               NaN    新华社   \n",
       "329    89288               NaN    新华网   \n",
       "330    89287               NaN    新华网   \n",
       "331    89286               NaN    新华网   \n",
       "335    89282               NaN    新华网   \n",
       "365    89252               NaN    新华网   \n",
       "376    89241               NaN    新华网   \n",
       "388    89229               NaN    新华网   \n",
       "445    89172               NaN    新华网   \n",
       "446    89171               NaN    新华网   \n",
       "448    89169               NaN    新华网   \n",
       "511    89106               NaN    新华网   \n",
       "514    89103               NaN    新华网   \n",
       "541    89076          王璐 PS039  新华通讯社   \n",
       "543    89074               刘瑞莹    新华社   \n",
       "545    89072               NaN    新华社   \n",
       "552    89065               NaN    新华网   \n",
       "...      ...               ...    ...   \n",
       "89581     30       INACIO ROSA    新华社   \n",
       "89582     29       INACIO ROSA    新华社   \n",
       "89583     28       INACIO ROSA    新华社   \n",
       "89584     27       INACIO ROSA    新华社   \n",
       "89585     26       INACIO ROSA    新华社   \n",
       "89586     25       INACIO ROSA    新华社   \n",
       "89587     24      LOVELY GHOSH    新华社   \n",
       "89588     23      LOVELY GHOSH    新华社   \n",
       "89589     22      LOVELY GHOSH    新华社   \n",
       "89590     21      LOVELY GHOSH    新华社   \n",
       "89591     20      LOVELY GHOSH    新华社   \n",
       "89592     19                张旌    新华社   \n",
       "89593     18               NaN    新华社   \n",
       "89594     17  LISELOTTE SABROE    新华社   \n",
       "89595     16  LISELOTTE SABROE    新华社   \n",
       "89596     15  LISELOTTE SABROE    新华社   \n",
       "89597     14  LISELOTTE SABROE    新华社   \n",
       "89598     13  LISELOTTE SABROE    新华社   \n",
       "89599     12  LISELOTTE SABROE    新华社   \n",
       "89600     11  LISELOTTE SABROE    新华社   \n",
       "89601     10  LISELOTTE SABROE    新华社   \n",
       "89602      9  LISELOTTE SABROE    新华社   \n",
       "89603      8               郑焕松    新华社   \n",
       "89604      7               郑焕松    新华社   \n",
       "89605      6               郑焕松    新华社   \n",
       "89606      5                邹峥    新华社   \n",
       "89607      4                王衡    新华社   \n",
       "89608      3                张旌    新华社   \n",
       "89609      2               夏文辉    新华社   \n",
       "89610      1            王子江 张寒    新华社   \n",
       "\n",
       "                                                 content  \\\n",
       "3      这是 6 月 18 日 在 葡萄牙 中部 大 佩德罗 冈 地区 拍摄 的 被 森林 大火 烧...   \n",
       "17     国歌 法 草案 首次 提请 最高 立法机关 审议 \\r\\n 点击 图片 进入 下 一页 \\r...   \n",
       "25     当地 时间 2017 年 6 月 17 日 ， 土耳其 马 尼萨 省 ， 在 土耳其 第 1...   \n",
       "27     英国 与 欧盟 的 “ 脱欧 ” 谈判 于 19 日 正式 开始 。 然而 此时 ， 英国首...   \n",
       "39     这是 6 月 18 日 在 葡萄牙 中部 大 佩德罗 冈 地区 拍摄 的 被 森林 大火 烧...   \n",
       "51     戈壁 的 大漠 黄沙 曾 掩埋 了 无数 西域 古道 ， 而 如今 一条 大漠 天路 正 顽...   \n",
       "65     从 百度 、 支付宝 到 App ? “ 高考 志愿 填报 ” 五花八门 \\r\\n 顾 女士...   \n",
       "95     新华社 韩国 济州 6 月 18 日电 综述 ： 亚 投行 第二届 年会 三大 亮点 \\r\\...   \n",
       "104    粤港澳 概念 板块 午后 走强 ， 珠海 港 、 恒基 达鑫 、 白云机场 等 个股 的 午...   \n",
       "113    新华社 北京 6 月 18 日电   经 军委 领导 批准 ， 《 军营 理论 热点 怎么 ...   \n",
       "231    东方 卫视 明星 旅游 体验 综艺节目 《 旅途 的 花样 》 6 月 17 日 （ 周六 ...   \n",
       "305    新华社 兰州 6 月 19 日电 （ 记者 张钦 ） 记者 19 日 了解 到 ， 刚刚 出...   \n",
       "312    新华社 乌鲁木齐 6 月 18 日电 （ 记者 杜刚 、 王秉阳 ） 6 月 18 日 ， ...   \n",
       "314    新华社 北京 6 月 19 日电 （ 记者 熊丰 ） 记者 从 公安部 消防局 获悉 ， 1...   \n",
       "329    新华社 北京 ６ 月 ２ ３ 日电 （ 记者 邢静 ） 幸福 是 人们 对 生活 最 美好 ...   \n",
       "330    新华社 昆明 6 月 23 日电 （ 记者 王研 ） 近年来 ， 随着 云南 航空业 的 迅...   \n",
       "331    新华社 北京 ６ 月 ２ ３ 日电 （ 记者 倪元 锦 ） ２ １ 日起 ， 京津冀 迎来 ...   \n",
       "335    新华社 北京 ６ 月 ２ ３ 日电 （ 记者   倪元 锦 ） ２ １ 日起 ， 京津冀 迎...   \n",
       "365    新华社 哈尔滨 6 月 23 日电 （ 记者   许正 ） 记者 23 日 从 黑龙江省 环...   \n",
       "376    新华社 合肥 ６ 月 ２ ３ 日电 ?   题 ： 安徽 不断 将 跨省 流域 补偿 试点 ...   \n",
       "388    新华社 重庆 ６ 月 ２ ３ 日电 ?   题 ： “ 悟空 ” 为何 跌下 共享 风口 ？...   \n",
       "445    新华社 贵阳 ６ 月 ２ ３ 日电 （ 记者   李黔 渝 ） 贵州省政府 近日 下发 通知...   \n",
       "446    新华社 广州 6 月 23 日电   题 ： 激发 内生 动力   走 在 脱贫 路上 — ...   \n",
       "448    新华社 南京 6 月 23 日电 （ 记者   朱国亮 ） 23 日 在 常州 召开 的 江...   \n",
       "511    于 2010 年 12 月 14 日 正式 于 杭州 成立 、 由 裕隆 集团 与 东风汽车...   \n",
       "514    美国 《 华盛顿邮报 》 6 月 14 日 披露 ， 主持 “ 通俄门 ” 调查 的 特别 ...   \n",
       "541    刘国梁 \\r\\n ? ? 新华社 北京 6 月 20 日电 记者 从 中国乒乓球协会 获悉 ...   \n",
       "543    　 　 暑期 旅游 旺季 是 各大 旅游 景区 开门 迎客 的 好时机 。 然而 ， 有 5...   \n",
       "545    　 　 新华社 北京 6 月 20 日电 　 总部 设在 德国 波恩 的 国际 残 奥委会 ...   \n",
       "552    新华社 成都 6 月 23 日电 （ 记者 周相吉 ） 四川省 在 坚决 查处 违纪 违法 ...   \n",
       "...                                                  ...   \n",
       "89581  新华社 照片 ， 外代 ， 2017 年 6 月 7 日 \\ n （ 外代 二线 ） 足球 ...   \n",
       "89582  新华社 照片 ， 外代 ， 2017 年 6 月 7 日 \\ n （ 外代 二线 ） 足球 ...   \n",
       "89583  新华社 照片 ， 外代 ， 2017 年 6 月 7 日 \\ n （ 外代 二线 ） 足球 ...   \n",
       "89584  新华社 照片 ， 外代 ， 2017 年 6 月 7 日 \\ n （ 外代 二线 ） 足球 ...   \n",
       "89585  新华社 照片 ， 外代 ， 2017 年 6 月 7 日 \\ n （ 外代 二线 ） 足球 ...   \n",
       "89586  新华社 照片 ， 外代 ， 2017 年 6 月 7 日 \\ n （ 外代 二线 ） 足球 ...   \n",
       "89587  新华社 照片 ， 外代 ， 2017 年 6 月 7 日 \\ n （ 外代 二线 ） 蚕丝 ...   \n",
       "89588  新华社 照片 ， 外代 ， 2017 年 6 月 7 日 \\ n （ 外代 二线 ） 蚕丝 ...   \n",
       "89589  新华社 照片 ， 外代 ， 2017 年 6 月 7 日 \\ n （ 外代 二线 ） 蚕丝 ...   \n",
       "89590  新华社 照片 ， 外代 ， 2017 年 6 月 7 日 \\ n （ 外代 二线 ） 蚕丝 ...   \n",
       "89591  新华社 照片 ， 外代 ， 2017 年 6 月 7 日 \\ n （ 外代 二线 ） 蚕丝 ...   \n",
       "89592  \\ n \\ n2017 年 4 月 27 日 ， 在 首尔 光化 门 广场 ， 民众 在 集...   \n",
       "89593  \\ n 新华社 巴格达 6 月 6 日电 （ 记者 魏玉栋 　 程帅 朋 ） 伊拉克 西部 ...   \n",
       "89594  新华社 照片 ， 外代 ， 2017 年 6 月 7 日 \\ n （ 外代 二线 ） 足球 ...   \n",
       "89595  新华社 照片 ， 外代 ， 2017 年 6 月 7 日 \\ n （ 外代 二线 ） 足球 ...   \n",
       "89596  新华社 照片 ， 外代 ， 2017 年 6 月 7 日 \\ n （ 外代 二线 ） 足球 ...   \n",
       "89597  新华社 照片 ， 外代 ， 2017 年 6 月 7 日 \\ n （ 外代 二线 ） 足球 ...   \n",
       "89598  新华社 照片 ， 外代 ， 2017 年 6 月 7 日 \\ n （ 外代 二线 ） 足球 ...   \n",
       "89599  新华社 照片 ， 外代 ， 2017 年 6 月 7 日 \\ n （ 外代 二线 ） 足球 ...   \n",
       "89600  新华社 照片 ， 外代 ， 2017 年 6 月 7 日 \\ n （ 外代 二线 ） 足球 ...   \n",
       "89601  新华社 照片 ， 外代 ， 2017 年 6 月 7 日 \\ n （ 外代 二线 ） 足球 ...   \n",
       "89602  新华社 照片 ， 外代 ， 2017 年 6 月 7 日 \\ n （ 外代 二线 ） 足球 ...   \n",
       "89603  新华社 照片 ， 北京 ， 2017 年 6 月 7 日 \\ n 电影 《 血战 湘江 》 ...   \n",
       "89604  新华社 照片 ， 北京 ， 2017 年 6 月 7 日 \\ n 电影 《 血战 湘江 》 ...   \n",
       "89605  新华社 照片 ， 北京 ， 2017 年 6 月 7 日 \\ n 电影 《 血战 湘江 》 ...   \n",
       "89606  新华社 照片 ， 多伦多 ， 2017 年 6 月 7 日 \\ n （ 体育 ） （ 2 ）...   \n",
       "89607  新华社 兰州 6 月 3 日电 （ 王衡 、 徐丹 ） 记者 从 甘肃省 交通运输 厅 获悉...   \n",
       "89608  \\ n \\ n2017 年 5 月 29 日 ， 在 法国巴黎 郊外 的 凡尔赛宫 ， 法国...   \n",
       "89609  \\ n \\ n2017 年 5 月 25 日 ， 在 美国 马萨诸塞州 剑桥市 ， 哈佛大学...   \n",
       "89610  　 　 新华社 德国 杜塞尔多夫 ６ 月 ６ 日电 题 ： 乒乓 女球迷 　 \\ n 　 　...   \n",
       "\n",
       "                                                 feature  \\\n",
       "3      {\"type\":\"国际新闻\",\"site\":\"环球\",\"commentNum\":\"0\",\"j...   \n",
       "17     {\"type\":\"观点滚动\",\"site\":\"参考消息\",\"commentNum\":\"0\",...   \n",
       "25     {\"type\":\"国际新闻\",\"site\":\"环球\",\"commentNum\":\"0\",\"j...   \n",
       "27     {\"type\":\"国际新闻\",\"site\":\"环球\",\"commentNum\":\"0\",\"j...   \n",
       "39     {\"type\":\"国际新闻\",\"site\":\"环球\",\"commentNum\":\"0\",\"j...   \n",
       "51     {\"type\":\"国内新闻\",\"site\":\"环球\",\"commentNum\":\"0\",\"j...   \n",
       "65     {\"type\":\"科技\",\"site\":\"cnbeta\",\"commentNum\":\"5\",...   \n",
       "95     {\"type\":\"国内新闻\",\"site\":\"环球\",\"commentNum\":\"0\",\"j...   \n",
       "104    {\"type\":\"金融市场\",\"site\":\"参考消息\",\"commentNum\":\"0\",...   \n",
       "113    {\"type\":\"国内新闻\",\"site\":\"环球\",\"commentNum\":\"0\",\"j...   \n",
       "231    {\"type\":\"娱乐\",\"site\":\"环球\",\"commentNum\":\"0\",\"joi...   \n",
       "305    {\"type\":\"国内新闻\",\"site\":\"环球\",\"commentNum\":\"0\",\"j...   \n",
       "312    {\"type\":\"国内新闻\",\"site\":\"环球\",\"commentNum\":\"0\",\"j...   \n",
       "314    {\"type\":\"国内新闻\",\"site\":\"环球\",\"commentNum\":\"0\",\"j...   \n",
       "329    {\"type\":\"社会观察\",\"site\":\"参考消息\",\"commentNum\":\"0\",...   \n",
       "330    {\"type\":\"社会观察\",\"site\":\"参考消息\",\"commentNum\":\"0\",...   \n",
       "331    {\"type\":\"社会观察\",\"site\":\"参考消息\",\"commentNum\":\"0\",...   \n",
       "335    {\"type\":\"社会观察\",\"site\":\"参考消息\",\"commentNum\":\"0\",...   \n",
       "365    {\"type\":\"社会观察\",\"site\":\"参考消息\",\"commentNum\":\"0\",...   \n",
       "376    {\"type\":\"社会观察\",\"site\":\"参考消息\",\"commentNum\":\"0\",...   \n",
       "388    {\"type\":\"社会观察\",\"site\":\"参考消息\",\"commentNum\":\"0\",...   \n",
       "445    {\"type\":\"社会观察\",\"site\":\"参考消息\",\"commentNum\":\"0\",...   \n",
       "446    {\"type\":\"社会观察\",\"site\":\"参考消息\",\"commentNum\":\"0\",...   \n",
       "448    {\"type\":\"社会观察\",\"site\":\"参考消息\",\"commentNum\":\"0\",...   \n",
       "511    {\"type\":\"国际\",\"site\":\"头条\",\"commentNum\":\"146\",\"j...   \n",
       "514    {\"type\":\"国际\",\"site\":\"头条\",\"commentNum\":\"146\",\"j...   \n",
       "541    {\"type\":\"体育\",\"site\":\"凤凰\",\"commentNum\":\"739\",\"j...   \n",
       "543    {\"type\":\"旅游\",\"site\":\"环球\",\"commentNum\":\"0\",\"joi...   \n",
       "545    {\"type\":\"体育\",\"site\":\"新浪\",\"commentNum\":\" 50\",\"j...   \n",
       "552    {\"type\":\"社会观察\",\"site\":\"参考消息\",\"commentNum\":\"0\",...   \n",
       "...                                                  ...   \n",
       "89581  {\"type\":\"足球\",\"site\":\"新华社\",\"url\":\"http://home.x...   \n",
       "89582  {\"type\":\"足球\",\"site\":\"新华社\",\"url\":\"http://home.x...   \n",
       "89583  {\"type\":\"足球\",\"site\":\"新华社\",\"url\":\"http://home.x...   \n",
       "89584  {\"type\":\"足球\",\"site\":\"新华社\",\"url\":\"http://home.x...   \n",
       "89585  {\"type\":\"足球\",\"site\":\"新华社\",\"url\":\"http://home.x...   \n",
       "89586  {\"type\":\"足球\",\"site\":\"新华社\",\"url\":\"http://home.x...   \n",
       "89587  {\"type\":\"其它\",\"site\":\"新华社\",\"url\":\"http://home.x...   \n",
       "89588  {\"type\":\"其它\",\"site\":\"新华社\",\"url\":\"http://home.x...   \n",
       "89589  {\"type\":\"其它\",\"site\":\"新华社\",\"url\":\"http://home.x...   \n",
       "89590  {\"type\":\"其它\",\"site\":\"新华社\",\"url\":\"http://home.x...   \n",
       "89591  {\"type\":\"其它\",\"site\":\"新华社\",\"url\":\"http://home.x...   \n",
       "89592  {\"type\":\"其它\",\"site\":\"新华社\",\"url\":\"http://home.x...   \n",
       "89593  {\"type\":\"其它\",\"site\":\"新华社\",\"url\":\"http://home.x...   \n",
       "89594  {\"type\":\"足球\",\"site\":\"新华社\",\"url\":\"http://home.x...   \n",
       "89595  {\"type\":\"足球\",\"site\":\"新华社\",\"url\":\"http://home.x...   \n",
       "89596  {\"type\":\"足球\",\"site\":\"新华社\",\"url\":\"http://home.x...   \n",
       "89597  {\"type\":\"足球\",\"site\":\"新华社\",\"url\":\"http://home.x...   \n",
       "89598  {\"type\":\"足球\",\"site\":\"新华社\",\"url\":\"http://home.x...   \n",
       "89599  {\"type\":\"足球\",\"site\":\"新华社\",\"url\":\"http://home.x...   \n",
       "89600  {\"type\":\"足球\",\"site\":\"新华社\",\"url\":\"http://home.x...   \n",
       "89601  {\"type\":\"足球\",\"site\":\"新华社\",\"url\":\"http://home.x...   \n",
       "89602  {\"type\":\"足球\",\"site\":\"新华社\",\"url\":\"http://home.x...   \n",
       "89603  {\"type\":\"社会\",\"site\":\"新华社\",\"url\":\"http://home.x...   \n",
       "89604  {\"type\":\"社会\",\"site\":\"新华社\",\"url\":\"http://home.x...   \n",
       "89605  {\"type\":\"社会\",\"site\":\"新华社\",\"url\":\"http://home.x...   \n",
       "89606  {\"type\":\"冰球\",\"site\":\"新华社\",\"url\":\"http://home.x...   \n",
       "89607  {\"type\":\"宏观经济\",\"site\":\"新华社\",\"url\":\"http://home...   \n",
       "89608  {\"type\":\"其它\",\"site\":\"新华社\",\"url\":\"http://home.x...   \n",
       "89609  {\"type\":\"其它\",\"site\":\"新华社\",\"url\":\"http://home.x...   \n",
       "89610  {\"type\":\"体育\",\"site\":\"新华社\",\"url\":\"http://home.x...   \n",
       "\n",
       "                                                title  \\\n",
       "3        葡 森林 火灾 造成 至少 62 人 死亡   政府 宣布 进入 紧急状态 （ 组图 ）   \n",
       "17                        [ 及时 点 ] 我们 不 需要 “ 百变 老太太 ”   \n",
       "25          土耳其 近 590 名 士兵 疑 食物中毒   被 送往 医院 救治 （ 组图 ）   \n",
       "27              火灾 与 脱欧 炙烤 英国首相   特雷莎 · 梅 面临 空前 政治 压力   \n",
       "39              葡 森林 火灾 造成 至少 62 人 死亡   政府 宣布 进入 紧急状态   \n",
       "51              大漠 变通途 — — 世界 上 最长 的 穿越 沙漠 高速公路 建设 纪实   \n",
       "65             高考 志愿 填报 ： 眼花缭乱 的 App 、 上万元 咨询 靠 谱 吗 ？   \n",
       "95                             综述 ： 亚 投行 第二届 年会 三大 亮点   \n",
       "104                    粤港澳 概念 板块 午后 走强   珠海 港 等 个股 领涨   \n",
       "113                    《 军营 理论 热点 怎么 看 · 2017 》 印发 全军   \n",
       "231                   林志玲 非洲 选美 气质 出众   网友 ： 美出 国际 范儿   \n",
       "305         甘肃 力推 网络 扶贫 ： 贫困山区 到 2020 年 实现 4G 网络 全 覆盖   \n",
       "312                               天山 天池 首次 举办 山地 马拉松赛   \n",
       "314                    9 省市 联动 开展 跨 区域 地震 救援 实战 拉动 演练   \n",
       "329              “ ２ ０ １ ７ 中国 最具 幸福感 城市 ” 调查 推选 活动 启动   \n",
       "330             云南 机场 公安 严打 “ 空中 贩毒 ” 3 年缴 毒 逾 600 公斤   \n",
       "331                                    气象专家 解析 京津冀 降雨   \n",
       "335                                    气象专家 解析 京津冀 降雨   \n",
       "365                         黑龙江 自然环境 改善 迎来 更 多 鸟 飞 鹤鸣   \n",
       "376                         安徽 不断 将 跨省 流域 补偿 试点 推向 深入   \n",
       "388    “ 悟空 ” 为何 跌下 共享 风口 ？ — — 重庆 首家 共享 单车 “ 退市 ” 观察   \n",
       "445                  贵州 对 一批 重大 火灾 隐患 单位 实施 “ 挂牌 督办 ”   \n",
       "446                              广东 探索 东西部 扶贫 协作 新 路径   \n",
       "448                     江苏 成立 VR / AR 产业 联盟 链接 上下游 企业   \n",
       "511                           特朗普 被查 ！ FBI 这次 动真格 了 ？   \n",
       "514                           特朗普 被查 ！ FBI 这次 动真格 了 ？   \n",
       "541                     刘国梁 不再 担任 国乒 总教练   将任 乒协 副 主席   \n",
       "543              一年 内 全国 12 家 5A 级 景区 被 国家旅游局 摘牌 或 警告   \n",
       "545                          张海迪 获得 国际 残 奥委会 主席 参选 提名   \n",
       "552         四川 为 “ 担当 有为者 ” 撑腰   已 澄清 2 万 党员干部 “ 是非 ”   \n",
       "...                                               ...   \n",
       "89581            [ 2 ] （ 外代 二线 ） 足球 — — 世 预赛 ： 葡萄牙 备战   \n",
       "89582            [ 3 ] （ 外代 二线 ） 足球 — — 世 预赛 ： 葡萄牙 备战   \n",
       "89583            [ 4 ] （ 外代 二线 ） 足球 — — 世 预赛 ： 葡萄牙 备战   \n",
       "89584            [ 5 ] （ 外代 二线 ） 足球 — — 世 预赛 ： 葡萄牙 备战   \n",
       "89585            [ 6 ] （ 外代 二线 ） 足球 — — 世 预赛 ： 葡萄牙 备战   \n",
       "89586            [ 7 ] （ 外代 二线 ） 足球 — — 世 预赛 ： 葡萄牙 备战   \n",
       "89587                           [ 1 ] （ 外代 二线 ） 蚕丝 生产   \n",
       "89588                           [ 2 ] （ 外代 二线 ） 蚕丝 生产   \n",
       "89589                           [ 3 ] （ 外代 二线 ） 蚕丝 生产   \n",
       "89590                           [ 4 ] （ 外代 二线 ） 蚕丝 生产   \n",
       "89591                           [ 5 ] （ 外代 二线 ） 蚕丝 生产   \n",
       "89592                 “ 萨德 ” 环评 将 重启 　 在 韩 部署 或 推迟 一年   \n",
       "89593                      伊拉克 安巴尔 省 发生 自杀式 袭击 ７ 人 死亡   \n",
       "89594         [ 1 ] （ 外代 二线 ） 足球 — — 国际 友谊赛 ： 德国 平 丹麦   \n",
       "89595         [ 3 ] （ 外代 二线 ） 足球 — — 国际 友谊赛 ： 德国 平 丹麦   \n",
       "89596         [ 2 ] （ 外代 二线 ） 足球 — — 国际 友谊赛 ： 德国 平 丹麦   \n",
       "89597         [ 4 ] （ 外代 二线 ） 足球 — — 国际 友谊赛 ： 德国 平 丹麦   \n",
       "89598         [ 6 ] （ 外代 二线 ） 足球 — — 国际 友谊赛 ： 德国 平 丹麦   \n",
       "89599         [ 5 ] （ 外代 二线 ） 足球 — — 国际 友谊赛 ： 德国 平 丹麦   \n",
       "89600         [ 8 ] （ 外代 二线 ） 足球 — — 国际 友谊赛 ： 德国 平 丹麦   \n",
       "89601         [ 7 ] （ 外代 二线 ） 足球 — — 国际 友谊赛 ： 德国 平 丹麦   \n",
       "89602         [ 9 ] （ 外代 二线 ） 足球 — — 国际 友谊赛 ： 德国 平 丹麦   \n",
       "89603         （ 文化 ） （ 1 ） 电影 《 血战 湘江 》 举行 清华大学 巡映 活动   \n",
       "89604         （ 文化 ） （ 2 ） 电影 《 血战 湘江 》 举行 清华大学 巡映 活动   \n",
       "89605         （ 文化 ） （ 3 ） 电影 《 血战 湘江 》 举行 清华大学 巡映 活动   \n",
       "89606    （ 体育 ） （ 2 ） 冰球 — — 国家 女子 冰球队 海外 选秀 在 多伦多 展开   \n",
       "89607                 （ 经济 ） 甘肃 集中 开工 35 个 重点 交通 建设项目   \n",
       "89608                  法国议会 选举 　 马克 龙 有望 获 “ 压倒性 胜利 ”   \n",
       "89609                        哈佛大学 为何 取消 这些 新生 入选 资格 ？   \n",
       "89610                             （ 体育 ） 题 ： 乒乓 女球迷 　   \n",
       "\n",
       "                                                     url  is_xinhua  \n",
       "3      http://world.huanqiu.com/hot/2017-06/10866126....          1  \n",
       "17     http://column.cankaoxiaoxi.com/plgd/2017/0623/...          1  \n",
       "25     http://world.huanqiu.com/hot/2017-06/10866176....          1  \n",
       "27     http://world.huanqiu.com/hot/2017-06/10866198....          1  \n",
       "39     http://world.huanqiu.com/hot/2017-06/10866229....          1  \n",
       "51     http://china.huanqiu.com/hot/2017-06/10866392....          1  \n",
       "65        http://www.cnbeta.com/articles/tech/623637.htm          1  \n",
       "95     http://china.huanqiu.com/hot/2017-06/10866439....          1  \n",
       "104    http://www.cankaoxiaoxi.com/finance/20170623/2...          1  \n",
       "113    http://china.huanqiu.com/hot/2017-06/10866447....          1  \n",
       "231    http://ent.huanqiu.com/article/2017-06/1086659...          1  \n",
       "305    http://china.huanqiu.com/hot/2017-06/10866626....          1  \n",
       "312    http://china.huanqiu.com/hot/2017-06/10866627....          1  \n",
       "314    http://china.huanqiu.com/hot/2017-06/10866630....          1  \n",
       "329    http://www.cankaoxiaoxi.com/china/20170623/214...          1  \n",
       "330    http://www.cankaoxiaoxi.com/china/20170623/214...          1  \n",
       "331    http://www.cankaoxiaoxi.com/china/20170623/214...          1  \n",
       "335    http://www.cankaoxiaoxi.com/china/20170623/214...          1  \n",
       "365    http://www.cankaoxiaoxi.com/china/20170623/214...          1  \n",
       "376    http://www.cankaoxiaoxi.com/china/20170623/214...          1  \n",
       "388    http://www.cankaoxiaoxi.com/china/20170623/214...          1  \n",
       "445    http://www.cankaoxiaoxi.com/china/20170623/214...          1  \n",
       "446    http://www.cankaoxiaoxi.com/china/20170623/214...          1  \n",
       "448    http://www.cankaoxiaoxi.com/china/20170623/214...          1  \n",
       "511    https://www.toutiao.com/group/6433666533058429...          1  \n",
       "514    https://www.toutiao.com/group/6433502139834827...          1  \n",
       "541    http://sports.ifeng.com/a/20170620/51286521_0....          1  \n",
       "543      http://go.huanqiu.com/news/2016-10/9542454.html          1  \n",
       "545    http://sports.sina.com.cn/others/others/2017-0...          1  \n",
       "552    http://www.cankaoxiaoxi.com/china/20170623/214...          1  \n",
       "...                                                  ...        ...  \n",
       "89581  http://home.xinhua-news.com/gdsdetailxhsnew/22...          1  \n",
       "89582  http://home.xinhua-news.com/gdsdetailxhsnew/22...          1  \n",
       "89583  http://home.xinhua-news.com/gdsdetailxhsnew/22...          1  \n",
       "89584  http://home.xinhua-news.com/gdsdetailxhsnew/22...          1  \n",
       "89585  http://home.xinhua-news.com/gdsdetailxhsnew/22...          1  \n",
       "89586  http://home.xinhua-news.com/gdsdetailxhsnew/22...          1  \n",
       "89587  http://home.xinhua-news.com/gdsdetailxhsnew/22...          1  \n",
       "89588  http://home.xinhua-news.com/gdsdetailxhsnew/22...          1  \n",
       "89589  http://home.xinhua-news.com/gdsdetailxhsnew/22...          1  \n",
       "89590  http://home.xinhua-news.com/gdsdetailxhsnew/22...          1  \n",
       "89591  http://home.xinhua-news.com/gdsdetailxhsnew/22...          1  \n",
       "89592  http://home.xinhua-news.com/gdsdetailxhsnew/22...          1  \n",
       "89593  http://home.xinhua-news.com/gdsdetailxhsnew/22...          1  \n",
       "89594  http://home.xinhua-news.com/gdsdetailxhsnew/22...          1  \n",
       "89595  http://home.xinhua-news.com/gdsdetailxhsnew/22...          1  \n",
       "89596  http://home.xinhua-news.com/gdsdetailxhsnew/22...          1  \n",
       "89597  http://home.xinhua-news.com/gdsdetailxhsnew/22...          1  \n",
       "89598  http://home.xinhua-news.com/gdsdetailxhsnew/22...          1  \n",
       "89599  http://home.xinhua-news.com/gdsdetailxhsnew/22...          1  \n",
       "89600  http://home.xinhua-news.com/gdsdetailxhsnew/22...          1  \n",
       "89601  http://home.xinhua-news.com/gdsdetailxhsnew/22...          1  \n",
       "89602  http://home.xinhua-news.com/gdsdetailxhsnew/22...          1  \n",
       "89603  http://home.xinhua-news.com/gdsdetailxhsnew/22...          1  \n",
       "89604  http://home.xinhua-news.com/gdsdetailxhsnew/22...          1  \n",
       "89605  http://home.xinhua-news.com/gdsdetailxhsnew/22...          1  \n",
       "89606  http://home.xinhua-news.com/gdsdetailxhsnew/22...          1  \n",
       "89607  http://home.xinhua-news.com/gdsdetailxhsnew/22...          1  \n",
       "89608  http://home.xinhua-news.com/gdsdetailxhsnew/22...          1  \n",
       "89609  http://home.xinhua-news.com/gdsdetailxhsnew/22...          1  \n",
       "89610  http://home.xinhua-news.com/gdsdetailxhsnew/22...          1  \n",
       "\n",
       "[78857 rows x 8 columns]"
      ]
     },
     "execution_count": 34,
     "metadata": {},
     "output_type": "execute_result"
    }
   ],
   "source": [
    "content[content['is_xinhua'] == 1]"
   ]
  },
  {
   "cell_type": "code",
   "execution_count": 33,
   "metadata": {},
   "outputs": [
    {
     "data": {
      "text/html": [
       "<div>\n",
       "<style>\n",
       "    .dataframe thead tr:only-child th {\n",
       "        text-align: right;\n",
       "    }\n",
       "\n",
       "    .dataframe thead th {\n",
       "        text-align: left;\n",
       "    }\n",
       "\n",
       "    .dataframe tbody tr th {\n",
       "        vertical-align: top;\n",
       "    }\n",
       "</style>\n",
       "<table border=\"1\" class=\"dataframe\">\n",
       "  <thead>\n",
       "    <tr style=\"text-align: right;\">\n",
       "      <th></th>\n",
       "      <th>id</th>\n",
       "      <th>author</th>\n",
       "      <th>source</th>\n",
       "      <th>content</th>\n",
       "      <th>feature</th>\n",
       "      <th>title</th>\n",
       "      <th>url</th>\n",
       "      <th>is_xinhua</th>\n",
       "    </tr>\n",
       "  </thead>\n",
       "  <tbody>\n",
       "    <tr>\n",
       "      <th>0</th>\n",
       "      <td>89617</td>\n",
       "      <td>NaN</td>\n",
       "      <td>快科技@http://www.kkj.cn/</td>\n",
       "      <td>此外，自本周（6月12日）起，除小米手机6等15款机型外，其余机型已暂停更新发布（含开发版/...</td>\n",
       "      <td>{\"type\":\"科技\",\"site\":\"cnbeta\",\"commentNum\":\"37\"...</td>\n",
       "      <td>小米MIUI 9首批机型曝光：共计15款</td>\n",
       "      <td>http://www.cnbeta.com/articles/tech/623597.htm</td>\n",
       "      <td>0</td>\n",
       "    </tr>\n",
       "    <tr>\n",
       "      <th>1</th>\n",
       "      <td>89616</td>\n",
       "      <td>NaN</td>\n",
       "      <td>快科技@http://www.kkj.cn/</td>\n",
       "      <td>骁龙835作为唯一通过Windows 10桌面平台认证的ARM处理器，高通强调，不会因为只考...</td>\n",
       "      <td>{\"type\":\"科技\",\"site\":\"cnbeta\",\"commentNum\":\"15\"...</td>\n",
       "      <td>骁龙835在Windows 10上的性能表现有望改善</td>\n",
       "      <td>http://www.cnbeta.com/articles/tech/623599.htm</td>\n",
       "      <td>0</td>\n",
       "    </tr>\n",
       "    <tr>\n",
       "      <th>2</th>\n",
       "      <td>89615</td>\n",
       "      <td>NaN</td>\n",
       "      <td>快科技@http://www.kkj.cn/</td>\n",
       "      <td>此前的一加3T搭载的是3400mAh电池，DashCharge快充规格为5V/4A。\\r\\n...</td>\n",
       "      <td>{\"type\":\"科技\",\"site\":\"cnbeta\",\"commentNum\":\"18\"...</td>\n",
       "      <td>一加手机5细节曝光：3300mAh、充半小时用1天</td>\n",
       "      <td>http://www.cnbeta.com/articles/tech/623601.htm</td>\n",
       "      <td>0</td>\n",
       "    </tr>\n",
       "    <tr>\n",
       "      <th>3</th>\n",
       "      <td>89614</td>\n",
       "      <td>NaN</td>\n",
       "      <td>新华社</td>\n",
       "      <td>这是6月18日在葡萄牙中部大佩德罗冈地区拍摄的被森林大火烧毁的汽车。新华社记者张立云摄\\r\\n</td>\n",
       "      <td>{\"type\":\"国际新闻\",\"site\":\"环球\",\"commentNum\":\"0\",\"j...</td>\n",
       "      <td>葡森林火灾造成至少62人死亡 政府宣布进入紧急状态（组图）</td>\n",
       "      <td>http://world.huanqiu.com/hot/2017-06/10866126....</td>\n",
       "      <td>1</td>\n",
       "    </tr>\n",
       "    <tr>\n",
       "      <th>4</th>\n",
       "      <td>89613</td>\n",
       "      <td>胡淑丽_MN7479</td>\n",
       "      <td>深圳大件事</td>\n",
       "      <td>（原标题：44岁女子跑深圳约会网友被拒，暴雨中裸身奔走……）\\r\\n@深圳交警微博称：昨日清...</td>\n",
       "      <td>{\"type\":\"新闻\",\"site\":\"网易热门\",\"commentNum\":\"978\",...</td>\n",
       "      <td>44岁女子约网友被拒暴雨中裸奔 交警为其披衣相随</td>\n",
       "      <td>http://news.163.com/17/0618/00/CN617P3Q0001875...</td>\n",
       "      <td>0</td>\n",
       "    </tr>\n",
       "  </tbody>\n",
       "</table>\n",
       "</div>"
      ],
      "text/plain": [
       "      id      author                  source  \\\n",
       "0  89617         NaN  快科技@http://www.kkj.cn/   \n",
       "1  89616         NaN  快科技@http://www.kkj.cn/   \n",
       "2  89615         NaN  快科技@http://www.kkj.cn/   \n",
       "3  89614         NaN                     新华社   \n",
       "4  89613  胡淑丽_MN7479                   深圳大件事   \n",
       "\n",
       "                                             content  \\\n",
       "0  此外，自本周（6月12日）起，除小米手机6等15款机型外，其余机型已暂停更新发布（含开发版/...   \n",
       "1  骁龙835作为唯一通过Windows 10桌面平台认证的ARM处理器，高通强调，不会因为只考...   \n",
       "2  此前的一加3T搭载的是3400mAh电池，DashCharge快充规格为5V/4A。\\r\\n...   \n",
       "3    这是6月18日在葡萄牙中部大佩德罗冈地区拍摄的被森林大火烧毁的汽车。新华社记者张立云摄\\r\\n   \n",
       "4  （原标题：44岁女子跑深圳约会网友被拒，暴雨中裸身奔走……）\\r\\n@深圳交警微博称：昨日清...   \n",
       "\n",
       "                                             feature  \\\n",
       "0  {\"type\":\"科技\",\"site\":\"cnbeta\",\"commentNum\":\"37\"...   \n",
       "1  {\"type\":\"科技\",\"site\":\"cnbeta\",\"commentNum\":\"15\"...   \n",
       "2  {\"type\":\"科技\",\"site\":\"cnbeta\",\"commentNum\":\"18\"...   \n",
       "3  {\"type\":\"国际新闻\",\"site\":\"环球\",\"commentNum\":\"0\",\"j...   \n",
       "4  {\"type\":\"新闻\",\"site\":\"网易热门\",\"commentNum\":\"978\",...   \n",
       "\n",
       "                           title  \\\n",
       "0           小米MIUI 9首批机型曝光：共计15款   \n",
       "1     骁龙835在Windows 10上的性能表现有望改善   \n",
       "2      一加手机5细节曝光：3300mAh、充半小时用1天   \n",
       "3  葡森林火灾造成至少62人死亡 政府宣布进入紧急状态（组图）   \n",
       "4       44岁女子约网友被拒暴雨中裸奔 交警为其披衣相随   \n",
       "\n",
       "                                                 url is_xinhua  \n",
       "0     http://www.cnbeta.com/articles/tech/623597.htm         0  \n",
       "1     http://www.cnbeta.com/articles/tech/623599.htm         0  \n",
       "2     http://www.cnbeta.com/articles/tech/623601.htm         0  \n",
       "3  http://world.huanqiu.com/hot/2017-06/10866126....         1  \n",
       "4  http://news.163.com/17/0618/00/CN617P3Q0001875...         0  "
      ]
     },
     "execution_count": 33,
     "metadata": {},
     "output_type": "execute_result"
    }
   ],
   "source": [
    "content.head()"
   ]
  },
  {
   "cell_type": "markdown",
   "metadata": {},
   "source": [
    "## Based on Title or Based on Content? \n",
    "\n",
    "Answer: Just Try it"
   ]
  },
  {
   "cell_type": "code",
   "execution_count": 48,
   "metadata": {
    "collapsed": true
   },
   "outputs": [],
   "source": [
    "X_title = content['title'].values"
   ]
  },
  {
   "cell_type": "code",
   "execution_count": 49,
   "metadata": {
    "collapsed": true
   },
   "outputs": [],
   "source": [
    "X_content = content['content'].values"
   ]
  },
  {
   "cell_type": "code",
   "execution_count": 50,
   "metadata": {
    "collapsed": true
   },
   "outputs": [],
   "source": [
    "y = content['is_xinhua'].values"
   ]
  },
  {
   "cell_type": "code",
   "execution_count": 51,
   "metadata": {},
   "outputs": [
    {
     "data": {
      "text/plain": [
       "True"
      ]
     },
     "execution_count": 51,
     "metadata": {},
     "output_type": "execute_result"
    }
   ],
   "source": [
    "len(X_title) == len(X_content) == len(y)"
   ]
  },
  {
   "cell_type": "code",
   "execution_count": 52,
   "metadata": {},
   "outputs": [
    {
     "data": {
      "text/plain": [
       "array([0, 0, 0, 1, 0, 0, 0, 0, 0, 0])"
      ]
     },
     "execution_count": 52,
     "metadata": {},
     "output_type": "execute_result"
    }
   ],
   "source": [
    "y[:10]"
   ]
  },
  {
   "cell_type": "code",
   "execution_count": 17,
   "metadata": {
    "collapsed": true
   },
   "outputs": [],
   "source": [
    "from sklearn.model_selection import train_test_split"
   ]
  },
  {
   "cell_type": "markdown",
   "metadata": {},
   "source": [
    "## Get X_title tfidf vector"
   ]
  },
  {
   "cell_type": "code",
   "execution_count": 40,
   "metadata": {
    "collapsed": true
   },
   "outputs": [],
   "source": [
    "from sklearn.feature_extraction.text import TfidfVectorizer"
   ]
  },
  {
   "cell_type": "code",
   "execution_count": 46,
   "metadata": {
    "collapsed": true
   },
   "outputs": [],
   "source": [
    "vectorizer = TfidfVectorizer(max_features=30000)"
   ]
  },
  {
   "cell_type": "code",
   "execution_count": 53,
   "metadata": {},
   "outputs": [],
   "source": [
    "X_title = vectorizer.fit_transform(X_title)"
   ]
  },
  {
   "cell_type": "code",
   "execution_count": 54,
   "metadata": {
    "collapsed": true
   },
   "outputs": [],
   "source": [
    "X_content = vectorizer.fit_transform(X_content)"
   ]
  },
  {
   "cell_type": "code",
   "execution_count": 55,
   "metadata": {},
   "outputs": [
    {
     "data": {
      "text/plain": [
       "(89611, 30000)"
      ]
     },
     "execution_count": 55,
     "metadata": {},
     "output_type": "execute_result"
    }
   ],
   "source": [
    "X_content.shape"
   ]
  },
  {
   "cell_type": "code",
   "execution_count": 23,
   "metadata": {},
   "outputs": [
    {
     "ename": "NameError",
     "evalue": "name 'train_test_split' is not defined",
     "output_type": "error",
     "traceback": [
      "\u001b[0;31m---------------------------------------------------------------------------\u001b[0m",
      "\u001b[0;31mNameError\u001b[0m                                 Traceback (most recent call last)",
      "\u001b[0;32m<ipython-input-23-29d783a13971>\u001b[0m in \u001b[0;36m<module>\u001b[0;34m()\u001b[0m\n\u001b[0;32m----> 1\u001b[0;31m \u001b[0mX_t_train\u001b[0m\u001b[0;34m,\u001b[0m \u001b[0mX_t_test\u001b[0m\u001b[0;34m,\u001b[0m \u001b[0my_train\u001b[0m\u001b[0;34m,\u001b[0m \u001b[0my_test\u001b[0m \u001b[0;34m=\u001b[0m \u001b[0mtrain_test_split\u001b[0m\u001b[0;34m(\u001b[0m\u001b[0mX_title\u001b[0m\u001b[0;34m,\u001b[0m \u001b[0my\u001b[0m\u001b[0;34m,\u001b[0m \u001b[0mtest_size\u001b[0m\u001b[0;34m=\u001b[0m\u001b[0;36m0.25\u001b[0m\u001b[0;34m,\u001b[0m \u001b[0mrandom_state\u001b[0m\u001b[0;34m=\u001b[0m\u001b[0;36m0\u001b[0m\u001b[0;34m)\u001b[0m\u001b[0;34m\u001b[0m\u001b[0m\n\u001b[0m",
      "\u001b[0;31mNameError\u001b[0m: name 'train_test_split' is not defined"
     ]
    }
   ],
   "source": [
    "X_t_train, X_t_test, y_train, y_test = train_test_split(X_title, y, test_size=0.25, random_state=0)"
   ]
  },
  {
   "cell_type": "code",
   "execution_count": 79,
   "metadata": {
    "collapsed": true
   },
   "outputs": [],
   "source": [
    "X_c_train, X_c_test, y_c_train, y_c_test = train_test_split(X_content, y, test_size=0.25, random_state=0)"
   ]
  },
  {
   "cell_type": "code",
   "execution_count": 78,
   "metadata": {},
   "outputs": [
    {
     "data": {
      "text/plain": [
       "(67208, 70108)"
      ]
     },
     "execution_count": 78,
     "metadata": {},
     "output_type": "execute_result"
    }
   ],
   "source": [
    "X_t_train.shape"
   ]
  },
  {
   "cell_type": "code",
   "execution_count": 94,
   "metadata": {
    "collapsed": true
   },
   "outputs": [],
   "source": [
    "indices = np.arange(len(y))\n",
    "np.random.shuffle(indices)\n",
    "split_test = 0.25"
   ]
  },
  {
   "cell_type": "code",
   "execution_count": 101,
   "metadata": {
    "collapsed": true
   },
   "outputs": [],
   "source": [
    "train_indices = indices[: int(len(indices)*split_test)]"
   ]
  },
  {
   "cell_type": "code",
   "execution_count": 102,
   "metadata": {
    "collapsed": true
   },
   "outputs": [],
   "source": [
    "test_indices = indices[int(len(indices) * split_test):]"
   ]
  },
  {
   "cell_type": "code",
   "execution_count": 131,
   "metadata": {
    "collapsed": true
   },
   "outputs": [],
   "source": [
    "X_t_train, X_t_test, y_train, y_test = (\n",
    "    X_title[train_indices], X_title[test_indices], \n",
    "    y[train_indices], y[test_indices])"
   ]
  },
  {
   "cell_type": "code",
   "execution_count": 129,
   "metadata": {
    "collapsed": true
   },
   "outputs": [],
   "source": [
    "from sklearn.naive_bayes import GaussianNB"
   ]
  },
  {
   "cell_type": "code",
   "execution_count": 133,
   "metadata": {
    "collapsed": true
   },
   "outputs": [],
   "source": [
    "clf = GaussianNB()"
   ]
  },
  {
   "cell_type": "code",
   "execution_count": 134,
   "metadata": {
    "collapsed": true
   },
   "outputs": [],
   "source": [
    "from sklearn import datasets"
   ]
  },
  {
   "cell_type": "code",
   "execution_count": 136,
   "metadata": {},
   "outputs": [
    {
     "data": {
      "text/plain": [
       "GaussianNB(priors=None)"
      ]
     },
     "execution_count": 136,
     "metadata": {},
     "output_type": "execute_result"
    }
   ],
   "source": [
    "clf.fit(X_t_train.toarray(), y_train)"
   ]
  },
  {
   "cell_type": "code",
   "execution_count": 199,
   "metadata": {
    "collapsed": true
   },
   "outputs": [],
   "source": [
    "from sklearn.metrics import confusion_matrix"
   ]
  },
  {
   "cell_type": "code",
   "execution_count": 201,
   "metadata": {
    "collapsed": true
   },
   "outputs": [],
   "source": [
    "def get_performance(clf, X_, y_, sample=1000):\n",
    "    random_indices = np.random.choice(np.arange(len(y_)), sample)\n",
    "    sub_x = X_[random_indices]\n",
    "    sub_y = y_[random_indices]\n",
    "    y_hat = clf.predict(sub_x.toarray())\n",
    "    print('percision is: {}'.format(precision_score(sub_y, y_hat)))\n",
    "    print('recall is: {}'.format(recall_score(sub_y, y_hat)))\n",
    "    print('roc_auc is: {}'.format(roc_auc_score(sub_y, y_hat)))\n",
    "    print('confusion matrix: \\n{}'.format(confusion_matrix(sub_y, y_hat, labels=[0, 1])))"
   ]
  },
  {
   "cell_type": "code",
   "execution_count": 158,
   "metadata": {
    "collapsed": true
   },
   "outputs": [],
   "source": [
    "sample = 5000\n",
    "random_train_indices = np.random.choice(np.arange(len(y_train)), sample)"
   ]
  },
  {
   "cell_type": "code",
   "execution_count": 159,
   "metadata": {
    "collapsed": true
   },
   "outputs": [],
   "source": [
    "sub_x_train = X_t_train[random_train_indices]"
   ]
  },
  {
   "cell_type": "code",
   "execution_count": 160,
   "metadata": {
    "collapsed": true
   },
   "outputs": [],
   "source": [
    "sub_y_train = y_train[random_train_indices]"
   ]
  },
  {
   "cell_type": "code",
   "execution_count": 161,
   "metadata": {
    "collapsed": true
   },
   "outputs": [],
   "source": [
    "sub_predict = clf.predict(sub_x_train.toarray())"
   ]
  },
  {
   "cell_type": "code",
   "execution_count": 184,
   "metadata": {
    "collapsed": true
   },
   "outputs": [],
   "source": [
    "from sklearn.metrics import precision_score"
   ]
  },
  {
   "cell_type": "code",
   "execution_count": 152,
   "metadata": {
    "collapsed": true
   },
   "outputs": [],
   "source": [
    "from sklearn.metrics import recall_score"
   ]
  },
  {
   "cell_type": "code",
   "execution_count": 166,
   "metadata": {
    "collapsed": true
   },
   "outputs": [],
   "source": [
    "from sklearn.metrics import roc_auc_score"
   ]
  },
  {
   "cell_type": "code",
   "execution_count": 186,
   "metadata": {},
   "outputs": [
    {
     "name": "stdout",
     "output_type": "stream",
     "text": [
      "percision is: 1.0\n",
      "recall is: 1.0\n",
      "roc_auc is: 1.0\n"
     ]
    }
   ],
   "source": [
    "get_performance(clf, X_=X_t_train, y_=y_train, sample=1000)"
   ]
  },
  {
   "cell_type": "markdown",
   "metadata": {},
   "source": [
    "By definition a confusion matrix $ C  $ is such that $ C_{i, j} $ is equal to the number of observations known to be in group $ i $  but predicted to be in group $ j $.\n",
    "\n",
    "Thus in binary classification, the count of true negatives is $ C_{0,0} $, false negatives is $ C_{1,0} $ , true positives is $ C_{1,1} $ and false positives is $ C_{0,1} $."
   ]
  },
  {
   "cell_type": "code",
   "execution_count": 202,
   "metadata": {},
   "outputs": [
    {
     "name": "stdout",
     "output_type": "stream",
     "text": [
      "percision is: 0.9948330683624801\n",
      "recall is: 0.9364010475121586\n",
      "roc_auc is: 0.9483228479151007\n",
      "confusion matrix: \n",
      "[[ 314   13]\n",
      " [ 170 2503]]\n"
     ]
    }
   ],
   "source": [
    "get_performance(clf, X_=X_t_test, y_=y_test, sample=3000)"
   ]
  },
  {
   "cell_type": "markdown",
   "metadata": {},
   "source": [
    "314 is the number that is group 0, and classified to group 0, 13 is the number that is group 0, but classified to 1; 170 is the number that is group 1, but is classified to group 0, 2503 is group 1 and classified to group 1."
   ]
  },
  {
   "cell_type": "code",
   "execution_count": 163,
   "metadata": {},
   "outputs": [
    {
     "data": {
      "text/plain": [
       "1.0"
      ]
     },
     "execution_count": 163,
     "metadata": {},
     "output_type": "execute_result"
    }
   ],
   "source": [
    "accuracy_score(sub_y_train, sub_predict)"
   ]
  },
  {
   "cell_type": "code",
   "execution_count": 164,
   "metadata": {},
   "outputs": [
    {
     "data": {
      "text/plain": [
       "1.0"
      ]
     },
     "execution_count": 164,
     "metadata": {},
     "output_type": "execute_result"
    }
   ],
   "source": [
    "recall_score(sub_y_train, sub_predict)"
   ]
  },
  {
   "cell_type": "code",
   "execution_count": 167,
   "metadata": {},
   "outputs": [
    {
     "data": {
      "text/plain": [
       "1.0"
      ]
     },
     "execution_count": 167,
     "metadata": {},
     "output_type": "execute_result"
    }
   ],
   "source": [
    "roc_auc_score(sub_y_train, sub_predict)"
   ]
  },
  {
   "cell_type": "code",
   "execution_count": 168,
   "metadata": {
    "collapsed": true
   },
   "outputs": [],
   "source": [
    "test_sample = 5000\n",
    "random_test_indices = np.random.choice(np.arange(len(y_test)), test_sample)"
   ]
  },
  {
   "cell_type": "code",
   "execution_count": 169,
   "metadata": {
    "collapsed": true
   },
   "outputs": [],
   "source": [
    "sub_x_test = X_t_test[random_test_indices]"
   ]
  },
  {
   "cell_type": "code",
   "execution_count": 171,
   "metadata": {
    "collapsed": true
   },
   "outputs": [],
   "source": [
    "sub_y_test = y_test[random_test_indices]"
   ]
  },
  {
   "cell_type": "code",
   "execution_count": 174,
   "metadata": {
    "collapsed": true
   },
   "outputs": [],
   "source": [
    "sub_test_predict = clf.predict(sub_x_test.toarray())"
   ]
  },
  {
   "cell_type": "code",
   "execution_count": 175,
   "metadata": {},
   "outputs": [
    {
     "data": {
      "text/plain": [
       "0.9344"
      ]
     },
     "execution_count": 175,
     "metadata": {},
     "output_type": "execute_result"
    }
   ],
   "source": [
    "accuracy_score(sub_y_test, sub_test_predict)"
   ]
  },
  {
   "cell_type": "code",
   "execution_count": 176,
   "metadata": {},
   "outputs": [
    {
     "data": {
      "text/plain": [
       "0.9282758620689655"
      ]
     },
     "execution_count": 176,
     "metadata": {},
     "output_type": "execute_result"
    }
   ],
   "source": [
    "recall_score(sub_y_test, sub_test_predict)"
   ]
  },
  {
   "cell_type": "code",
   "execution_count": 177,
   "metadata": {},
   "outputs": [
    {
     "data": {
      "text/plain": [
       "0.9518302387267905"
      ]
     },
     "execution_count": 177,
     "metadata": {},
     "output_type": "execute_result"
    }
   ],
   "source": [
    "roc_auc_score(sub_y_test, sub_test_predict)"
   ]
  },
  {
   "cell_type": "markdown",
   "metadata": {},
   "source": [
    "## If we add some prior how performance? "
   ]
  },
  {
   "cell_type": "code",
   "execution_count": 196,
   "metadata": {
    "collapsed": true
   },
   "outputs": [],
   "source": [
    "clf_p = GaussianNB(priors=[0.5, 0.5])"
   ]
  },
  {
   "cell_type": "code",
   "execution_count": 197,
   "metadata": {},
   "outputs": [
    {
     "data": {
      "text/plain": [
       "GaussianNB(priors=[0.5, 0.5])"
      ]
     },
     "execution_count": 197,
     "metadata": {},
     "output_type": "execute_result"
    }
   ],
   "source": [
    "clf_p.fit(X_t_train.toarray()[:3000], y_train[:3000])"
   ]
  },
  {
   "cell_type": "code",
   "execution_count": 195,
   "metadata": {},
   "outputs": [
    {
     "name": "stdout",
     "output_type": "stream",
     "text": [
      "percision is: 0.996328029375765\n",
      "recall is: 0.9187358916478555\n",
      "roc_auc is: 0.9462100510870856\n"
     ]
    }
   ],
   "source": [
    "get_performance(clf_p, X_=X_t_train, y_=y_train, sample=1000) # old"
   ]
  },
  {
   "cell_type": "code",
   "execution_count": 198,
   "metadata": {},
   "outputs": [
    {
     "name": "stdout",
     "output_type": "stream",
     "text": [
      "percision is: 0.9962216624685138\n",
      "recall is: 0.9197674418604651\n",
      "roc_auc is: 0.9491694352159469\n"
     ]
    }
   ],
   "source": [
    "get_performance(clf_p, X_=X_t_train, y_=y_train, sample=1000) # new 0.5 0.5"
   ]
  },
  {
   "cell_type": "markdown",
   "metadata": {},
   "source": [
    "### performance of classification with prior"
   ]
  },
  {
   "cell_type": "code",
   "execution_count": 190,
   "metadata": {},
   "outputs": [
    {
     "name": "stdout",
     "output_type": "stream",
     "text": [
      "percision is: 0.9975874547647768\n",
      "recall is: 0.9229910714285714\n",
      "roc_auc is: 0.951880151098901\n"
     ]
    }
   ],
   "source": [
    "get_performance(clf_p, X_=X_t_test, y_=y_test, sample=1000)"
   ]
  },
  {
   "cell_type": "code",
   "execution_count": 203,
   "metadata": {
    "collapsed": true
   },
   "outputs": [],
   "source": [
    "from sklearn.tree import DecisionTreeClassifier"
   ]
  },
  {
   "cell_type": "code",
   "execution_count": 254,
   "metadata": {
    "collapsed": true
   },
   "outputs": [],
   "source": [
    "clf_tree = DecisionTreeClassifier(class_weight={0:5, 1:4}, criterion='entropy', max_features=5000)"
   ]
  },
  {
   "cell_type": "code",
   "execution_count": 209,
   "metadata": {},
   "outputs": [
    {
     "data": {
      "text/plain": [
       "22402"
      ]
     },
     "execution_count": 209,
     "metadata": {},
     "output_type": "execute_result"
    }
   ],
   "source": [
    "len(y_train)"
   ]
  },
  {
   "cell_type": "code",
   "execution_count": 256,
   "metadata": {},
   "outputs": [
    {
     "data": {
      "text/plain": [
       "DecisionTreeClassifier(class_weight={0: 5, 1: 4}, criterion='entropy',\n",
       "            max_depth=None, max_features=5000, max_leaf_nodes=None,\n",
       "            min_impurity_decrease=0.0, min_impurity_split=None,\n",
       "            min_samples_leaf=1, min_samples_split=2,\n",
       "            min_weight_fraction_leaf=0.0, presort=False, random_state=None,\n",
       "            splitter='best')"
      ]
     },
     "execution_count": 256,
     "metadata": {},
     "output_type": "execute_result"
    }
   ],
   "source": [
    "clf_tree.fit(X_t_train[:2200], y_train[:2200])"
   ]
  },
  {
   "cell_type": "code",
   "execution_count": 211,
   "metadata": {},
   "outputs": [
    {
     "name": "stdout",
     "output_type": "stream",
     "text": [
      "percision is: 0.9987228607918263\n",
      "recall is: 0.8916761687571265\n",
      "roc_auc is: 0.9417730437281566\n",
      "confusion matrix: \n",
      "[[122   1]\n",
      " [ 95 782]]\n"
     ]
    }
   ],
   "source": [
    "get_performance(clf_tree, X_=X_t_train, y_=y_train, sample=1000)"
   ]
  },
  {
   "cell_type": "code",
   "execution_count": 257,
   "metadata": {},
   "outputs": [
    {
     "name": "stdout",
     "output_type": "stream",
     "text": [
      "percision is: 0.9987421383647799\n",
      "recall is: 0.8911335578002245\n",
      "roc_auc is: 0.9409796229368096\n",
      "confusion matrix: \n",
      "[[108   1]\n",
      " [ 97 794]]\n"
     ]
    }
   ],
   "source": [
    "get_performance(clf_tree, X_=X_t_train, y_=y_train, sample=1000)"
   ]
  },
  {
   "cell_type": "code",
   "execution_count": 212,
   "metadata": {},
   "outputs": [
    {
     "name": "stdout",
     "output_type": "stream",
     "text": [
      "percision is: 0.9987029831387808\n",
      "recall is: 0.8901734104046243\n",
      "roc_auc is: 0.9413830014986084\n",
      "confusion matrix: \n",
      "[[134   1]\n",
      " [ 95 770]]\n"
     ]
    }
   ],
   "source": [
    "get_performance(clf_tree, X_=X_t_test, y_=y_test, sample=1000)"
   ]
  },
  {
   "cell_type": "markdown",
   "metadata": {},
   "source": [
    "### Find the most similar "
   ]
  },
  {
   "cell_type": "code",
   "execution_count": 56,
   "metadata": {
    "collapsed": true
   },
   "outputs": [],
   "source": [
    "mini_X_title = X_title[:1000]"
   ]
  },
  {
   "cell_type": "code",
   "execution_count": 25,
   "metadata": {
    "collapsed": true
   },
   "outputs": [],
   "source": [
    "del X_title"
   ]
  },
  {
   "cell_type": "code",
   "execution_count": 26,
   "metadata": {
    "collapsed": true
   },
   "outputs": [],
   "source": [
    "del X_content"
   ]
  },
  {
   "cell_type": "code",
   "execution_count": 57,
   "metadata": {},
   "outputs": [],
   "source": [
    "mini_X_content = X_content[:1000]"
   ]
  },
  {
   "cell_type": "code",
   "execution_count": 62,
   "metadata": {
    "collapsed": true
   },
   "outputs": [],
   "source": [
    "mini_X_title_ndarray = mini_X_title.toarray()\n",
    "mini_X_content_ndarray = mini_X_content.toarray()"
   ]
  },
  {
   "cell_type": "code",
   "execution_count": 59,
   "metadata": {
    "collapsed": true
   },
   "outputs": [],
   "source": [
    "del mini_X_content_ndarray"
   ]
  },
  {
   "cell_type": "code",
   "execution_count": 60,
   "metadata": {
    "collapsed": true
   },
   "outputs": [],
   "source": [
    "del mini_X_title_ndarray"
   ]
  },
  {
   "cell_type": "markdown",
   "metadata": {},
   "source": [
    "if we change the [0, 0, a, 0, 0, 0] = [False, False, True, False, False, False]"
   ]
  },
  {
   "cell_type": "code",
   "execution_count": 63,
   "metadata": {
    "collapsed": true
   },
   "outputs": [],
   "source": [
    "X_content_ndarray_one_zero = mini_X_content_ndarray.astype(bool).astype(int)"
   ]
  },
  {
   "cell_type": "code",
   "execution_count": 65,
   "metadata": {},
   "outputs": [],
   "source": [
    "X_content_ndarray_transpose = np.transpose(X_content_ndarray_one_zero)"
   ]
  },
  {
   "cell_type": "code",
   "execution_count": 66,
   "metadata": {
    "collapsed": true
   },
   "outputs": [],
   "source": [
    "X_words_article_id_map = X_content_ndarray_transpose"
   ]
  },
  {
   "cell_type": "code",
   "execution_count": 71,
   "metadata": {},
   "outputs": [
    {
     "data": {
      "text/plain": [
       "array([   39,    78,   768,  2465,  2516,  4244,  4828,  5057,  5128,\n",
       "        7249,  7445,  7715, 11427, 11846, 11893, 12685, 13041, 13082,\n",
       "       13812, 13988, 16188, 16482, 16548, 16549, 16667, 16875, 16971,\n",
       "       17898, 20132, 20580, 21448, 21497, 21500, 22354, 22545, 26893,\n",
       "       27012, 28659])"
      ]
     },
     "execution_count": 71,
     "metadata": {},
     "output_type": "execute_result"
    }
   ],
   "source": [
    "np.where(X_content[0].toarray())[1]"
   ]
  },
  {
   "cell_type": "code",
   "execution_count": 74,
   "metadata": {},
   "outputs": [],
   "source": [
    "id_word_map = {i: w for w, i in vectorizer.vocabulary_.items()}"
   ]
  },
  {
   "cell_type": "code",
   "execution_count": 77,
   "metadata": {},
   "outputs": [
    {
     "name": "stdout",
     "output_type": "stream",
     "text": [
      "12\n",
      "15\n",
      "一年\n",
      "主要\n",
      "之中\n",
      "信息\n",
      "全部\n",
      "关于\n",
      "其余\n",
      "去年\n",
      "发布\n",
      "可以\n",
      "小米\n",
      "工作\n",
      "工程师\n",
      "开发\n",
      "当然\n",
      "影响\n",
      "我们\n",
      "手机\n",
      "时候\n",
      "暂停\n",
      "更新\n",
      "更新换代\n",
      "有人\n",
      "本周\n",
      "机型\n",
      "此外\n",
      "猜测\n",
      "用到\n",
      "研发\n",
      "确保\n",
      "确切\n",
      "等待\n",
      "精力\n",
      "还是\n",
      "进行\n",
      "集中\n"
     ]
    }
   ],
   "source": [
    "for i in np.where(X_content[0].toarray())[1]: \n",
    "    print(id_word_map[i])"
   ]
  },
  {
   "cell_type": "code",
   "execution_count": 72,
   "metadata": {},
   "outputs": [
    {
     "data": {
      "text/plain": [
       "{'此外': 17898,\n",
       " '本周': 16875,\n",
       " '12': 39,\n",
       " '小米': 11427,\n",
       " '手机': 13988,\n",
       " '15': 78,\n",
       " '机型': 16971,\n",
       " '其余': 5128,\n",
       " '暂停': 16482,\n",
       " '更新': 16548,\n",
       " '发布': 7445,\n",
       " '开发': 12685,\n",
       " '影响': 13082,\n",
       " '确保': 21497,\n",
       " '工程师': 11893,\n",
       " '可以': 7715,\n",
       " '集中': 28659,\n",
       " '全部': 4828,\n",
       " '精力': 22545,\n",
       " '进行': 27012,\n",
       " '工作': 11846,\n",
       " '有人': 16667,\n",
       " '猜测': 20132,\n",
       " '主要': 2465,\n",
       " '用到': 20580,\n",
       " '研发': 21448,\n",
       " '之中': 2516,\n",
       " '去年': 7249,\n",
       " '一年': 768,\n",
       " '时候': 16188,\n",
       " '更新换代': 16549,\n",
       " '当然': 13041,\n",
       " '关于': 5057,\n",
       " '确切': 21500,\n",
       " '信息': 4244,\n",
       " '我们': 13812,\n",
       " '还是': 26893,\n",
       " '等待': 22354,\n",
       " '骁龙': 29556,\n",
       " '作为': 3963,\n",
       " '唯一': 8447,\n",
       " '通过': 27342,\n",
       " 'windows': 621,\n",
       " '10': 14,\n",
       " '桌面': 17574,\n",
       " '平台': 12281,\n",
       " '认证': 25341,\n",
       " '处理器': 9524,\n",
       " '高通': 29725,\n",
       " '强调': 12987,\n",
       " '不会': 1403,\n",
       " '因为': 8690,\n",
       " '考虑': 23538,\n",
       " '性能': 13418,\n",
       " '核心': 17493,\n",
       " '相反': 21167,\n",
       " '他们': 3413,\n",
       " '联手': 23656,\n",
       " '微软': 13224,\n",
       " '找到': 14206,\n",
       " '一种': 883,\n",
       " '适合': 27203,\n",
       " '兼顾': 5183,\n",
       " '完美': 10874,\n",
       " '方案': 15917,\n",
       " '报道': 14418,\n",
       " '已经': 11974,\n",
       " '拿到': 14634,\n",
       " '一些': 650,\n",
       " '以便': 3461,\n",
       " '更好': 16541,\n",
       " '理解': 20416,\n",
       " '架构': 17350,\n",
       " '资料': 26034,\n",
       " '显示': 16379,\n",
       " '一款': 846,\n",
       " '集成': 28676,\n",
       " 'cpu': 447,\n",
       " '传统': 3719,\n",
       " '节省': 24200,\n",
       " '至少': 24031,\n",
       " '30': 250,\n",
       " '空间': 22016,\n",
       " '按计划': 14709,\n",
       " '今年': 3354,\n",
       " '联想': 23654,\n",
       " '首发': 29317,\n",
       " '电脑': 20707,\n",
       " '预计': 29068,\n",
       " '形态': 13059,\n",
       " '产品': 3113,\n",
       " '只是': 7691,\n",
       " '开始': 12698,\n",
       " '未来': 16854,\n",
       " '也许': 2677,\n",
       " '见到': 25139,\n",
       " '三星': 1142,\n",
       " '华为': 6781,\n",
       " '麒麟': 29829,\n",
       " '澎湃': 19562,\n",
       " '进入': 26980,\n",
       " '此前': 17893,\n",
       " '一加': 689,\n",
       " '搭载': 15077,\n",
       " '电池': 20695,\n",
       " '规格': 25181,\n",
       " '4a': 310,\n",
       " '至于': 24027,\n",
       " '缩水': 23180,\n",
       " '可能': 7737,\n",
       " '所说': 13962,\n",
       " '大屏': 9922,\n",
       " '旗舰': 15991,\n",
       " '设定': 25432,\n",
       " '有关': 16670,\n",
       " '按照': 14706,\n",
       " '目前': 21097,\n",
       " '掌握': 14824,\n",
       " '拥有': 14609,\n",
       " 'amoled': 417,\n",
       " '显示屏': 16381,\n",
       " '1600': 92,\n",
       " '摄像头': 15084,\n",
       " '惊喜': 13601,\n",
       " '根据': 17514,\n",
       " '京东': 3145,\n",
       " '泄露': 18641,\n",
       " '售价': 8439,\n",
       " '应该': 12528,\n",
       " '某个': 17359,\n",
       " '这是': 26937,\n",
       " '18': 113,\n",
       " '葡萄牙': 24647,\n",
       " '中部': 2305,\n",
       " '佩德罗': 3997,\n",
       " '地区': 9072,\n",
       " '拍摄': 14547,\n",
       " '森林': 17680,\n",
       " '大火': 9995,\n",
       " '烧毁': 19727,\n",
       " '汽车': 18455,\n",
       " '新华社': 15776,\n",
       " '记者': 25389,\n",
       " '张立': 12914,\n",
       " '云摄': 2866,\n",
       " '标题': 17441,\n",
       " '44': 296,\n",
       " '女子': 10393,\n",
       " '深圳': 19186,\n",
       " '约会': 22716,\n",
       " '网友': 23208,\n",
       " '暴雨': 16515,\n",
       " '奔走': 10301,\n",
       " '交警': 3069,\n",
       " '昨日': 16363,\n",
       " '清晨': 19259,\n",
       " '发现': 7468,\n",
       " '上身': 1308,\n",
       " '行走': 24865,\n",
       " '快速': 13351,\n",
       " '期间': 16823,\n",
       " '轻生': 26595,\n",
       " '年头': 12342,\n",
       " '赶紧': 26202,\n",
       " '披上': 14422,\n",
       " '一路': 934,\n",
       " '劝说': 6235,\n",
       " '那么': 27479,\n",
       " '事发': 2785,\n",
       " '到底': 6045,\n",
       " '发生': 7472,\n",
       " '什么': 3327,\n",
       " '一起': 931,\n",
       " '还原': 26890,\n",
       " '现场': 20322,\n",
       " '大队': 10067,\n",
       " '中队': 2318,\n",
       " '辅警': 26630,\n",
       " '女生': 10408,\n",
       " '一位': 666,\n",
       " '外表': 9656,\n",
       " '高大': 29619,\n",
       " '帅气': 12149,\n",
       " '说话': 25636,\n",
       " '腼腆': 23917,\n",
       " '90': 395,\n",
       " '青年': 28811,\n",
       " '介绍': 3370,\n",
       " '16': 90,\n",
       " '早上': 16152,\n",
       " '36': 272,\n",
       " '正在': 17859,\n",
       " '环城': 20283,\n",
       " '南路': 6961,\n",
       " '附近': 28399,\n",
       " '接到': 14883,\n",
       " '机动车': 16966,\n",
       " '危险': 7129,\n",
       " '警情': 25286,\n",
       " '随后': 28568,\n",
       " '骑着': 29566,\n",
       " '铁骑': 27958,\n",
       " '寻找': 11285,\n",
       " '大概': 9971,\n",
       " '大道': 10056,\n",
       " '出口': 5617,\n",
       " '方向': 15910,\n",
       " '身上': 26437,\n",
       " '车流': 26487,\n",
       " '而行': 23560,\n",
       " '另外': 7679,\n",
       " '一名': 705,\n",
       " '上去': 1221,\n",
       " '情绪': 13593,\n",
       " '尝试': 11506,\n",
       " '交流': 3051,\n",
       " '离开': 21697,\n",
       " '愿意': 13704,\n",
       " '接受': 14888,\n",
       " '继续': 23034,\n",
       " '缓慢': 23143,\n",
       " '快速路': 13354,\n",
       " '主干道': 2432,\n",
       " '此时': 17900,\n",
       " '路边': 26396,\n",
       " '聚集': 23700,\n",
       " '市民': 12099,\n",
       " '围观': 8752,\n",
       " '为了': 2376,\n",
       " '刺激': 6101,\n",
       " '一边': 943,\n",
       " '驱赶': 29517,\n",
       " '群众': 23412,\n",
       " '警方': 25291,\n",
       " '提供': 14991,\n",
       " '一份': 659,\n",
       " '视频': 25210,\n",
       " '了解': 2742,\n",
       " '25': 231,\n",
       " '出现': 5662,\n",
       " '监控': 21033,\n",
       " '穿着': 22026,\n",
       " '白色': 20928,\n",
       " '沿着': 18634,\n",
       " '当时': 13037,\n",
       " '正值': 17853,\n",
       " '上班': 1281,\n",
       " '高峰期': 29635,\n",
       " '十字路口': 6697,\n",
       " '排起': 14852,\n",
       " '长队': 28131,\n",
       " '路上': 26378,\n",
       " '纷纷': 22784,\n",
       " '驻足': 29541,\n",
       " '观望': 25165,\n",
       " '不少': 1468,\n",
       " '车辆': 26501,\n",
       " '放慢': 15324,\n",
       " '速度': 27352,\n",
       " '停下': 4413,\n",
       " '脚步': 23884,\n",
       " '依然': 4079,\n",
       " '行进': 24868,\n",
       " '中间': 2313,\n",
       " '一辆': 940,\n",
       " '货车': 25905,\n",
       " '挡住': 14724,\n",
       " '镜头': 28057,\n",
       " '但是': 3792,\n",
       " '再次出现': 5248,\n",
       " '全身': 4823,\n",
       " '裸露': 25023,\n",
       " '朝着': 16794,\n",
       " '周围': 8245,\n",
       " '没有': 18546,\n",
       " '尾随': 11589,\n",
       " '或者': 13834,\n",
       " '上前': 1212,\n",
       " '看到': 21247,\n",
       " '这样': 26943,\n",
       " '情况': 13578,\n",
       " '恐怕': 13499,\n",
       " '大家': 9916,\n",
       " '办法': 6254,\n",
       " '淡定': 19159,\n",
       " '面对': 28910,\n",
       " '这一': 26901,\n",
       " '表示': 24945,\n",
       " '根本': 17515,\n",
       " '不敢': 1498,\n",
       " '心里': 13302,\n",
       " '感觉': 13696,\n",
       " '尴尬': 11537,\n",
       " '跟随': 26358,\n",
       " '作出': 3965,\n",
       " '意想不到': 13662,\n",
       " '举动': 2484,\n",
       " '突然': 22045,\n",
       " '靠近': 28893,\n",
       " '护栏': 14392,\n",
       " '上面': 1316,\n",
       " '控制': 14925,\n",
       " '远离': 27035,\n",
       " '衣服': 24894,\n",
       " '往前走': 13103,\n",
       " '只能': 7694,\n",
       " '紧紧': 22639,\n",
       " '一只': 701,\n",
       " '后面': 8106,\n",
       " '一路上': 935,\n",
       " '耐心': 23565,\n",
       " '安慰': 10816,\n",
       " '听到': 8148,\n",
       " '不断': 1500,\n",
       " '重复': 27721,\n",
       " '一句': 700,\n",
       " '要是': 25119,\n",
       " '遭遇': 27447,\n",
       " '不时': 1509,\n",
       " '试图': 25514,\n",
       " '冲向': 5426,\n",
       " '大暴雨': 9959,\n",
       " '眼睛': 21315,\n",
       " '瞬间': 21354,\n",
       " '帮助': 12214,\n",
       " '大雨': 10074,\n",
       " '来说': 17199,\n",
       " '回家': 8658,\n",
       " '然后': 19791,\n",
       " '微博上': 13203,\n",
       " '照片': 19810,\n",
       " '小心翼翼': 11399,\n",
       " '旁边': 15956,\n",
       " '场景': 9149,\n",
       " '南平': 6932,\n",
       " '下来': 1355,\n",
       " '带到': 12195,\n",
       " '派出所': 18868,\n",
       " '姑娘': 10506,\n",
       " '什么样': 3328,\n",
       " '事情': 2792,\n",
       " '透露': 27272,\n",
       " '湖北': 19398,\n",
       " '家属': 11118,\n",
       " '反映': 7400,\n",
       " '精神病': 22569,\n",
       " '三天': 1121,\n",
       " '陈某': 28452,\n",
       " '老家': 23481,\n",
       " '受挫': 7559,\n",
       " '导致': 11302,\n",
       " '异常': 12791,\n",
       " '产生': 3129,\n",
       " '念头': 13356,\n",
       " '送往': 27192,\n",
       " '医院': 6653,\n",
       " '治疗': 18623,\n",
       " '大大': 9889,\n",
       " '希望': 12171,\n",
       " '早点': 16167,\n",
       " '康复': 12582,\n",
       " '其实': 5132,\n",
       " '到来': 6049,\n",
       " '存在': 10620,\n",
       " '年龄': 12375,\n",
       " '限制': 28502,\n",
       " '你们': 3989,\n",
       " '善良': 8526,\n",
       " '原因': 7213,\n",
       " '一众': 661,\n",
       " '这个': 26903,\n",
       " '哥哥': 8402,\n",
       " '一辈子': 942,\n",
       " '想想': 13633,\n",
       " '自己': 23952,\n",
       " '家人': 11107,\n",
       " '同时': 8015,\n",
       " '感谢': 13699,\n",
       " '聆听': 23594,\n",
       " '心灵': 13284,\n",
       " '点赞': 19698,\n",
       " '警察': 25282,\n",
       " '就是': 11521,\n",
       " '援手': 15048,\n",
       " '男子': 20736,\n",
       " '女方': 10403,\n",
       " '20': 173,\n",
       " '50': 314,\n",
       " '上午': 1216,\n",
       " '淮安市': 19165,\n",
       " '公安局': 4913,\n",
       " '一个': 639,\n",
       " '奇怪': 10266,\n",
       " '报警': 14415,\n",
       " '电话': 20721,\n",
       " '言语': 25267,\n",
       " '不清': 1526,\n",
       " '声称': 9511,\n",
       " '遭到': 27443,\n",
       " '侵害': 4108,\n",
       " '几个': 5528,\n",
       " '关键词': 5094,\n",
       " '民警': 18209,\n",
       " '紧张': 22629,\n",
       " '起来': 26215,\n",
       " '受到': 7549,\n",
       " 'a股': 425,\n",
       " '纳入': 22763,\n",
       " 'msci': 511,\n",
       " '指数': 14686,\n",
       " '利好': 6003,\n",
       " '消息': 19083,\n",
       " '市场': 12068,\n",
       " '周三': 8235,\n",
       " '再度': 5244,\n",
       " '上演': 1280,\n",
       " '行情': 24843,\n",
       " '周四': 8244,\n",
       " '金融股': 27862,\n",
       " '白马股': 20943,\n",
       " '表现': 24941,\n",
       " '喜人': 8529,\n",
       " '尾盘': 11587,\n",
       " '跳水': 26408,\n",
       " '之后': 2533,\n",
       " '金融': 27849,\n",
       " '板块': 17253,\n",
       " '维系': 23086,\n",
       " '状态': 20073,\n",
       " '分析': 5757,\n",
       " '人士': 3223,\n",
       " '认为': 25327,\n",
       " '受益': 7567,\n",
       " '估值': 3774,\n",
       " '重获': 27766,\n",
       " '资金': 26056,\n",
       " '青睐': 28826,\n",
       " '存量': 10629,\n",
       " '博弈': 6985,\n",
       " '格局': 17532,\n",
       " '风格': 29177,\n",
       " '交替': 3049,\n",
       " '震荡': 28771,\n",
       " '延续': 12602,\n",
       " '流动性': 18883,\n",
       " '改善': 15269,\n",
       " '经济': 22891,\n",
       " '悲观': 13573,\n",
       " '预期': 29056,\n",
       " '修正': 4280,\n",
       " '有助于': 16678,\n",
       " '支撑': 15196,\n",
       " '继而': 23038,\n",
       " '大盘': 10011,\n",
       " '逐步': 27279,\n",
       " '再现': 5251,\n",
       " '未能': 16861,\n",
       " '上行': 1293,\n",
       " '态势': 13374,\n",
       " '两市': 1861,\n",
       " '成交': 13749,\n",
       " '小幅': 11393,\n",
       " '放量': 15344,\n",
       " '29': 247,\n",
       " '中信': 2012,\n",
       " '一级': 899,\n",
       " '行业': 24823,\n",
       " '收盘': 15238,\n",
       " '银行': 27986,\n",
       " '非银行': 28887,\n",
       " '两个': 1811,\n",
       " '收红': 15245,\n",
       " '分别': 5720,\n",
       " '上涨': 1275,\n",
       " '80': 375,\n",
       " '二级': 2836,\n",
       " '来看': 17193,\n",
       " '股份制': 23734,\n",
       " '城商行': 9265,\n",
       " '涨幅': 19137,\n",
       " '最高': 16636,\n",
       " '达到': 26705,\n",
       " '22': 216,\n",
       " '国有银行': 8861,\n",
       " '82': 380,\n",
       " '信托': 4256,\n",
       " '及其': 7317,\n",
       " '64': 346,\n",
       " '保险': 4215,\n",
       " '34': 267,\n",
       " '证券': 25457,\n",
       " '06': 10,\n",
       " '成分股': 13759,\n",
       " '共有': 5037,\n",
       " '21': 207,\n",
       " '其中': 5122,\n",
       " '招商银行': 14576,\n",
       " '最大': 16608,\n",
       " '66': 350,\n",
       " '贵阳': 25982,\n",
       " '65': 347,\n",
       " '华夏银行': 6802,\n",
       " '浦发银行': 18949,\n",
       " '兴业银行': 5099,\n",
       " '超过': 26264,\n",
       " '17': 101,\n",
       " '个股': 1984,\n",
       " '安信': 10762,\n",
       " '中国': 2055,\n",
       " '居前': 11613,\n",
       " '两名': 1833,\n",
       " '57': 327,\n",
       " '04': 8,\n",
       " '华安': 6806,\n",
       " '人寿': 3229,\n",
       " '新华': 15773,\n",
       " '相对而言': 21175,\n",
       " '券商': 6096,\n",
       " '下跌': 1375,\n",
       " '近期': 26869,\n",
       " '消息面': 19085,\n",
       " '宣布': 11075,\n",
       " '2018': 194,\n",
       " '新兴': 15760,\n",
       " '群体': 23418,\n",
       " '团队': 8723,\n",
       " '指出': 14668,\n",
       " '最新': 16618,\n",
       " '包含': 6484,\n",
       " '222': 219,\n",
       " '剔除': 6172,\n",
       " '中等': 2253,\n",
       " '市值': 12064,\n",
       " '互联互通': 2888,\n",
       " '交易': 3034,\n",
       " '股票': 23744,\n",
       " '以及': 3468,\n",
       " '停牌': 4430,\n",
       " '标的': 17432,\n",
       " '由于': 20615,\n",
       " '很多': 13133,\n",
       " 'h股': 479,\n",
       " '权重': 17024,\n",
       " '上升': 1215,\n",
       " '73': 362,\n",
       " '40': 284,\n",
       " '11': 27,\n",
       " '消费': 19093,\n",
       " '24': 226,\n",
       " '26': 235,\n",
       " '涵盖': 19146,\n",
       " '大部分': 10058,\n",
       " '权重股': 17025,\n",
       " '动态': 6362,\n",
       " '加入': 6279,\n",
       " '比高': 18108,\n",
       " '金融公司': 27854,\n",
       " '增加': 9450,\n",
       " '近一半': 26846,\n",
       " '其他': 5125,\n",
       " '稀释': 21917,\n",
       " '尽管': 11578,\n",
       " '事件': 2773,\n",
       " '短期': 21383,\n",
       " '有所': 16697,\n",
       " '提振': 15005,\n",
       " '中长期': 2312,\n",
       " '海外': 18993,\n",
       " '增量': 9473,\n",
       " '升温': 6742,\n",
       " '短期内': 21384,\n",
       " '不能': 1551,\n",
       " '有效': 16704,\n",
       " '放大': 15316,\n",
       " '情景': 13590,\n",
       " '难以': 28608,\n",
       " '持续': 14649,\n",
       " '改变': 15266,\n",
       " '光大': 4584,\n",
       " '并未': 12390,\n",
       " '引起': 12822,\n",
       " '太大': 10170,\n",
       " '热情': 19741,\n",
       " '成交量': 13751,\n",
       " '较为': 26613,\n",
       " '平淡': 12307,\n",
       " '较大': 26615,\n",
       " '变化': 7584,\n",
       " '成长': 13808,\n",
       " '题材股': 29138,\n",
       " '全天': 4772,\n",
       " '低迷': 3826,\n",
       " '表明': 24932,\n",
       " '很少': 13137,\n",
       " '不同': 1439,\n",
       " '之间': 2576,\n",
       " '使得': 4021,\n",
       " '难有': 28621,\n",
       " '突破': 22046,\n",
       " '中期': 2223,\n",
       " '依旧': 4071,\n",
       " '维持': 23075,\n",
       " '虽然': 24764,\n",
       " '至今': 24028,\n",
       " '夏普': 9583,\n",
       " '智能手机': 16475,\n",
       " '无法': 16038,\n",
       " '完全': 10863,\n",
       " '2013': 188,\n",
       " '退出': 27168,\n",
       " '月份': 16647,\n",
       " '官方': 10896,\n",
       " '回归': 8660,\n",
       " '预示': 29060,\n",
       " '很快': 13139,\n",
       " '登场': 20880,\n",
       " '第一款': 22210,\n",
       " '登陆': 20895,\n",
       " '怎么样': 13379,\n",
       " '近日': 26868,\n",
       " '型号': 9218,\n",
       " '神秘': 21626,\n",
       " '悄然': 13547,\n",
       " '相关': 21162,\n",
       " '并非': 12402,\n",
       " '定位': 10907,\n",
       " '配备': 27611,\n",
       " '内存': 5195,\n",
       " '最受': 16604,\n",
       " '瞩目': 21352,\n",
       " '芯片': 24229,\n",
       " '之一': 2512,\n",
       " '采用': 27667,\n",
       " '14': 66,\n",
       " '纳米': 22772,\n",
       " '工艺': 11902,\n",
       " '八个': 4847,\n",
       " '260': 236,\n",
       " '设计': 25439,\n",
       " '当前': 13019,\n",
       " '市面上': 12108,\n",
       " '只有': 7692,\n",
       " '上市': 1238,\n",
       " '销售': 28007,\n",
       " 'oppo': 568,\n",
       " '改进': 15289,\n",
       " '明显': 16276,\n",
       " '所以': 13937,\n",
       " '放在': 15314,\n",
       " '变成': 7593,\n",
       " '高端': 29688,\n",
       " '不过': 1583,\n",
       " '签署': 22393,\n",
       " '协议': 6845,\n",
       " '两三个': 1809,\n",
       " '时间': 16232,\n",
       " '既然': 16072,\n",
       " '测试': 18922,\n",
       " '说明': 25631,\n",
       " '只要': 7696,\n",
       " '时期': 16207,\n",
       " '新品': 15784,\n",
       " '之前': 2529,\n",
       " '曝光': 16522,\n",
       " '渲染': 19361,\n",
       " '竞争': 22108,\n",
       " '优势': 3623,\n",
       " '全面': 4835,\n",
       " '推出': 14944,\n",
       " '全球': 4801,\n",
       " '首款': 29349,\n",
       " '多达': 9783,\n",
       " '28': 243,\n",
       " '媒体': 10581,\n",
       " '沟通': 18536,\n",
       " '会上': 3655,\n",
       " '各位': 7868,\n",
       " '时代': 16183,\n",
       " '怀揣': 13364,\n",
       " '成为': 13748,\n",
       " '沙漠': 18524,\n",
       " '雄鹰': 28642,\n",
       " '有利': 16671,\n",
       " '消化': 19081,\n",
       " '筹码': 22383,\n",
       " '开盘': 12754,\n",
       " '上证': 1299,\n",
       " '蓝筹': 24702,\n",
       " '带动': 12196,\n",
       " '一度': 776,\n",
       " '站上': 22098,\n",
       " '60': 334,\n",
       " '120': 40,\n",
       " '均线': 9158,\n",
       " '黑天鹅': 29910,\n",
       " '万达': 1071,\n",
       " '电影': 20684,\n",
       " '暴跌': 16514,\n",
       " '拖累': 14566,\n",
       " '绝大多数': 22998,\n",
       " '分道扬镳': 5786,\n",
       " '次新股': 17774,\n",
       " '大幅': 9935,\n",
       " '各大': 7877,\n",
       " '全线': 4811,\n",
       " '不见': 1564,\n",
       " '不可': 1429,\n",
       " '短线': 21390,\n",
       " '策略': 22371,\n",
       " '题材': 29137,\n",
       " '为主': 2375,\n",
       " '区域': 6611,\n",
       " '概念股': 17713,\n",
       " '调整': 25701,\n",
       " '压力': 7188,\n",
       " '仍然': 3376,\n",
       " '突出': 22033,\n",
       " '再次': 5247,\n",
       " '大跌': 10047,\n",
       " '处于': 9514,\n",
       " '底部': 12542,\n",
       " '低位': 3802,\n",
       " '反复': 7385,\n",
       " '夯实': 10206,\n",
       " '蓝筹股': 24703,\n",
       " '承压': 14214,\n",
       " '告一段落': 8219,\n",
       " '后期': 8088,\n",
       " '需要': 28764,\n",
       " '接力': 14884,\n",
       " '走向': 26152,\n",
       " '今日': 3362,\n",
       " '要闻': 25128,\n",
       " '央行': 10203,\n",
       " '上海': 1257,\n",
       " '总部': 13486,\n",
       " '债券': 4341,\n",
       " '北向': 6559,\n",
       " '境外': 9428,\n",
       " '投资者': 14324,\n",
       " '准入': 5484,\n",
       " '备案': 9538,\n",
       " '业务': 1716,\n",
       " '指引': 14678,\n",
       " '我国': 13815,\n",
       " '信用': 4258,\n",
       " '法规': 18694,\n",
       " '标准': 17415,\n",
       " '研究': 21450,\n",
       " '加快': 6305,\n",
       " '推进': 14971,\n",
       " '易居': 16309,\n",
       " '房地产': 13918,\n",
       " '研究院': 21459,\n",
       " '房贷利率': 13931,\n",
       " '楼市': 17704,\n",
       " '报告': 14402,\n",
       " '许多': 25413,\n",
       " '城市': 9269,\n",
       " '个人': 1954,\n",
       " '住房贷款': 3836,\n",
       " '利率': 6018,\n",
       " '程度': 21921,\n",
       " '水污染': 18302,\n",
       " '防治法': 28245,\n",
       " '修正案': 4281,\n",
       " '草案': 24417,\n",
       " '二审': 2816,\n",
       " '更大': 16540,\n",
       " '力度': 6227,\n",
       " '保护': 4182,\n",
       " '环境': 20284,\n",
       " '结算': 22975,\n",
       " '开展': 12702,\n",
       " '一人': 652,\n",
       " '多户': 9738,\n",
       " '通知': 27324,\n",
       " '启动': 8160,\n",
       " '同一': 7989,\n",
       " '开立': 12757,\n",
       " '以上': 3455,\n",
       " '账户': 25887,\n",
       " '文件': 15588,\n",
       " '要求': 25120,\n",
       " '23': 221,\n",
       " '日后': 16088,\n",
       " '交易日': 3045,\n",
       " '确认': 21507,\n",
       " '中止': 2231,\n",
       " '十三': 6662,\n",
       " '金融市场': 27857,\n",
       " '交易额': 3048,\n",
       " '2000': 175,\n",
       " '万亿': 998,\n",
       " '宏观': 10883,\n",
       " '稳定': 21948,\n",
       " '双重': 7373,\n",
       " '因素': 8704,\n",
       " '鼓舞': 29957,\n",
       " '国际': 8903,\n",
       " '基金': 9354,\n",
       " '经理': 22919,\n",
       " '2017': 192,\n",
       " '下半年': 1333,\n",
       " '股市': 23736,\n",
       " '有望': 16711,\n",
       " '转好': 26537,\n",
       " '十年': 6698,\n",
       " '增长': 9474,\n",
       " '创新': 5952,\n",
       " '驱动': 29513,\n",
       " '回顾': 8687,\n",
       " '早盘': 16169,\n",
       " '冲高': 5436,\n",
       " '回落': 8682,\n",
       " '走势': 26151,\n",
       " '盘面': 21072,\n",
       " '300': 251,\n",
       " '盘中': 21063,\n",
       " '新高': 15899,\n",
       " '分化': 5723,\n",
       " '相当': 21178,\n",
       " '上证指数': 1300,\n",
       " '45': 298,\n",
       " '较前': 26614,\n",
       " '76': 368,\n",
       " '跌幅': 26336,\n",
       " '深成指': 19200,\n",
       " '101': 18,\n",
       " '97': 406,\n",
       " '98': 407,\n",
       " '创业板': 5930,\n",
       " '38': 278,\n",
       " '400': 285,\n",
       " '品种': 8344,\n",
       " '计算': 25314,\n",
       " 'st': 595,\n",
       " '股改': 23739,\n",
       " '涨停': 19135,\n",
       " '不足': 1581,\n",
       " '亿元': 3308,\n",
       " '大增': 9885,\n",
       " '800': 376,\n",
       " '多亿元': 9685,\n",
       " '数据': 15533,\n",
       " '主力': 2414,\n",
       " '流出': 18879,\n",
       " '190': 121,\n",
       " '一日': 809,\n",
       " '96': 405,\n",
       " '95': 404,\n",
       " '27': 238,\n",
       " '61': 337,\n",
       " '抛售': 14365,\n",
       " '13': 54,\n",
       " '介入': 3369,\n",
       " '医药': 6651,\n",
       " '制造': 6084,\n",
       " '雄安': 28637,\n",
       " '新区': 15772,\n",
       " '更是': 16550,\n",
       " '高达': 29722,\n",
       " '41': 287,\n",
       " '69': 355,\n",
       " '技术': 14237,\n",
       " '临近': 2361,\n",
       " '半个': 6756,\n",
       " '小时': 11402,\n",
       " '高位': 29599,\n",
       " '回吐': 8653,\n",
       " '失守': 10214,\n",
       " '留下': 20776,\n",
       " '长长的': 28130,\n",
       " '一地': 721,\n",
       " '鸡毛': 29807,\n",
       " '以来': 3477,\n",
       " '每次': 18054,\n",
       " '回调': 8684,\n",
       " '相对': 21173,\n",
       " '低点': 3818,\n",
       " '位置': 3796,\n",
       " '抬升': 14425,\n",
       " '即使': 7133,\n",
       " '乏力': 2604,\n",
       " '总体': 13430,\n",
       " '打破': 14081,\n",
       " '攻克': 15295,\n",
       " '当日': 13036,\n",
       " '上方': 1246,\n",
       " '触及': 25253,\n",
       " '无疑': 16045,\n",
       " '心理': 13286,\n",
       " '负面影响': 25831,\n",
       " '分钟': 5789,\n",
       " '级别': 22731,\n",
       " '形成': 13060,\n",
       " '背离': 23792,\n",
       " '雏形': 28696,\n",
       " '一旦': 811,\n",
       " '跌破': 26337,\n",
       " '意味着': 13651,\n",
       " '成型': 13771,\n",
       " '如此': 10470,\n",
       " '引发': 12805,\n",
       " '日线': 16134,\n",
       " '综合': 23094,\n",
       " '处在': 9517,\n",
       " '区间': 6620,\n",
       " '脆弱': 23860,\n",
       " '心态': 13276,\n",
       " '碎片': 21511,\n",
       " '主线': 2459,\n",
       " '模糊': 17739,\n",
       " '热点': 19751,\n",
       " '赚钱': 26078,\n",
       " '效应': 15404,\n",
       " '掣肘': 14878,\n",
       " '以下': 3457,\n",
       " '首先': 29313,\n",
       " '长期': 28094,\n",
       " '人气': 3270,\n",
       " '最近': 16631,\n",
       " '一段时间': 852,\n",
       " '整体': 15563,\n",
       " '走高': 26172,\n",
       " '基础': 9343,\n",
       " '弹性': 12954,\n",
       " '制约': 6077,\n",
       " '绝对': 23000,\n",
       " '大面积': 10077,\n",
       " '与此同时': 1606,\n",
       " '现在': 20321,\n",
       " '场内': 9141,\n",
       " '非常': 28858,\n",
       " '频繁': 29129,\n",
       " '今天': 3352,\n",
       " '明天': 16267,\n",
       " '就要': 11529,\n",
       " '打击': 14043,\n",
       " '积极性': 21876,\n",
       " '其次': 5134,\n",
       " '反弹': 7394,\n",
       " '重要': 27767,\n",
       " '仅靠': 3347,\n",
       " '拉升': 14485,\n",
       " '这种': 26955,\n",
       " '持久': 14638,\n",
       " '大涨': 9988,\n",
       " '似乎': 3788,\n",
       " '不买账': 1394,\n",
       " '极少': 17267,\n",
       " '一直': 877,\n",
       " '吸引': 8201,\n",
       " '加码': 6332,\n",
       " '中小': 2164,\n",
       " '面临': 28896,\n",
       " '强大': 12970,\n",
       " '套现': 10323,\n",
       " '午后': 6751,\n",
       " '复星': 9559,\n",
       " '闪崩': 28154,\n",
       " '踩踏': 26428,\n",
       " '受此': 7563,\n",
       " '收复': 15224,\n",
       " '投资': 14319,\n",
       " '建议': 12661,\n",
       " '强于': 12957,\n",
       " '始终': 10501,\n",
       " '缺乏': 23191,\n",
       " '支持': 15192,\n",
       " '背景': 23790,\n",
       " '后续': 8093,\n",
       " '跟上': 26352,\n",
       " '活跃': 18861,\n",
       " '转战': 26540,\n",
       " '降低': 28482,\n",
       " '配置': 27622,\n",
       " '加大': 6288,\n",
       " '盘子': 21065,\n",
       " '超跌': 26261,\n",
       " '纠缠': 22675,\n",
       " '促使': 4127,\n",
       " '3180': 259,\n",
       " '能否': 23847,\n",
       " '真正': 21293,\n",
       " '观察': 25154,\n",
       " '几日': 5555,\n",
       " '基于': 9306,\n",
       " '组合': 22819,\n",
       " '偏向': 4376,\n",
       " '因此': 8700,\n",
       " '股指': 23738,\n",
       " '下方': 1353,\n",
       " '获得': 24520,\n",
       " '操作': 15170,\n",
       " '粤港澳': 22530,\n",
       " '大湾': 9990,\n",
       " '论坛': 25422,\n",
       " '腾讯': 23920,\n",
       " '人工智能': 3234,\n",
       " ...}"
      ]
     },
     "execution_count": 72,
     "metadata": {},
     "output_type": "execute_result"
    }
   ],
   "source": [
    "vectorizer.vocabulary_"
   ]
  },
  {
   "cell_type": "code",
   "execution_count": 78,
   "metadata": {
    "collapsed": true
   },
   "outputs": [],
   "source": [
    "from functools import reduce"
   ]
  },
  {
   "cell_type": "code",
   "execution_count": 79,
   "metadata": {
    "collapsed": true
   },
   "outputs": [],
   "source": [
    "import operator as op"
   ]
  },
  {
   "cell_type": "code",
   "execution_count": 84,
   "metadata": {
    "collapsed": true
   },
   "outputs": [],
   "source": [
    "def prodIntersection(sets):\n",
    "    return reduce(op.and_, sets)"
   ]
  },
  {
   "cell_type": "code",
   "execution_count": 85,
   "metadata": {},
   "outputs": [
    {
     "data": {
      "text/plain": [
       "{1, 2}"
      ]
     },
     "execution_count": 85,
     "metadata": {},
     "output_type": "execute_result"
    }
   ],
   "source": [
    "prodIntersection([{1, 2, 3}, {1, 2}])"
   ]
  },
  {
   "cell_type": "code",
   "execution_count": 167,
   "metadata": {},
   "outputs": [],
   "source": [
    "article_one_words_id = np.where(X_content[0].toarray()[0])[0]"
   ]
  },
  {
   "cell_type": "code",
   "execution_count": 174,
   "metadata": {},
   "outputs": [
    {
     "data": {
      "text/plain": [
       "array([0.40030771, 0.3566469 , 0.22755048, 0.22338446, 0.21054757,\n",
       "       0.20015385, 0.19571384, 0.18398833, 0.16527315, 0.16468233,\n",
       "       0.16180044, 0.1610011 , 0.15523609, 0.15457139, 0.14737251,\n",
       "       0.146817  , 0.13426477, 0.13027367, 0.12815933, 0.12318049])"
      ]
     },
     "execution_count": 174,
     "metadata": {},
     "output_type": "execute_result"
    }
   ],
   "source": [
    "np.sort(X_content[0].toarray()[0])[-20:][::-1]"
   ]
  },
  {
   "cell_type": "code",
   "execution_count": 155,
   "metadata": {},
   "outputs": [
    {
     "data": {
      "text/plain": [
       "16971"
      ]
     },
     "execution_count": 155,
     "metadata": {},
     "output_type": "execute_result"
    }
   ],
   "source": [
    "np.argmax(X_content[0].toarray(), out=)"
   ]
  },
  {
   "cell_type": "code",
   "execution_count": 182,
   "metadata": {
    "collapsed": true
   },
   "outputs": [],
   "source": [
    "def get_article_by_one_input(article_id, match_num=1.):\n",
    "    article_wors_id = np.where(X_content[article_id].toarray())[1]\n",
    "    if isinstance(match_num, float):\n",
    "        num = int(len(article_wors_id) * match_num)\n",
    "        ids = np.random.choice(article_wors_id, num)\n",
    "    elif isinstance(match_num, int):\n",
    "        num = match_num\n",
    "        ids = np.argsort(X_content[article_id].toarray()[0])[-num:][::-1]\n",
    "    return prodIntersection(get_articles_by_word_id(i) for i in ids)"
   ]
  },
  {
   "cell_type": "code",
   "execution_count": 110,
   "metadata": {},
   "outputs": [
    {
     "data": {
      "text/plain": [
       "{0}"
      ]
     },
     "execution_count": 110,
     "metadata": {},
     "output_type": "execute_result"
    }
   ],
   "source": [
    "prodIntersection(get_articles_by_word_id(i) for i in article_one_words_id)"
   ]
  },
  {
   "cell_type": "code",
   "execution_count": 183,
   "metadata": {},
   "outputs": [
    {
     "data": {
      "text/plain": [
       "{3, 39}"
      ]
     },
     "execution_count": 183,
     "metadata": {},
     "output_type": "execute_result"
    }
   ],
   "source": [
    "get_article_by_one_input(article_id=3, match_num=10)"
   ]
  },
  {
   "cell_type": "code",
   "execution_count": 131,
   "metadata": {},
   "outputs": [
    {
     "data": {
      "text/plain": [
       "id                                                       89543\n",
       "author                                                     NaN\n",
       "source                                                   中国经济网\n",
       "content      免责 声明 ： 本文 仅 代表 作者 个人观点 ， 与 环球网 无关 。 其 原创性 以及 ...\n",
       "feature      {\"type\":\"国内新闻\",\"site\":\"环球\",\"commentNum\":\"0\",\"j...\n",
       "title                          【 图解 】 香港 各界 政要 热议 “ 一带 一路 ” 倡议\n",
       "url          http://china.huanqiu.com/hot/2017-06/10866428....\n",
       "is_xinhua                                                    0\n",
       "Name: 74, dtype: object"
      ]
     },
     "execution_count": 131,
     "metadata": {},
     "output_type": "execute_result"
    }
   ],
   "source": [
    "content.iloc[74]"
   ]
  },
  {
   "cell_type": "code",
   "execution_count": 134,
   "metadata": {},
   "outputs": [
    {
     "data": {
      "text/plain": [
       "id                                                       89209\n",
       "author                                                     NaN\n",
       "source                                                   中国新闻网\n",
       "content      中新社 江苏 盐城 6 月 23 日电   ( 记者   于 从文 ) 粉墙黛瓦 ， 花木扶...\n",
       "feature      {\"type\":\"社会滚动\",\"site\":\"参考消息\",\"commentNum\":\"0\",...\n",
       "title                 盐城 “ 6 · 23 ” 风灾 一年 后 5164 户 受灾 民众 迁入 新居\n",
       "url          http://www.cankaoxiaoxi.com/society/20170623/2...\n",
       "is_xinhua                                                    0\n",
       "Name: 408, dtype: object"
      ]
     },
     "execution_count": 134,
     "metadata": {},
     "output_type": "execute_result"
    }
   ],
   "source": [
    "# article: 423 match set: {408, 411, 423}\n",
    "content.iloc[408]"
   ]
  },
  {
   "cell_type": "code",
   "execution_count": 135,
   "metadata": {},
   "outputs": [
    {
     "data": {
      "text/plain": [
       "id                                                       89206\n",
       "author                                                     NaN\n",
       "source                                                   中国新闻网\n",
       "content      中新社 江苏 盐城 6 月 23 日电   ( 记者   于 从文 ) 粉墙黛瓦 ， 花木扶...\n",
       "feature      {\"type\":\"社会滚动供wifi\",\"site\":\"参考消息\",\"commentNum\"...\n",
       "title                 盐城 “ 6 · 23 ” 风灾 一年 后 5164 户 受灾 民众 迁入 新居\n",
       "url          http://www.cankaoxiaoxi.com/society/rollwifi/2...\n",
       "is_xinhua                                                    0\n",
       "Name: 411, dtype: object"
      ]
     },
     "execution_count": 135,
     "metadata": {},
     "output_type": "execute_result"
    }
   ],
   "source": [
    "content.iloc[411]"
   ]
  },
  {
   "cell_type": "code",
   "execution_count": 137,
   "metadata": {},
   "outputs": [
    {
     "data": {
      "text/plain": [
       "id                                                       89194\n",
       "author                                                     NaN\n",
       "source                                                   中国新闻网\n",
       "content      中新社 江苏 盐城 6 月 23 日电   ( 记者   于 从文 ) 粉墙黛瓦 ， 花木扶...\n",
       "feature      {\"type\":\"社会观察\",\"site\":\"参考消息\",\"commentNum\":\"0\",...\n",
       "title                 盐城 “ 6 · 23 ” 风灾 一年 后 5164 户 受灾 民众 迁入 新居\n",
       "url          http://www.cankaoxiaoxi.com/china/20170623/214...\n",
       "is_xinhua                                                    0\n",
       "Name: 423, dtype: object"
      ]
     },
     "execution_count": 137,
     "metadata": {},
     "output_type": "execute_result"
    }
   ],
   "source": [
    "content.iloc[423]"
   ]
  },
  {
   "cell_type": "code",
   "execution_count": 139,
   "metadata": {},
   "outputs": [
    {
     "data": {
      "text/plain": [
       "'\\u3000 \\u3000 证券时报 网 （ www . stcn . com ） 06 月 23 日讯 \\r\\n \\u3000 \\u3000 据 上证 报道 ， 6 月初 以来 ， 创业板 指数 明显 强于 上证综指 ， 一时间 关于 蓝筹 行情 将 向 成长 股行情 切换 的 预期 再起 。 但 多位 私募 人士 表示 ， 蓝筹股 与 成长 股 这 两年 并非 绝对 的 此消彼长 。 本轮 蓝筹股 上涨 行情 的 主要 推动力 就是 业绩 成长 ， 而 业绩 与 估值 匹配 才 是 王道 。 上述 私募 人士 依然 看好 成长性 突出 的 蓝筹股 。 \\r\\n'"
      ]
     },
     "execution_count": 139,
     "metadata": {},
     "output_type": "execute_result"
    }
   ],
   "source": [
    "content.iloc[10]['content']"
   ]
  },
  {
   "cell_type": "code",
   "execution_count": 140,
   "metadata": {
    "collapsed": true
   },
   "outputs": [],
   "source": [
    "# 29, 131, 263, 135, 138, 267, 12, 140, 141, 275, 150, 281, 27, 30, 31, 286, 291, 41, 298, 48, 305, 53, 55, 312, 57, 314, 63, 66, 71, 72, 74, 78, 80, 85, 90, 218, 221, 95, 225, 227, 228, 102, 110, 113, 242, 245, 118, 247, 122, 125, 127"
   ]
  },
  {
   "cell_type": "code",
   "execution_count": 148,
   "metadata": {},
   "outputs": [],
   "source": [
    "def print_content(ids):\n",
    "    for i in ids:\n",
    "        print('id == {} from == {} content = {}'.format(i, content.iloc[i]['source'], content.iloc[i]['content'][:100]))"
   ]
  },
  {
   "cell_type": "code",
   "execution_count": 187,
   "metadata": {},
   "outputs": [
    {
     "name": "stdout",
     "output_type": "stream",
     "text": [
      "id == 413 from == 北京青年报@ content = 银监会 等 部门 要求 网贷 平台 一律 暂停 校园 贷 业务 ， 并 明确 退出 时间表 。 银监会 、 教育部 、 人力资源 社会保障部 近日 下发 通知 ， 要求 未经 银行业 监管部门 批准 \n",
      "id == 2366 from == 每日经济新闻 content = 近年来 ， 有关 校园 “ 裸贷 ” 、 “ 暴力 催收 ” 等 事件 频频 曝光 。 \r\n",
      " 一些 鉴别能力 不高 ， 社会 经验不足 的 大学生 ， 或 出于 渴望 消费 、 满足 物欲 ， 或是 \n",
      "id == 159 from == 每日经济新闻@ content = 《 通知 》 称 ， 商业银行 和 政策性 银行 在 风险 可控 的 前提 下 ， 有 针对性 地 开发 高校 助学 、 培训 、 消费 、 创业 等 金融 产品 ， 而 未经 银行业 监管部门 批准\n"
     ]
    }
   ],
   "source": [
    "print_content({413, 2366, 159})"
   ]
  },
  {
   "cell_type": "code",
   "execution_count": 186,
   "metadata": {},
   "outputs": [
    {
     "name": "stdout",
     "output_type": "stream",
     "text": [
      "article: 17 match set: {17, 653}\n",
      "article: 65 match set: {65, 431}\n",
      "article: 74 match set: {129, 131, 263, 135, 138, 267, 12, 140, 141, 275, 150, 281, 27, 30, 286, 31, 291, 41, 298, 48, 305, 53, 55, 312, 57, 314, 63, 66, 71, 72, 74, 78, 80, 85, 90, 218, 221, 95, 225, 227, 228, 102, 110, 113, 242, 245, 118, 247, 122, 125, 127}\n",
      "article: 78 match set: {314, 78}\n",
      "article: 131 match set: {298, 131}\n",
      "article: 159 match set: {413, 159}\n",
      "article: 236 match set: {948, 236}\n",
      "article: 262 match set: {112, 262}\n",
      "article: 296 match set: {296, 790}\n",
      "article: 298 match set: {298, 131}\n",
      "article: 314 match set: {314, 78}\n",
      "article: 331 match set: {331, 335}\n",
      "article: 335 match set: {331, 335}\n",
      "article: 386 match set: {386, 394}\n",
      "article: 394 match set: {386, 394}\n",
      "article: 406 match set: {426, 406, 407}\n",
      "article: 407 match set: {426, 406, 407}\n",
      "article: 408 match set: {408, 411, 423}\n",
      "article: 411 match set: {408, 411, 423}\n",
      "article: 417 match set: {417, 419, 956}\n",
      "article: 419 match set: {417, 419, 956}\n",
      "article: 423 match set: {408, 411, 423}\n",
      "article: 426 match set: {426, 406, 407}\n",
      "article: 457 match set: {457, 460, 318}\n",
      "article: 460 match set: {457, 460, 318}\n",
      "article: 545 match set: {545, 909}\n",
      "article: 552 match set: {552, 567}\n",
      "article: 567 match set: {552, 567}\n",
      "article: 569 match set: {569, 579}\n",
      "article: 570 match set: {570, 581}\n",
      "article: 573 match set: {573, 583}\n",
      "article: 579 match set: {569, 579}\n",
      "article: 581 match set: {570, 581}\n",
      "article: 583 match set: {573, 583}\n",
      "article: 603 match set: {603, 619}\n",
      "article: 604 match set: {640, 604}\n",
      "article: 619 match set: {603, 619}\n",
      "article: 627 match set: {627, 655}\n",
      "article: 640 match set: {640, 604}\n",
      "article: 641 match set: {960, 641}\n",
      "article: 653 match set: {17, 653}\n",
      "article: 655 match set: {627, 655}\n",
      "article: 750 match set: {750, 271}\n",
      "article: 756 match set: {756, 815}\n",
      "article: 790 match set: {296, 790}\n",
      "article: 815 match set: {756, 815}\n",
      "article: 906 match set: {906, 932}\n",
      "article: 920 match set: {920, 932}\n",
      "article: 928 match set: {648, 928}\n",
      "article: 948 match set: {948, 236}\n",
      "article: 960 match set: {960, 641}\n",
      "article: 1002 match set: {994, 1002}\n",
      "article: 1004 match set: {707, 1004}\n",
      "article: 1008 match set: {1008, 999}\n",
      "article: 1009 match set: {1009, 943}\n",
      "article: 1011 match set: {1011, 934}\n",
      "article: 1019 match set: {1019, 949}\n",
      "article: 1037 match set: {961, 1037}\n",
      "article: 1082 match set: {1082, 764}\n",
      "article: 1097 match set: {1097, 252}\n",
      "article: 1259 match set: {1259, 405}\n",
      "article: 1308 match set: {915, 1308}\n",
      "article: 1337 match set: {1337, 516}\n",
      "article: 1630 match set: {106, 1630}\n",
      "article: 1704 match set: {1704, 883}\n",
      "article: 1926 match set: {218, 1926}\n",
      "article: 1994 match set: {1994, 612}\n",
      "article: 2108 match set: {888, 2108}\n",
      "article: 2124 match set: {932, 2124}\n",
      "article: 2129 match set: {2129, 519}\n",
      "article: 2132 match set: {2132, 182}\n",
      "article: 2138 match set: {753, 2138}\n",
      "article: 2166 match set: {285, 2166}\n",
      "article: 2183 match set: {285, 2183}\n",
      "article: 2222 match set: {201, 2222}\n",
      "article: 2348 match set: {2348, 150}\n",
      "article: 2366 match set: {413, 2366, 159}\n",
      "article: 2389 match set: {522, 2389}\n",
      "article: 2496 match set: {2496, 643}\n",
      "article: 2579 match set: {2579, 862}\n",
      "article: 2589 match set: {2589, 285}\n",
      "article: 2604 match set: {2604, 854}\n",
      "article: 2619 match set: {866, 2619}\n",
      "article: 2631 match set: {891, 2631}\n",
      "article: 2683 match set: {873, 2683}\n",
      "article: 2685 match set: {876, 2685}\n",
      "article: 2697 match set: {2697, 891}\n",
      "article: 2699 match set: {2699, 879}\n",
      "article: 2710 match set: {285, 2710}\n"
     ]
    }
   ],
   "source": [
    "test_mode = True\n",
    "for i, a in enumerate(range(len(content))):\n",
    "    if test_mode and i > 3000: break\n",
    "    try:\n",
    "        match_articles = get_article_by_one_input(article_id=a, match_num=20)\n",
    "    except ValueError: pass\n",
    "    \n",
    "    match_articles.add(a)\n",
    "    if len(match_articles) > 1: \n",
    "        print('article: {} match set: {}'.format(a, match_articles))"
   ]
  },
  {
   "cell_type": "code",
   "execution_count": 122,
   "metadata": {},
   "outputs": [
    {
     "data": {
      "text/plain": [
       "id                                                       89614\n",
       "author                                                     NaN\n",
       "source                                                     新华社\n",
       "content      这是 6 月 18 日 在 葡萄牙 中部 大 佩德罗 冈 地区 拍摄 的 被 森林 大火 烧...\n",
       "feature      {\"type\":\"国际新闻\",\"site\":\"环球\",\"commentNum\":\"0\",\"j...\n",
       "title             葡 森林 火灾 造成 至少 62 人 死亡   政府 宣布 进入 紧急状态 （ 组图 ）\n",
       "url          http://world.huanqiu.com/hot/2017-06/10866126....\n",
       "is_xinhua                                                    1\n",
       "Name: 3, dtype: object"
      ]
     },
     "execution_count": 122,
     "metadata": {},
     "output_type": "execute_result"
    }
   ],
   "source": [
    "content.iloc[3]"
   ]
  },
  {
   "cell_type": "code",
   "execution_count": 123,
   "metadata": {},
   "outputs": [
    {
     "data": {
      "text/plain": [
       "id                                                       89578\n",
       "author                                                     NaN\n",
       "source                                                     新华社\n",
       "content      这是 6 月 18 日 在 葡萄牙 中部 大 佩德罗 冈 地区 拍摄 的 被 森林 大火 烧...\n",
       "feature      {\"type\":\"国际新闻\",\"site\":\"环球\",\"commentNum\":\"0\",\"j...\n",
       "title                    葡 森林 火灾 造成 至少 62 人 死亡   政府 宣布 进入 紧急状态\n",
       "url          http://world.huanqiu.com/hot/2017-06/10866229....\n",
       "is_xinhua                                                    1\n",
       "Name: 39, dtype: object"
      ]
     },
     "execution_count": 123,
     "metadata": {},
     "output_type": "execute_result"
    }
   ],
   "source": [
    "content.iloc[39]"
   ]
  },
  {
   "cell_type": "code",
   "execution_count": 94,
   "metadata": {
    "collapsed": true
   },
   "outputs": [],
   "source": [
    "def get_articles_by_word_id(word_id):\n",
    "    return set(np.where(X_words_article_id_map[word_id])[0])"
   ]
  },
  {
   "cell_type": "code",
   "execution_count": 96,
   "metadata": {},
   "outputs": [
    {
     "data": {
      "text/plain": [
       "{0,\n",
       " 6,\n",
       " 7,\n",
       " 8,\n",
       " 19,\n",
       " 27,\n",
       " 29,\n",
       " 43,\n",
       " 46,\n",
       " 47,\n",
       " 63,\n",
       " 68,\n",
       " 70,\n",
       " 71,\n",
       " 84,\n",
       " 93,\n",
       " 95,\n",
       " 97,\n",
       " 112,\n",
       " 124,\n",
       " 138,\n",
       " 144,\n",
       " 147,\n",
       " 150,\n",
       " 153,\n",
       " 158,\n",
       " 159,\n",
       " 170,\n",
       " 172,\n",
       " 185,\n",
       " 186,\n",
       " 190,\n",
       " 191,\n",
       " 195,\n",
       " 205,\n",
       " 209,\n",
       " 224,\n",
       " 237,\n",
       " 242,\n",
       " 243,\n",
       " 245,\n",
       " 248,\n",
       " 257,\n",
       " 259,\n",
       " 262,\n",
       " 267,\n",
       " 268,\n",
       " 269,\n",
       " 273,\n",
       " 275,\n",
       " 285,\n",
       " 296,\n",
       " 299,\n",
       " 323,\n",
       " 325,\n",
       " 327,\n",
       " 333,\n",
       " 346,\n",
       " 349,\n",
       " 366,\n",
       " 384,\n",
       " 385,\n",
       " 387,\n",
       " 389,\n",
       " 401,\n",
       " 404,\n",
       " 414,\n",
       " 443,\n",
       " 454,\n",
       " 456,\n",
       " 461,\n",
       " 466,\n",
       " 474,\n",
       " 479,\n",
       " 487,\n",
       " 498,\n",
       " 502,\n",
       " 504,\n",
       " 511,\n",
       " 512,\n",
       " 522,\n",
       " 527,\n",
       " 529,\n",
       " 530,\n",
       " 543,\n",
       " 547,\n",
       " 553,\n",
       " 555,\n",
       " 562,\n",
       " 566,\n",
       " 568,\n",
       " 575,\n",
       " 577,\n",
       " 578,\n",
       " 582,\n",
       " 600,\n",
       " 604,\n",
       " 606,\n",
       " 607,\n",
       " 616,\n",
       " 617,\n",
       " 629,\n",
       " 638,\n",
       " 640,\n",
       " 647,\n",
       " 650,\n",
       " 656,\n",
       " 661,\n",
       " 685,\n",
       " 691,\n",
       " 700,\n",
       " 717,\n",
       " 725,\n",
       " 726,\n",
       " 728,\n",
       " 733,\n",
       " 735,\n",
       " 743,\n",
       " 754,\n",
       " 761,\n",
       " 762,\n",
       " 769,\n",
       " 771,\n",
       " 782,\n",
       " 783,\n",
       " 790,\n",
       " 798,\n",
       " 801,\n",
       " 803,\n",
       " 804,\n",
       " 805,\n",
       " 806,\n",
       " 809,\n",
       " 811,\n",
       " 812,\n",
       " 814,\n",
       " 817,\n",
       " 818,\n",
       " 822,\n",
       " 823,\n",
       " 824,\n",
       " 827,\n",
       " 828,\n",
       " 829,\n",
       " 830,\n",
       " 833,\n",
       " 834,\n",
       " 835,\n",
       " 836,\n",
       " 837,\n",
       " 840,\n",
       " 844,\n",
       " 845,\n",
       " 846,\n",
       " 848,\n",
       " 864,\n",
       " 875,\n",
       " 879,\n",
       " 885,\n",
       " 914,\n",
       " 920,\n",
       " 927,\n",
       " 929,\n",
       " 932,\n",
       " 933,\n",
       " 944,\n",
       " 956,\n",
       " 962,\n",
       " 972,\n",
       " 973,\n",
       " 979,\n",
       " 982,\n",
       " 986,\n",
       " 989,\n",
       " 991}"
      ]
     },
     "execution_count": 96,
     "metadata": {},
     "output_type": "execute_result"
    }
   ],
   "source": [
    "set(np.where(X_words_article_id_map[39])[0])"
   ]
  },
  {
   "cell_type": "code",
   "execution_count": null,
   "metadata": {
    "collapsed": true
   },
   "outputs": [],
   "source": []
  },
  {
   "cell_type": "code",
   "execution_count": null,
   "metadata": {
    "collapsed": true
   },
   "outputs": [],
   "source": []
  }
 ],
 "metadata": {
  "kernelspec": {
   "display_name": "Python 3",
   "language": "python",
   "name": "python3"
  },
  "language_info": {
   "codemirror_mode": {
    "name": "ipython",
    "version": 3
   },
   "file_extension": ".py",
   "mimetype": "text/x-python",
   "name": "python",
   "nbconvert_exporter": "python",
   "pygments_lexer": "ipython3",
   "version": "3.6.1"
  }
 },
 "nbformat": 4,
 "nbformat_minor": 2
}
